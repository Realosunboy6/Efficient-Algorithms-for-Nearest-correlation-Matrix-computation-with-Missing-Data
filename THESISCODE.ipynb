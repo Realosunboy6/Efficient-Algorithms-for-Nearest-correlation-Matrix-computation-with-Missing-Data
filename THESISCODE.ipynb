{
 "cells": [
  {
   "cell_type": "markdown",
   "id": "0b79698f",
   "metadata": {},
   "source": [
    "# Packages"
   ]
  },
  {
   "cell_type": "code",
   "execution_count": 1,
   "id": "9d3ec939-8fca-4e40-ba16-cbaa71ad7d91",
   "metadata": {
    "jupyter": {
     "source_hidden": true
    }
   },
   "outputs": [],
   "source": [
    "using CSV, DataFrames, Dates, TSFrames, Statistics, PortfolioAnalytics, LinearAlgebra, TimerOutputs, NearestCorrelationMatrix, NaNStatistics, LinearAlgebra.LAPACK\n",
    "\n",
    "# Create a TimerOutput, this will store all our timing information\n",
    "const to = TimerOutput();\n"
   ]
  },
  {
   "cell_type": "markdown",
   "id": "efe54901",
   "metadata": {},
   "source": [
    "Load Data Function"
   ]
  },
  {
   "cell_type": "code",
   "execution_count": 2,
   "id": "11f1433d-c66c-4eb4-81be-60deb9d03d57",
   "metadata": {
    "jupyter": {
     "source_hidden": true
    }
   },
   "outputs": [
    {
     "data": {
      "text/plain": [
       "load_stocks (generic function with 1 method)"
      ]
     },
     "execution_count": 2,
     "metadata": {},
     "output_type": "execute_result"
    }
   ],
   "source": [
    "function load_stocks(data_dir::String, stock_files::Vector{String})\n",
    "    combined_df = DataFrame()  # Create an empty DataFrame to store the combined data\n",
    "    \n",
    "    # Iterate over each stock file\n",
    "    for file in stock_files\n",
    "        path = joinpath(data_dir, file)  # Get the full path of the file\n",
    "        \n",
    "        if isfile(path)\n",
    "            # Load the CSV file into a DataFrame\n",
    "            df = CSV.read(path, DataFrame)\n",
    "            \n",
    "            # Select required columns (including the ticker symbol)\n",
    "            select!(df, [:Date, :Ticker, :Close, :Sector])\n",
    "            \n",
    "            # Append the DataFrame to the combined DataFrame\n",
    "            append!(combined_df, df)\n",
    "        else\n",
    "            println(\"File not found: $file\")  # Print an error if file is missing\n",
    "        end\n",
    "    end\n",
    "    \n",
    "    return combined_df\n",
    "end"
   ]
  },
  {
   "cell_type": "code",
   "execution_count": 3,
   "id": "6f08ff70",
   "metadata": {
    "jupyter": {
     "source_hidden": true
    }
   },
   "outputs": [
    {
     "name": "stdout",
     "output_type": "stream",
     "text": [
      "\n",
      "Stock Data:\n",
      "\n",
      "\u001b[1m768900×4 DataFrame\u001b[0m\n",
      "\u001b[1m    Row \u001b[0m│\u001b[1m Date                      \u001b[0m\u001b[1m Ticker  \u001b[0m\u001b[1m Close   \u001b[0m\u001b[1m Sector                 \u001b[0m\n",
      "        │\u001b[90m String31                  \u001b[0m\u001b[90m String7 \u001b[0m\u001b[90m Float64 \u001b[0m\u001b[90m String31               \u001b[0m\n",
      "────────┼─────────────────────────────────────────────────────────────────────\n",
      "      1 │ 2020-01-02 00:00:00-05:00  AMZN     94.9005  Consumer Discretionary\n",
      "      2 │ 2020-01-03 00:00:00-05:00  AMZN     93.7485  Consumer Discretionary\n",
      "      3 │ 2020-01-06 00:00:00-05:00  AMZN     95.144   Consumer Discretionary\n",
      "      4 │ 2020-01-07 00:00:00-05:00  AMZN     95.343   Consumer Discretionary\n",
      "      5 │ 2020-01-08 00:00:00-05:00  AMZN     94.5985  Consumer Discretionary\n",
      "      6 │ 2020-01-09 00:00:00-05:00  AMZN     95.0525  Consumer Discretionary\n",
      "      7 │ 2020-01-10 00:00:00-05:00  AMZN     94.158   Consumer Discretionary\n",
      "      8 │ 2020-01-13 00:00:00-05:00  AMZN     94.565   Consumer Discretionary\n",
      "      9 │ 2020-01-14 00:00:00-05:00  AMZN     93.472   Consumer Discretionary\n",
      "     10 │ 2020-01-15 00:00:00-05:00  AMZN     93.101   Consumer Discretionary\n",
      "     11 │ 2020-01-16 00:00:00-05:00  AMZN     93.897   Consumer Discretionary\n",
      "   ⋮    │             ⋮                 ⋮        ⋮               ⋮\n",
      " 768891 │ 2025-07-14 00:00:00-04:00  HE       10.62    Utilities\n",
      " 768892 │ 2025-07-15 00:00:00-04:00  HE       10.46    Utilities\n",
      " 768893 │ 2025-07-16 00:00:00-04:00  HE       10.69    Utilities\n",
      " 768894 │ 2025-07-17 00:00:00-04:00  HE       10.66    Utilities\n",
      " 768895 │ 2025-07-18 00:00:00-04:00  HE       10.74    Utilities\n",
      " 768896 │ 2025-07-21 00:00:00-04:00  HE       10.9     Utilities\n",
      " 768897 │ 2025-07-22 00:00:00-04:00  HE       10.82    Utilities\n",
      " 768898 │ 2025-07-23 00:00:00-04:00  HE       10.86    Utilities\n",
      " 768899 │ 2025-07-24 00:00:00-04:00  HE       10.78    Utilities\n",
      " 768900 │ 2025-07-25 00:00:00-04:00  HE       10.85    Utilities\n",
      "\u001b[36m                                                           768879 rows omitted\u001b[0m"
     ]
    }
   ],
   "source": [
    "# Specify the data directory and list of stock files to load\n",
    "data_dir = \"C:/Users/ibrah/Downloads/thesis asset\"\n",
    "stock_files = [\n",
    "    \"Consumer_Discretionary.csv\", \"Consumer_Staples.csv\", \"Energy.csv\",\n",
    "    \"Financials.csv\", \"Health_Care.csv\", \"Industrials.csv\",         # Note: It must be UFT-8 CSV\n",
    "    \"Information_Technology.csv\", \"Materials.csv\", \"Real_Estate.csv\", \"Communication_Services.csv\", \"Utilities.csv\"\n",
    "]\n",
    "\n",
    "# Call the function to load the stocks\n",
    "combined_df = load_stocks(data_dir, stock_files)\n",
    "\n",
    "# Display the combined DataFrame\n",
    "println(\"\\nStock Data:\\n\")\n",
    "show(combined_df)"
   ]
  },
  {
   "cell_type": "code",
   "execution_count": 4,
   "id": "7a6b627a-6435-4394-955e-c7beb4baa157",
   "metadata": {
    "jupyter": {
     "source_hidden": true
    }
   },
   "outputs": [
    {
     "name": "stdout",
     "output_type": "stream",
     "text": [
      "\n",
      "Number of Stocks in Each Sector:\n",
      "\n",
      "\u001b[1m11×2 DataFrame\u001b[0m\n",
      "\u001b[1m Row \u001b[0m│\u001b[1m Sector                 \u001b[0m\u001b[1m Count \u001b[0m\n",
      "     │\u001b[90m String31               \u001b[0m\u001b[90m Int64 \u001b[0m\n",
      "─────┼───────────────────────────────\n",
      "   1 │ Consumer Discretionary  69900\n",
      "   2 │ Consumer Staples        69900\n",
      "   3 │ Energy                  69900\n",
      "   4 │ Financials              69900\n",
      "   5 │ Health Care             69900\n",
      "   6 │ Industrials             69900\n",
      "   7 │ Information Technology  69900\n",
      "   8 │ Materials               69900\n",
      "   9 │ Real Estate             69900\n",
      "  10 │ Communication Services  69900\n",
      "  11 │ Utilities               69900"
     ]
    }
   ],
   "source": [
    "df = DataFrame(combined_df)\n",
    "\n",
    "# Group by sector and count the number of stocks in each sector\n",
    "sector_counts = combine(groupby(df, :Sector), DataFrames.nrow => :Count)\n",
    "\n",
    "# Display the count of stocks in each sector\n",
    "println(\"\\nNumber of Stocks in Each Sector:\\n\")\n",
    "show(sector_counts, allrows=true, allcols=true)\n"
   ]
  },
  {
   "cell_type": "code",
   "execution_count": 5,
   "id": "09d46e7c-35c7-479d-bee0-dea7885bfdca",
   "metadata": {
    "jupyter": {
     "source_hidden": true
    }
   },
   "outputs": [
    {
     "name": "stdout",
     "output_type": "stream",
     "text": [
      "\n",
      "Number of Unique Tickers in Each Sector:\n",
      "\n",
      "\u001b[1m11×2 DataFrame\u001b[0m\n",
      "\u001b[1m Row \u001b[0m│\u001b[1m Sector                 \u001b[0m\u001b[1m Ticker_Count \u001b[0m\n",
      "     │\u001b[90m String31               \u001b[0m\u001b[90m Int64        \u001b[0m\n",
      "─────┼──────────────────────────────────────\n",
      "   1 │ Consumer Discretionary            50\n",
      "   2 │ Consumer Staples                  50\n",
      "   3 │ Energy                            50\n",
      "   4 │ Financials                        50\n",
      "   5 │ Health Care                       50\n",
      "   6 │ Industrials                       50\n",
      "   7 │ Information Technology            50\n",
      "   8 │ Materials                         50\n",
      "   9 │ Real Estate                       50\n",
      "  10 │ Communication Services            50\n",
      "  11 │ Utilities                         50"
     ]
    }
   ],
   "source": [
    "df = DataFrame(combined_df)\n",
    "\n",
    "# Group by sector and count the number of unique tickers in each sector\n",
    "sector_ticker_counts = combine(groupby(df, :Sector), :Ticker => (tickers -> length(unique(tickers))) => :Ticker_Count)\n",
    "\n",
    "# Display the count of unique tickers in each sector\n",
    "println(\"\\nNumber of Unique Tickers in Each Sector:\\n\")\n",
    "show(sector_ticker_counts, allrows=true, allcols=true)\n"
   ]
  },
  {
   "cell_type": "code",
   "execution_count": 6,
   "id": "013b1b95-6795-4f93-914d-e8d6ef94fc72",
   "metadata": {
    "jupyter": {
     "source_hidden": true
    }
   },
   "outputs": [
    {
     "name": "stdout",
     "output_type": "stream",
     "text": [
      "\n",
      "550ber of unique stocks: \n"
     ]
    }
   ],
   "source": [
    "# Count the number of unique stocks (replace \"Ticker\" with the actual column name)\n",
    "num_stocks = length(unique(combined_df.Ticker))\n",
    "println(\"\\nNumber of unique stocks: \", num_stocks)"
   ]
  },
  {
   "cell_type": "code",
   "execution_count": 7,
   "id": "ba770875-58d2-4fa3-bb1f-03c3925817ab",
   "metadata": {
    "jupyter": {
     "source_hidden": true
    },
    "scrolled": true
   },
   "outputs": [
    {
     "name": "stdout",
     "output_type": "stream",
     "text": [
      "\n",
      "Unique Stock Tickers:\n",
      "A\n",
      "AA\n",
      "AAL\n",
      "AAP\n",
      "AAPL\n",
      "ABBV\n",
      "ABT\n",
      "ACN\n",
      "ADBE\n",
      "ADC\n",
      "ADI\n",
      "ADM\n",
      "ADP\n",
      "ADSK\n",
      "AEE\n",
      "AEP\n",
      "AES\n",
      "AFL\n",
      "AIG\n",
      "AJG\n",
      "AKAM\n",
      "ALB\n",
      "ALE\n",
      "ALGN\n",
      "ALL\n",
      "ALLE\n",
      "ALLY\n",
      "AMAT\n",
      "AMD\n",
      "AMGN\n",
      "AMP\n",
      "AMT\n",
      "AMX\n",
      "AMZN\n",
      "AOS\n",
      "APA\n",
      "APD\n",
      "APH\n",
      "AR\n",
      "ARE\n",
      "ARTNA\n",
      "ASH\n",
      "ATI\n",
      "ATO\n",
      "ATUS\n",
      "AVA\n",
      "AVB\n",
      "AVGO\n",
      "AVT\n",
      "AVY\n",
      "AWK\n",
      "AWR\n",
      "AXP\n",
      "AZO\n",
      "BA\n",
      "BAC\n",
      "BALL\n",
      "BBY\n",
      "BCPC\n",
      "BDX\n",
      "BEN\n",
      "BG\n",
      "BHP\n",
      "BIDU\n",
      "BIIB\n",
      "BILI\n",
      "BIO\n",
      "BK\n",
      "BKH\n",
      "BKNG\n",
      "BKR\n",
      "BLK\n",
      "BMY\n",
      "BP\n",
      "BR\n",
      "BRX\n",
      "BSX\n",
      "BURL\n",
      "BXP\n",
      "C\n",
      "CABO\n",
      "CACC\n",
      "CAG\n",
      "CAH\n",
      "CASY\n",
      "CAT\n",
      "CB\n",
      "CBT\n",
      "CC\n",
      "CCI\n",
      "CCOI\n",
      "CDNS\n",
      "CE\n",
      "CF\n",
      "CFG\n",
      "CHD\n",
      "CHRD\n",
      "CHTR\n",
      "CHWY\n",
      "CI\n",
      "CL\n",
      "CLF\n",
      "CLX\n",
      "CMC\n",
      "CMCSA\n",
      "CME\n",
      "CMG\n",
      "CMI\n",
      "CMS\n",
      "CNC\n",
      "CNP\n",
      "CNQ\n",
      "COF\n",
      "COP\n",
      "COST\n",
      "COTY\n",
      "CPB\n",
      "CPT\n",
      "CRM\n",
      "CSCO\n",
      "CSX\n",
      "CTAS\n",
      "CTRA\n",
      "CTSH\n",
      "CTVA\n",
      "CUBE\n",
      "CVE\n",
      "CVS\n",
      "CVX\n",
      "CWCO\n",
      "CWT\n",
      "CZR\n",
      "D\n",
      "DAL\n",
      "DAR\n",
      "DD\n",
      "DE\n",
      "DEA\n",
      "DEI\n",
      "DEO\n",
      "DG\n",
      "DGX\n",
      "DHI\n",
      "DHR\n",
      "DINO\n",
      "DIS\n",
      "DLR\n",
      "DNP\n",
      "DOC\n",
      "DOV\n",
      "DOW\n",
      "DOYU\n",
      "DRI\n",
      "DTE\n",
      "DUK\n",
      "DVA\n",
      "DVN\n",
      "DXC\n",
      "E\n",
      "EA\n",
      "EBAY\n",
      "EC\n",
      "ECL\n",
      "ED\n",
      "EFX\n",
      "EGP\n",
      "EIX\n",
      "EL\n",
      "ELV\n",
      "EMN\n",
      "EMR\n",
      "ENB\n",
      "EOG\n",
      "EQH\n",
      "EQIX\n",
      "EQNR\n",
      "EQR\n",
      "EQT\n",
      "ES\n",
      "ESS\n",
      "ETN\n",
      "ETSY\n",
      "EVRG\n",
      "EW\n",
      "EXC\n",
      "EXP\n",
      "EXPD\n",
      "EXR\n",
      "F\n",
      "FANG\n",
      "FAST\n",
      "FCX\n",
      "FDP\n",
      "FDS\n",
      "FDX\n",
      "FE\n",
      "FI\n",
      "FIS\n",
      "FITB\n",
      "FIZZ\n",
      "FLO\n",
      "FLS\n",
      "FMC\n",
      "FND\n",
      "FOX\n",
      "FR\n",
      "FRT\n",
      "FTI\n",
      "FTNT\n",
      "FUL\n",
      "FWONA\n",
      "GD\n",
      "GE\n",
      "GILD\n",
      "GIS\n",
      "GLW\n",
      "GM\n",
      "GMRE\n",
      "GNE\n",
      "GOOG\n",
      "GPC\n",
      "GPN\n",
      "GRMN\n",
      "GS\n",
      "GWW\n",
      "HAIN\n",
      "HAL\n",
      "HAS\n",
      "HBAN\n",
      "HCA\n",
      "HD\n",
      "HE\n",
      "HII\n",
      "HIW\n",
      "HLT\n",
      "HOLX\n",
      "HON\n",
      "HP\n",
      "HPQ\n",
      "HR\n",
      "HRL\n",
      "HSIC\n",
      "HST\n",
      "HSY\n",
      "HUM\n",
      "HUN\n",
      "HUYA\n",
      "IAC\n",
      "IBM\n",
      "ICE\n",
      "IDA\n",
      "IDXX\n",
      "IFF\n",
      "ILMN\n",
      "INGR\n",
      "INTC\n",
      "INTU\n",
      "INVH\n",
      "IP\n",
      "IPG\n",
      "IQ\n",
      "IQV\n",
      "IR\n",
      "IRM\n",
      "ISRG\n",
      "ITW\n",
      "JBHT\n",
      "JCI\n",
      "JNJ\n",
      "JPM\n",
      "K\n",
      "KDDIY\n",
      "KDP\n",
      "KEY\n",
      "KEYS\n",
      "KHC\n",
      "KIM\n",
      "KLAC\n",
      "KMB\n",
      "KMI\n",
      "KMX\n",
      "KO\n",
      "KR\n",
      "KWR\n",
      "LBRDK\n",
      "LBTYA\n",
      "LEN\n",
      "LH\n",
      "LHX\n",
      "LIN\n",
      "LLY\n",
      "LMT\n",
      "LNC\n",
      "LNG\n",
      "LNT\n",
      "LOW\n",
      "LPLA\n",
      "LRCX\n",
      "LTC\n",
      "LUMN\n",
      "LVS\n",
      "LW\n",
      "LXP\n",
      "LYB\n",
      "LYV\n",
      "MA\n",
      "MAA\n",
      "MAR\n",
      "MAS\n",
      "MCD\n",
      "MCHP\n",
      "MCK\n",
      "MCO\n",
      "MDLZ\n",
      "MDT\n",
      "MET\n",
      "META\n",
      "MGEE\n",
      "MGM\n",
      "MKC\n",
      "MLM\n",
      "MMC\n",
      "MMM\n",
      "MNST\n",
      "MO\n",
      "MOS\n",
      "MPC\n",
      "MPW\n",
      "MPWR\n",
      "MRK\n",
      "MS\n",
      "MSCI\n",
      "MSEX\n",
      "MSFT\n",
      "MTD\n",
      "MTDR\n",
      "MTX\n",
      "MU\n",
      "MUR\n",
      "NBR\n",
      "NDAQ\n",
      "NEE\n",
      "NEM\n",
      "NFLX\n",
      "NHI\n",
      "NI\n",
      "NKE\n",
      "NNN\n",
      "NOC\n",
      "NOG\n",
      "NOV\n",
      "NOW\n",
      "NRG\n",
      "NTES\n",
      "NTTYY\n",
      "NUE\n",
      "NVDA\n",
      "NVR\n",
      "NWE\n",
      "NWN\n",
      "NWSA\n",
      "NX\n",
      "NXPI\n",
      "NXST\n",
      "O\n",
      "OC\n",
      "OGE\n",
      "OHI\n",
      "OKE\n",
      "OLN\n",
      "OMC\n",
      "ON\n",
      "ORA\n",
      "ORCL\n",
      "ORLY\n",
      "OVV\n",
      "OXY\n",
      "PAA\n",
      "PANW\n",
      "PARA\n",
      "PAYX\n",
      "PBR\n",
      "PDM\n",
      "PEG\n",
      "PENN\n",
      "PEP\n",
      "PFE\n",
      "PFG\n",
      "PFGC\n",
      "PG\n",
      "PH\n",
      "PINS\n",
      "PKG\n",
      "PLD\n",
      "PLNT\n",
      "PM\n",
      "PNC\n",
      "PNR\n",
      "PNW\n",
      "POOL\n",
      "POR\n",
      "POST\n",
      "PPG\n",
      "PPL\n",
      "PRU\n",
      "PSA\n",
      "PSX\n",
      "PTEN\n",
      "PTON\n",
      "PWR\n",
      "PYPL\n",
      "QCOM\n",
      "RCI\n",
      "RCL\n",
      "REG\n",
      "REGN\n",
      "RES\n",
      "REXR\n",
      "RF\n",
      "RIO\n",
      "RL\n",
      "RMD\n",
      "ROKU\n",
      "ROL\n",
      "ROP\n",
      "ROST\n",
      "RPM\n",
      "RRC\n",
      "RS\n",
      "RSG\n",
      "RTX\n",
      "SAM\n",
      "SBRA\n",
      "SBUX\n",
      "SCHW\n",
      "SE\n",
      "SEE\n",
      "SFM\n",
      "SHEL\n",
      "SHW\n",
      "SIRI\n",
      "SJM\n",
      "SKM\n",
      "SLB\n",
      "SLG\n",
      "SLGN\n",
      "SM\n",
      "SNA\n",
      "SNAP\n",
      "SNPS\n",
      "SO\n",
      "SPG\n",
      "SPGI\n",
      "SPOT\n",
      "SPTN\n",
      "SQM\n",
      "SRE\n",
      "STAG\n",
      "STE\n",
      "STLD\n",
      "STT\n",
      "STX\n",
      "STZ\n",
      "SU\n",
      "SUI\n",
      "SWK\n",
      "SWKS\n",
      "SWX\n",
      "SYF\n",
      "SYK\n",
      "SYY\n",
      "T\n",
      "TAP\n",
      "TCEHY\n",
      "TECH\n",
      "TECK\n",
      "TEF\n",
      "TEL\n",
      "TFC\n",
      "TFX\n",
      "TGT\n",
      "THC\n",
      "THS\n",
      "TJX\n",
      "TME\n",
      "TMO\n",
      "TMUS\n",
      "TPR\n",
      "TRGP\n",
      "TRP\n",
      "TRV\n",
      "TSLA\n",
      "TSN\n",
      "TT\n",
      "TTE\n",
      "TTWO\n",
      "TXN\n",
      "TXT\n",
      "TYL\n",
      "UAL\n",
      "UDR\n",
      "UGI\n",
      "UHS\n",
      "UL\n",
      "ULTA\n",
      "UNFI\n",
      "UNH\n",
      "UNP\n",
      "UPS\n",
      "URI\n",
      "USB\n",
      "USFD\n",
      "V\n",
      "VFC\n",
      "VLO\n",
      "VMC\n",
      "VNO\n",
      "VRSN\n",
      "VRTX\n",
      "VST\n",
      "VTR\n",
      "VZ\n",
      "WAB\n",
      "WB\n",
      "WBA\n",
      "WDAY\n",
      "WEC\n",
      "WELL\n",
      "WFC\n",
      "WHD\n",
      "WHR\n",
      "WM\n",
      "WMB\n",
      "WMT\n",
      "WPP\n",
      "WSM\n",
      "WTRG\n",
      "WU\n",
      "WY\n",
      "WYNN\n",
      "XEL\n",
      "XOM\n",
      "XRAY\n",
      "XYL\n",
      "YORW\n",
      "YUM\n",
      "ZBRA\n",
      "ZG\n",
      "ZM\n",
      "ZTS\n",
      "\n",
      "Total number of unique stocks: 550\n"
     ]
    }
   ],
   "source": [
    "# Extract and print all unique tickers (replace \"Ticker\" with your actual column name)\n",
    "unique_tickers = sort(unique(combined_df.Ticker))  # Sorting for easier reading\n",
    "println(\"\\nUnique Stock Tickers:\")\n",
    "for ticker in unique_tickers\n",
    "    println(ticker)\n",
    "end\n",
    "\n",
    "# Print the total number of unique tickers\n",
    "println(\"\\nTotal number of unique stocks: \", length(unique_tickers))"
   ]
  },
  {
   "cell_type": "code",
   "execution_count": 8,
   "id": "407d252b-fabe-4262-82a5-e8737b7d90a3",
   "metadata": {
    "jupyter": {
     "source_hidden": true
    }
   },
   "outputs": [
    {
     "data": {
      "text/html": [
       "<div><div style = \"float: left;\"><span>768900×3 DataFrame</span></div><div style = \"float: right;\"><span style = \"font-style: italic;\">768875 rows omitted</span></div><div style = \"clear: both;\"></div></div><div class = \"data-frame\" style = \"overflow-x: scroll;\"><table class = \"data-frame\" style = \"margin-bottom: 6px;\"><thead><tr class = \"header\"><th class = \"rowNumber\" style = \"font-weight: bold; text-align: right;\">Row</th><th style = \"text-align: left;\">Date</th><th style = \"text-align: left;\">Ticker</th><th style = \"text-align: left;\">Close</th></tr><tr class = \"subheader headerLastRow\"><th class = \"rowNumber\" style = \"font-weight: bold; text-align: right;\"></th><th title = \"DateTime\" style = \"text-align: left;\">DateTime</th><th title = \"String7\" style = \"text-align: left;\">String7</th><th title = \"Float64\" style = \"text-align: left;\">Float64</th></tr></thead><tbody><tr><td class = \"rowNumber\" style = \"font-weight: bold; text-align: right;\">1</td><td style = \"text-align: left;\">2020-01-02T05:00:00</td><td style = \"text-align: left;\">A</td><td style = \"text-align: right;\">82.7111</td></tr><tr><td class = \"rowNumber\" style = \"font-weight: bold; text-align: right;\">2</td><td style = \"text-align: left;\">2020-01-02T05:00:00</td><td style = \"text-align: left;\">AA</td><td style = \"text-align: right;\">20.5852</td></tr><tr><td class = \"rowNumber\" style = \"font-weight: bold; text-align: right;\">3</td><td style = \"text-align: left;\">2020-01-02T05:00:00</td><td style = \"text-align: left;\">AAL</td><td style = \"text-align: right;\">28.9829</td></tr><tr><td class = \"rowNumber\" style = \"font-weight: bold; text-align: right;\">4</td><td style = \"text-align: left;\">2020-01-02T05:00:00</td><td style = \"text-align: left;\">AAP</td><td style = \"text-align: right;\">142.089</td></tr><tr><td class = \"rowNumber\" style = \"font-weight: bold; text-align: right;\">5</td><td style = \"text-align: left;\">2020-01-02T05:00:00</td><td style = \"text-align: left;\">AAPL</td><td style = \"text-align: right;\">72.6208</td></tr><tr><td class = \"rowNumber\" style = \"font-weight: bold; text-align: right;\">6</td><td style = \"text-align: left;\">2020-01-02T05:00:00</td><td style = \"text-align: left;\">ABBV</td><td style = \"text-align: right;\">70.3268</td></tr><tr><td class = \"rowNumber\" style = \"font-weight: bold; text-align: right;\">7</td><td style = \"text-align: left;\">2020-01-02T05:00:00</td><td style = \"text-align: left;\">ABT</td><td style = \"text-align: right;\">78.5558</td></tr><tr><td class = \"rowNumber\" style = \"font-weight: bold; text-align: right;\">8</td><td style = \"text-align: left;\">2020-01-02T05:00:00</td><td style = \"text-align: left;\">ACN</td><td style = \"text-align: right;\">193.478</td></tr><tr><td class = \"rowNumber\" style = \"font-weight: bold; text-align: right;\">9</td><td style = \"text-align: left;\">2020-01-02T05:00:00</td><td style = \"text-align: left;\">ADBE</td><td style = \"text-align: right;\">334.43</td></tr><tr><td class = \"rowNumber\" style = \"font-weight: bold; text-align: right;\">10</td><td style = \"text-align: left;\">2020-01-02T05:00:00</td><td style = \"text-align: left;\">ADC</td><td style = \"text-align: right;\">53.806</td></tr><tr><td class = \"rowNumber\" style = \"font-weight: bold; text-align: right;\">11</td><td style = \"text-align: left;\">2020-01-02T05:00:00</td><td style = \"text-align: left;\">ADI</td><td style = \"text-align: right;\">108.94</td></tr><tr><td class = \"rowNumber\" style = \"font-weight: bold; text-align: right;\">12</td><td style = \"text-align: left;\">2020-01-02T05:00:00</td><td style = \"text-align: left;\">ADM</td><td style = \"text-align: right;\">39.4623</td></tr><tr><td class = \"rowNumber\" style = \"font-weight: bold; text-align: right;\">13</td><td style = \"text-align: left;\">2020-01-02T05:00:00</td><td style = \"text-align: left;\">ADP</td><td style = \"text-align: right;\">151.636</td></tr><tr><td style = \"text-align: right;\">&vellip;</td><td style = \"text-align: right;\">&vellip;</td><td style = \"text-align: right;\">&vellip;</td><td style = \"text-align: right;\">&vellip;</td></tr><tr><td class = \"rowNumber\" style = \"font-weight: bold; text-align: right;\">768889</td><td style = \"text-align: left;\">2025-07-25T04:00:00</td><td style = \"text-align: left;\">WY</td><td style = \"text-align: right;\">26.47</td></tr><tr><td class = \"rowNumber\" style = \"font-weight: bold; text-align: right;\">768890</td><td style = \"text-align: left;\">2025-07-25T04:00:00</td><td style = \"text-align: left;\">WYNN</td><td style = \"text-align: right;\">109.44</td></tr><tr><td class = \"rowNumber\" style = \"font-weight: bold; text-align: right;\">768891</td><td style = \"text-align: left;\">2025-07-25T04:00:00</td><td style = \"text-align: left;\">XEL</td><td style = \"text-align: right;\">72.66</td></tr><tr><td class = \"rowNumber\" style = \"font-weight: bold; text-align: right;\">768892</td><td style = \"text-align: left;\">2025-07-25T04:00:00</td><td style = \"text-align: left;\">XOM</td><td style = \"text-align: right;\">110.4</td></tr><tr><td class = \"rowNumber\" style = \"font-weight: bold; text-align: right;\">768893</td><td style = \"text-align: left;\">2025-07-25T04:00:00</td><td style = \"text-align: left;\">XRAY</td><td style = \"text-align: right;\">16.03</td></tr><tr><td class = \"rowNumber\" style = \"font-weight: bold; text-align: right;\">768894</td><td style = \"text-align: left;\">2025-07-25T04:00:00</td><td style = \"text-align: left;\">XYL</td><td style = \"text-align: right;\">132.57</td></tr><tr><td class = \"rowNumber\" style = \"font-weight: bold; text-align: right;\">768895</td><td style = \"text-align: left;\">2025-07-25T04:00:00</td><td style = \"text-align: left;\">YORW</td><td style = \"text-align: right;\">30.57</td></tr><tr><td class = \"rowNumber\" style = \"font-weight: bold; text-align: right;\">768896</td><td style = \"text-align: left;\">2025-07-25T04:00:00</td><td style = \"text-align: left;\">YUM</td><td style = \"text-align: right;\">146.7</td></tr><tr><td class = \"rowNumber\" style = \"font-weight: bold; text-align: right;\">768897</td><td style = \"text-align: left;\">2025-07-25T04:00:00</td><td style = \"text-align: left;\">ZBRA</td><td style = \"text-align: right;\">335.69</td></tr><tr><td class = \"rowNumber\" style = \"font-weight: bold; text-align: right;\">768898</td><td style = \"text-align: left;\">2025-07-25T04:00:00</td><td style = \"text-align: left;\">ZG</td><td style = \"text-align: right;\">78.16</td></tr><tr><td class = \"rowNumber\" style = \"font-weight: bold; text-align: right;\">768899</td><td style = \"text-align: left;\">2025-07-25T04:00:00</td><td style = \"text-align: left;\">ZM</td><td style = \"text-align: right;\">74.82</td></tr><tr><td class = \"rowNumber\" style = \"font-weight: bold; text-align: right;\">768900</td><td style = \"text-align: left;\">2025-07-25T04:00:00</td><td style = \"text-align: left;\">ZTS</td><td style = \"text-align: right;\">152.12</td></tr></tbody></table></div>"
      ],
      "text/latex": [
       "\\begin{tabular}{r|ccc}\n",
       "\t& Date & Ticker & Close\\\\\n",
       "\t\\hline\n",
       "\t& DateTime & String7 & Float64\\\\\n",
       "\t\\hline\n",
       "\t1 & 2020-01-02T05:00:00 & A & 82.7111 \\\\\n",
       "\t2 & 2020-01-02T05:00:00 & AA & 20.5852 \\\\\n",
       "\t3 & 2020-01-02T05:00:00 & AAL & 28.9829 \\\\\n",
       "\t4 & 2020-01-02T05:00:00 & AAP & 142.089 \\\\\n",
       "\t5 & 2020-01-02T05:00:00 & AAPL & 72.6208 \\\\\n",
       "\t6 & 2020-01-02T05:00:00 & ABBV & 70.3268 \\\\\n",
       "\t7 & 2020-01-02T05:00:00 & ABT & 78.5558 \\\\\n",
       "\t8 & 2020-01-02T05:00:00 & ACN & 193.478 \\\\\n",
       "\t9 & 2020-01-02T05:00:00 & ADBE & 334.43 \\\\\n",
       "\t10 & 2020-01-02T05:00:00 & ADC & 53.806 \\\\\n",
       "\t11 & 2020-01-02T05:00:00 & ADI & 108.94 \\\\\n",
       "\t12 & 2020-01-02T05:00:00 & ADM & 39.4623 \\\\\n",
       "\t13 & 2020-01-02T05:00:00 & ADP & 151.636 \\\\\n",
       "\t14 & 2020-01-02T05:00:00 & ADSK & 187.83 \\\\\n",
       "\t15 & 2020-01-02T05:00:00 & AEE & 64.9517 \\\\\n",
       "\t16 & 2020-01-02T05:00:00 & AEP & 76.5786 \\\\\n",
       "\t17 & 2020-01-02T05:00:00 & AES & 16.5335 \\\\\n",
       "\t18 & 2020-01-02T05:00:00 & AFL & 46.703 \\\\\n",
       "\t19 & 2020-01-02T05:00:00 & AIG & 44.7795 \\\\\n",
       "\t20 & 2020-01-02T05:00:00 & AJG & 89.4752 \\\\\n",
       "\t21 & 2020-01-02T05:00:00 & AKAM & 87.64 \\\\\n",
       "\t22 & 2020-01-02T05:00:00 & ALB & 67.8675 \\\\\n",
       "\t23 & 2020-01-02T05:00:00 & ALE & 63.5781 \\\\\n",
       "\t24 & 2020-01-02T05:00:00 & ALGN & 283.68 \\\\\n",
       "\t25 & 2020-01-02T05:00:00 & ALL & 98.5859 \\\\\n",
       "\t26 & 2020-01-02T05:00:00 & ALLE & 116.489 \\\\\n",
       "\t27 & 2020-01-02T05:00:00 & ALLY & 25.7464 \\\\\n",
       "\t28 & 2020-01-02T05:00:00 & AMAT & 59.0566 \\\\\n",
       "\t29 & 2020-01-02T05:00:00 & AMD & 49.1 \\\\\n",
       "\t30 & 2020-01-02T05:00:00 & AMGN & 202.662 \\\\\n",
       "\t$\\dots$ & $\\dots$ & $\\dots$ & $\\dots$ \\\\\n",
       "\\end{tabular}\n"
      ],
      "text/plain": [
       "\u001b[1m768900×3 DataFrame\u001b[0m\n",
       "\u001b[1m    Row \u001b[0m│\u001b[1m Date                \u001b[0m\u001b[1m Ticker  \u001b[0m\u001b[1m Close    \u001b[0m\n",
       "        │\u001b[90m DateTime            \u001b[0m\u001b[90m String7 \u001b[0m\u001b[90m Float64  \u001b[0m\n",
       "────────┼────────────────────────────────────────\n",
       "      1 │ 2020-01-02T05:00:00  A         82.7111\n",
       "      2 │ 2020-01-02T05:00:00  AA        20.5852\n",
       "      3 │ 2020-01-02T05:00:00  AAL       28.9829\n",
       "      4 │ 2020-01-02T05:00:00  AAP      142.089\n",
       "      5 │ 2020-01-02T05:00:00  AAPL      72.6208\n",
       "      6 │ 2020-01-02T05:00:00  ABBV      70.3268\n",
       "      7 │ 2020-01-02T05:00:00  ABT       78.5558\n",
       "      8 │ 2020-01-02T05:00:00  ACN      193.478\n",
       "      9 │ 2020-01-02T05:00:00  ADBE     334.43\n",
       "     10 │ 2020-01-02T05:00:00  ADC       53.806\n",
       "     11 │ 2020-01-02T05:00:00  ADI      108.94\n",
       "   ⋮    │          ⋮              ⋮        ⋮\n",
       " 768891 │ 2025-07-25T04:00:00  XEL       72.66\n",
       " 768892 │ 2025-07-25T04:00:00  XOM      110.4\n",
       " 768893 │ 2025-07-25T04:00:00  XRAY      16.03\n",
       " 768894 │ 2025-07-25T04:00:00  XYL      132.57\n",
       " 768895 │ 2025-07-25T04:00:00  YORW      30.57\n",
       " 768896 │ 2025-07-25T04:00:00  YUM      146.7\n",
       " 768897 │ 2025-07-25T04:00:00  ZBRA     335.69\n",
       " 768898 │ 2025-07-25T04:00:00  ZG        78.16\n",
       " 768899 │ 2025-07-25T04:00:00  ZM        74.82\n",
       " 768900 │ 2025-07-25T04:00:00  ZTS      152.12\n",
       "\u001b[36m                              768879 rows omitted\u001b[0m"
      ]
     },
     "execution_count": 8,
     "metadata": {},
     "output_type": "execute_result"
    }
   ],
   "source": [
    "# Extract unique tickers from the combined DataFrame\n",
    "tickers = unique(combined_df.Ticker)\n",
    "\n",
    "# Filter the combined DataFrame by the extracted tickers\n",
    "filtered_df = filter(:Ticker => t -> t in tickers, combined_df)\n",
    "\n",
    "# Select only the required columns\n",
    "filtered_df = filtered_df[:, [\"Date\", \"Ticker\", \"Close\"]]\n",
    "\n",
    "# Correctly parse the DateTime with the specified format\n",
    "filtered_df[!, \"Date\"] = DateTime.(filtered_df.Date, \"yyyy-mm-dd HH:MM:SS-HH:MM\")\n",
    "\n",
    "# Define the date range for filtering\n",
    "start_date = DateTime(\"2020-01-02\")\n",
    "end_date = DateTime(\"2025-09-08\")\n",
    "\n",
    "\n",
    "# Filter the DataFrame for the specified date range\n",
    "daily_df = filter(row -> start_date <= row.Date <= end_date, filtered_df)\n",
    "\n",
    "# Sort the DataFrame by Date and Ticker\n",
    "sort!(daily_df, [:Date, :Ticker])\n"
   ]
  },
  {
   "cell_type": "code",
   "execution_count": 9,
   "id": "1d640b03-9def-4e0d-bf54-0f9cc86c4191",
   "metadata": {
    "jupyter": {
     "source_hidden": true
    }
   },
   "outputs": [
    {
     "data": {
      "text/plain": [
       "\u001b[1m1398×550 TSFrame with DateTime Index\u001b[0m\n",
       "\u001b[1m Index               \u001b[0m\u001b[1m A        \u001b[0m\u001b[1m AA       \u001b[0m\u001b[1m AAL      \u001b[0m\u001b[1m AAP      \u001b[0m\u001b[1m AAPL     \u001b[0m\u001b[1m ABBV  \u001b[0m ⋯\n",
       "\u001b[90m DateTime            \u001b[0m\u001b[90m Float64? \u001b[0m\u001b[90m Float64? \u001b[0m\u001b[90m Float64? \u001b[0m\u001b[90m Float64? \u001b[0m\u001b[90m Float64? \u001b[0m\u001b[90m Float6\u001b[0m ⋯\n",
       "────────────────────────────────────────────────────────────────────────────────\n",
       " 2020-01-02T05:00:00   82.7111   20.5852   28.9829  142.089    72.6208   70.32 ⋯\n",
       " 2020-01-03T05:00:00   81.3831   20.6621   27.5482  142.098    71.9148   69.65\n",
       " 2020-01-06T05:00:00   81.6237   20.1816   27.2194  139.763    72.4879   70.20\n",
       " 2020-01-07T05:00:00   81.8739   20.4891   27.1198  138.105    72.1469   69.80\n",
       " 2020-01-08T05:00:00   82.6822   19.6626   27.7375  136.518    73.3075   70.30 ⋯\n",
       " 2020-01-09T05:00:00   83.9813   19.038    27.8471  136.26     74.8646   70.84\n",
       " 2020-01-10T05:00:00   84.2893   18.692    27.2194  132.819    75.0339   69.94\n",
       " 2020-01-13T05:00:00   84.1642   18.8458   27.2892  129.477    76.6369   69.51\n",
       " 2020-01-14T05:00:00   84.6742   19.5762   27.4286  132.721    75.6021   70.20 ⋯\n",
       " 2020-01-15T05:00:00   85.2804   19.3936   27.4785  133.889    75.2781   71.04\n",
       " 2020-01-16T05:00:00   86.0888   17.0871   28.1261  135.431    76.221    71.04\n",
       "          ⋮              ⋮         ⋮         ⋮         ⋮         ⋮         ⋮   ⋱\n",
       " 2025-07-14T04:00:00  120.08     29.79     12.38     62.01    208.62    189.88\n",
       " 2025-07-15T04:00:00  112.94     28.49     12.17     62.4     209.11    186.39 ⋯\n",
       " 2025-07-16T04:00:00  113.43     28.56     12.27     62.29    210.16    190.58\n",
       " 2025-07-17T04:00:00  116.36     29.39     12.45     61.08    210.02    191.4\n",
       " 2025-07-18T04:00:00  113.99     30.33     12.51     61.13    211.18    189.26\n",
       " 2025-07-21T04:00:00  112.04     30.98     12.32     62.8     212.48    184.85 ⋯\n",
       " 2025-07-22T04:00:00  116.19     31.93     12.5      65.63    214.4     187.11\n",
       " 2025-07-23T04:00:00  119.47     32.1      12.68     66.5     214.15    190.55\n",
       " 2025-07-24T04:00:00  120.35     31.86     11.46     59.65    213.76    190.83\n",
       " 2025-07-25T04:00:00  120.18     30.84     11.5      58.68    213.88    190.28 ⋯\n",
       "\u001b[36m                                               545 columns and 1377 rows omitted\u001b[0m"
      ]
     },
     "execution_count": 9,
     "metadata": {},
     "output_type": "execute_result"
    }
   ],
   "source": [
    "# Pivot the DataFrame to get the desired format, handling duplicates by taking the mean\n",
    "pivoted_df = unstack(daily_df, :Date, :Ticker, :Close, combine = mean)\n",
    "\n",
    "# Sort by Date (Index)\n",
    "sort!(pivoted_df, :Date)\n",
    "\n",
    "# Convert the DataFrame to a TSFrame\n",
    "tsframe = TSFrame(pivoted_df, :Date)\n"
   ]
  },
  {
   "cell_type": "code",
   "execution_count": null,
   "id": "e1c840aa",
   "metadata": {},
   "outputs": [],
   "source": []
  },
  {
   "cell_type": "code",
   "execution_count": null,
   "id": "1121d234-1a6d-4a35-8c55-e67b2ada104f",
   "metadata": {},
   "outputs": [],
   "source": []
  },
  {
   "cell_type": "code",
   "execution_count": null,
   "id": "fc1e4b99-b5a1-43ca-88b5-2dd18390a7fa",
   "metadata": {},
   "outputs": [],
   "source": []
  },
  {
   "cell_type": "markdown",
   "id": "706e38cf-c58a-47f4-ba4a-0d3ab596a5f3",
   "metadata": {},
   "source": [
    "# Log Returns"
   ]
  },
  {
   "cell_type": "code",
   "execution_count": 10,
   "id": "ff0a0512",
   "metadata": {
    "jupyter": {
     "source_hidden": true
    }
   },
   "outputs": [],
   "source": [
    "\n",
    "all_tickers = unique(daily_df.Ticker)\n",
    "pivoted_df = unstack(daily_df, :Date, :Ticker, :Close, combine = mean)\n",
    "for ticker in setdiff(all_tickers, names(pivoted_df)[2:end])\n",
    "    pivoted_df[!, ticker] = fill(NaN, nrow(pivoted_df))\n",
    "end\n",
    "     "
   ]
  },
  {
   "cell_type": "code",
   "execution_count": 11,
   "id": "5b9d2356-af28-43e2-ad13-a99fd4dea1ed",
   "metadata": {
    "jupyter": {
     "source_hidden": true
    },
    "scrolled": true
   },
   "outputs": [
    {
     "data": {
      "text/html": [
       "<div><div style = \"float: left;\"><span>1397×550 DataFrame</span></div><div style = \"float: right;\"><span style = \"font-style: italic;\">450 columns and 1372 rows omitted</span></div><div style = \"clear: both;\"></div></div><div class = \"data-frame\" style = \"overflow-x: scroll;\"><table class = \"data-frame\" style = \"margin-bottom: 6px;\"><thead><tr class = \"header\"><th class = \"rowNumber\" style = \"font-weight: bold; text-align: right;\">Row</th><th style = \"text-align: left;\">A</th><th style = \"text-align: left;\">AA</th><th style = \"text-align: left;\">AAL</th><th style = \"text-align: left;\">AAP</th><th style = \"text-align: left;\">AAPL</th><th style = \"text-align: left;\">ABBV</th><th style = \"text-align: left;\">ABT</th><th style = \"text-align: left;\">ACN</th><th style = \"text-align: left;\">ADBE</th><th style = \"text-align: left;\">ADC</th><th style = \"text-align: left;\">ADI</th><th style = \"text-align: left;\">ADM</th><th style = \"text-align: left;\">ADP</th><th style = \"text-align: left;\">ADSK</th><th style = \"text-align: left;\">AEE</th><th style = \"text-align: left;\">AEP</th><th style = \"text-align: left;\">AES</th><th style = \"text-align: left;\">AFL</th><th style = \"text-align: left;\">AIG</th><th style = \"text-align: left;\">AJG</th><th style = \"text-align: left;\">AKAM</th><th style = \"text-align: left;\">ALB</th><th style = \"text-align: left;\">ALE</th><th style = \"text-align: left;\">ALGN</th><th style = \"text-align: left;\">ALL</th><th style = \"text-align: left;\">ALLE</th><th style = \"text-align: left;\">ALLY</th><th style = \"text-align: left;\">AMAT</th><th style = \"text-align: left;\">AMD</th><th style = \"text-align: left;\">AMGN</th><th style = \"text-align: left;\">AMP</th><th style = \"text-align: left;\">AMT</th><th style = \"text-align: left;\">AMX</th><th style = \"text-align: left;\">AMZN</th><th style = \"text-align: left;\">AOS</th><th style = \"text-align: left;\">APA</th><th style = \"text-align: left;\">APD</th><th style = \"text-align: left;\">APH</th><th style = \"text-align: left;\">AR</th><th style = \"text-align: left;\">ARE</th><th style = \"text-align: left;\">ARTNA</th><th style = \"text-align: left;\">ASH</th><th style = \"text-align: left;\">ATI</th><th style = \"text-align: left;\">ATO</th><th style = \"text-align: left;\">ATUS</th><th style = \"text-align: left;\">AVA</th><th style = \"text-align: left;\">AVB</th><th style = \"text-align: left;\">AVGO</th><th style = \"text-align: left;\">AVT</th><th style = \"text-align: left;\">AVY</th><th style = \"text-align: left;\">AWK</th><th style = \"text-align: left;\">AWR</th><th style = \"text-align: left;\">AXP</th><th style = \"text-align: left;\">AZO</th><th style = \"text-align: left;\">BA</th><th style = \"text-align: left;\">BAC</th><th style = \"text-align: left;\">BALL</th><th style = \"text-align: left;\">BBY</th><th style = \"text-align: left;\">BCPC</th><th style = \"text-align: left;\">BDX</th><th style = \"text-align: left;\">BEN</th><th style = \"text-align: left;\">BG</th><th style = \"text-align: left;\">BHP</th><th style = \"text-align: left;\">BIDU</th><th style = \"text-align: left;\">BIIB</th><th style = \"text-align: left;\">BILI</th><th style = \"text-align: left;\">BIO</th><th style = \"text-align: left;\">BK</th><th style = \"text-align: left;\">BKH</th><th style = \"text-align: left;\">BKNG</th><th style = \"text-align: left;\">BKR</th><th style = \"text-align: left;\">BLK</th><th style = \"text-align: left;\">BMY</th><th style = \"text-align: left;\">BP</th><th style = \"text-align: left;\">BR</th><th style = \"text-align: left;\">BRX</th><th style = \"text-align: left;\">BSX</th><th style = \"text-align: left;\">BURL</th><th style = \"text-align: left;\">BXP</th><th style = \"text-align: left;\">C</th><th style = \"text-align: left;\">CABO</th><th style = \"text-align: left;\">CACC</th><th style = \"text-align: left;\">CAG</th><th style = \"text-align: left;\">CAH</th><th style = \"text-align: left;\">CASY</th><th style = \"text-align: left;\">CAT</th><th style = \"text-align: left;\">CB</th><th style = \"text-align: left;\">CBT</th><th style = \"text-align: left;\">CC</th><th style = \"text-align: left;\">CCI</th><th style = \"text-align: left;\">CCOI</th><th style = \"text-align: left;\">CDNS</th><th style = \"text-align: left;\">CE</th><th style = \"text-align: left;\">CF</th><th style = \"text-align: left;\">CFG</th><th style = \"text-align: left;\">CHD</th><th style = \"text-align: left;\">CHRD</th><th style = \"text-align: left;\">CHTR</th><th style = \"text-align: left;\">CHWY</th><th style = \"text-align: left;\">CI</th><th style = \"text-align: right;\">&ctdot;</th></tr><tr class = \"subheader headerLastRow\"><th class = \"rowNumber\" style = \"font-weight: bold; text-align: right;\"></th><th title = \"Float64\" style = \"text-align: left;\">Float64</th><th title = \"Float64\" style = \"text-align: left;\">Float64</th><th title = \"Float64\" style = \"text-align: left;\">Float64</th><th title = \"Float64\" style = \"text-align: left;\">Float64</th><th title = \"Float64\" style = \"text-align: left;\">Float64</th><th title = \"Float64\" style = \"text-align: left;\">Float64</th><th title = \"Float64\" style = \"text-align: left;\">Float64</th><th title = \"Float64\" style = \"text-align: left;\">Float64</th><th title = \"Float64\" style = \"text-align: left;\">Float64</th><th title = \"Float64\" style = \"text-align: left;\">Float64</th><th title = \"Float64\" style = \"text-align: left;\">Float64</th><th title = \"Float64\" style = \"text-align: left;\">Float64</th><th title = \"Float64\" style = \"text-align: left;\">Float64</th><th title = \"Float64\" style = \"text-align: left;\">Float64</th><th title = \"Float64\" style = \"text-align: left;\">Float64</th><th title = \"Float64\" style = \"text-align: left;\">Float64</th><th title = \"Float64\" style = \"text-align: left;\">Float64</th><th title = \"Float64\" style = \"text-align: left;\">Float64</th><th title = \"Float64\" style = \"text-align: left;\">Float64</th><th title = \"Float64\" style = \"text-align: left;\">Float64</th><th title = \"Float64\" style = \"text-align: left;\">Float64</th><th title = \"Float64\" style = \"text-align: left;\">Float64</th><th title = \"Float64\" style = \"text-align: left;\">Float64</th><th title = \"Float64\" style = \"text-align: left;\">Float64</th><th title = \"Float64\" style = \"text-align: left;\">Float64</th><th title = \"Float64\" style = \"text-align: left;\">Float64</th><th title = \"Float64\" style = \"text-align: left;\">Float64</th><th title = \"Float64\" style = \"text-align: left;\">Float64</th><th title = \"Float64\" style = \"text-align: left;\">Float64</th><th title = \"Float64\" style = \"text-align: left;\">Float64</th><th title = \"Float64\" style = \"text-align: left;\">Float64</th><th title = \"Float64\" style = \"text-align: left;\">Float64</th><th title = \"Float64\" style = \"text-align: left;\">Float64</th><th title = \"Float64\" style = \"text-align: left;\">Float64</th><th title = \"Float64\" style = \"text-align: left;\">Float64</th><th title = \"Float64\" style = \"text-align: left;\">Float64</th><th title = \"Float64\" style = \"text-align: left;\">Float64</th><th title = \"Float64\" style = \"text-align: left;\">Float64</th><th title = \"Float64\" style = \"text-align: left;\">Float64</th><th title = \"Float64\" style = \"text-align: left;\">Float64</th><th title = \"Float64\" style = \"text-align: left;\">Float64</th><th title = \"Float64\" style = \"text-align: left;\">Float64</th><th title = \"Float64\" style = \"text-align: left;\">Float64</th><th title = \"Float64\" style = \"text-align: left;\">Float64</th><th title = \"Float64\" style = \"text-align: left;\">Float64</th><th title = \"Float64\" style = \"text-align: left;\">Float64</th><th title = \"Float64\" style = \"text-align: left;\">Float64</th><th title = \"Float64\" style = \"text-align: left;\">Float64</th><th title = \"Float64\" style = \"text-align: left;\">Float64</th><th title = \"Float64\" style = \"text-align: left;\">Float64</th><th title = \"Float64\" style = \"text-align: left;\">Float64</th><th title = \"Float64\" style = \"text-align: left;\">Float64</th><th title = \"Float64\" style = \"text-align: left;\">Float64</th><th title = \"Float64\" style = \"text-align: left;\">Float64</th><th title = \"Float64\" style = \"text-align: left;\">Float64</th><th title = \"Float64\" style = \"text-align: left;\">Float64</th><th title = \"Float64\" style = \"text-align: left;\">Float64</th><th title = \"Float64\" style = \"text-align: left;\">Float64</th><th title = \"Float64\" style = \"text-align: left;\">Float64</th><th title = \"Float64\" style = \"text-align: left;\">Float64</th><th title = \"Float64\" style = \"text-align: left;\">Float64</th><th title = \"Float64\" style = \"text-align: left;\">Float64</th><th title = \"Float64\" style = \"text-align: left;\">Float64</th><th title = \"Float64\" style = \"text-align: left;\">Float64</th><th title = \"Float64\" style = \"text-align: left;\">Float64</th><th title = \"Float64\" style = \"text-align: left;\">Float64</th><th title = \"Float64\" style = \"text-align: left;\">Float64</th><th title = \"Float64\" style = \"text-align: left;\">Float64</th><th title = \"Float64\" style = \"text-align: left;\">Float64</th><th title = \"Float64\" style = \"text-align: left;\">Float64</th><th title = \"Float64\" style = \"text-align: left;\">Float64</th><th title = \"Float64\" style = \"text-align: left;\">Float64</th><th title = \"Float64\" style = \"text-align: left;\">Float64</th><th title = \"Float64\" style = \"text-align: left;\">Float64</th><th title = \"Float64\" style = \"text-align: left;\">Float64</th><th title = \"Float64\" style = \"text-align: left;\">Float64</th><th title = \"Float64\" style = \"text-align: left;\">Float64</th><th title = \"Float64\" style = \"text-align: left;\">Float64</th><th title = \"Float64\" style = \"text-align: left;\">Float64</th><th title = \"Float64\" style = \"text-align: left;\">Float64</th><th title = \"Float64\" style = \"text-align: left;\">Float64</th><th title = \"Float64\" style = \"text-align: left;\">Float64</th><th title = \"Float64\" style = \"text-align: left;\">Float64</th><th title = \"Float64\" style = \"text-align: left;\">Float64</th><th title = \"Float64\" style = \"text-align: left;\">Float64</th><th title = \"Float64\" style = \"text-align: left;\">Float64</th><th title = \"Float64\" style = \"text-align: left;\">Float64</th><th title = \"Float64\" style = \"text-align: left;\">Float64</th><th title = \"Float64\" style = \"text-align: left;\">Float64</th><th title = \"Float64\" style = \"text-align: left;\">Float64</th><th title = \"Float64\" style = \"text-align: left;\">Float64</th><th title = \"Float64\" style = \"text-align: left;\">Float64</th><th title = \"Float64\" style = \"text-align: left;\">Float64</th><th title = \"Float64\" style = \"text-align: left;\">Float64</th><th title = \"Float64\" style = \"text-align: left;\">Float64</th><th title = \"Float64\" style = \"text-align: left;\">Float64</th><th title = \"Float64\" style = \"text-align: left;\">Float64</th><th title = \"Float64\" style = \"text-align: left;\">Float64</th><th title = \"Float64\" style = \"text-align: left;\">Float64</th><th title = \"Float64\" style = \"text-align: left;\">Float64</th><th title = \"Float64\" style = \"text-align: right;\">&ctdot;</th></tr></thead><tbody><tr><td class = \"rowNumber\" style = \"font-weight: bold; text-align: right;\">1</td><td style = \"text-align: right;\">-0.016186</td><td style = \"text-align: right;\">0.00372792</td><td style = \"text-align: right;\">-0.0507687</td><td style = \"text-align: right;\">6.29279e-5</td><td style = \"text-align: right;\">-0.0097691</td><td style = \"text-align: right;\">-0.00953711</td><td style = \"text-align: right;\">-0.0122658</td><td style = \"text-align: right;\">-0.00166696</td><td style = \"text-align: right;\">-0.00786506</td><td style = \"text-align: right;\">0.0233721</td><td style = \"text-align: right;\">-0.0177604</td><td style = \"text-align: right;\">-0.0019538</td><td style = \"text-align: right;\">-0.00211582</td><td style = \"text-align: right;\">-0.0154518</td><td style = \"text-align: right;\">0.000394127</td><td style = \"text-align: right;\">-0.00107068</td><td style = \"text-align: right;\">-0.0115492</td><td style = \"text-align: right;\">-0.00695943</td><td style = \"text-align: right;\">-0.00775805</td><td style = \"text-align: right;\">-0.0020963</td><td style = \"text-align: right;\">-0.00457459</td><td style = \"text-align: right;\">-0.0144267</td><td style = \"text-align: right;\">0.00198535</td><td style = \"text-align: right;\">-0.011487</td><td style = \"text-align: right;\">8.86831e-5</td><td style = \"text-align: right;\">-0.0124384</td><td style = \"text-align: right;\">-0.0108006</td><td style = \"text-align: right;\">-0.0160443</td><td style = \"text-align: right;\">-0.0102355</td><td style = \"text-align: right;\">-0.00681191</td><td style = \"text-align: right;\">-0.0125468</td><td style = \"text-align: right;\">0.000481136</td><td style = \"text-align: right;\">-0.0012308</td><td style = \"text-align: right;\">-0.0122133</td><td style = \"text-align: right;\">-0.00883132</td><td style = \"text-align: right;\">0.0129287</td><td style = \"text-align: right;\">-0.0224886</td><td style = \"text-align: right;\">-0.0104914</td><td style = \"text-align: right;\">0.034159</td><td style = \"text-align: right;\">0.00568113</td><td style = \"text-align: right;\">-0.00245026</td><td style = \"text-align: right;\">-0.0153598</td><td style = \"text-align: right;\">-0.00437851</td><td style = \"text-align: right;\">0.00659183</td><td style = \"text-align: right;\">-0.00893661</td><td style = \"text-align: right;\">0.00378446</td><td style = \"text-align: right;\">0.00955667</td><td style = \"text-align: right;\">-0.0257642</td><td style = \"text-align: right;\">-0.0167596</td><td style = \"text-align: right;\">-0.00620586</td><td style = \"text-align: right;\">0.00646834</td><td style = \"text-align: right;\">0.00789157</td><td style = \"text-align: right;\">-0.00998213</td><td style = \"text-align: right;\">-0.00148042</td><td style = \"text-align: right;\">-0.00168143</td><td style = \"text-align: right;\">-0.0209818</td><td style = \"text-align: right;\">0.0138362</td><td style = \"text-align: right;\">-0.00149021</td><td style = \"text-align: right;\">0.00650827</td><td style = \"text-align: right;\">-0.010883</td><td style = \"text-align: right;\">-0.0205137</td><td style = \"text-align: right;\">0.00657987</td><td style = \"text-align: right;\">-0.00675992</td><td style = \"text-align: right;\">-0.0325005</td><td style = \"text-align: right;\">-0.011588</td><td style = \"text-align: right;\">0.0525335</td><td style = \"text-align: right;\">-0.0145617</td><td style = \"text-align: right;\">-0.0128472</td><td style = \"text-align: right;\">-0.00379087</td><td style = \"text-align: right;\">-0.00439603</td><td style = \"text-align: right;\">0.00117063</td><td style = \"text-align: right;\">-0.0106859</td><td style = \"text-align: right;\">-0.00888078</td><td style = \"text-align: right;\">0.0179297</td><td style = \"text-align: right;\">0.000807647</td><td style = \"text-align: right;\">0.00802259</td><td style = \"text-align: right;\">-0.00775117</td><td style = \"text-align: right;\">-0.00196544</td><td style = \"text-align: right;\">0.00778795</td><td style = \"text-align: right;\">-0.0190149</td><td style = \"text-align: right;\">0.0109742</td><td style = \"text-align: right;\">-0.0157294</td><td style = \"text-align: right;\">-0.00866079</td><td style = \"text-align: right;\">-0.014681</td><td style = \"text-align: right;\">0.011191</td><td style = \"text-align: right;\">-0.0139817</td><td style = \"text-align: right;\">-0.00153965</td><td style = \"text-align: right;\">-0.0166993</td><td style = \"text-align: right;\">-0.0691505</td><td style = \"text-align: right;\">0.00549014</td><td style = \"text-align: right;\">0.0180047</td><td style = \"text-align: right;\">-0.0143807</td><td style = \"text-align: right;\">-0.0136814</td><td style = \"text-align: right;\">-0.00692032</td><td style = \"text-align: right;\">-0.020829</td><td style = \"text-align: right;\">0.00342127</td><td style = \"text-align: right;\">0.0692004</td><td style = \"text-align: right;\">0.00820394</td><td style = \"text-align: right;\">-0.00949806</td><td style = \"text-align: right;\">-0.0086251</td><td style = \"text-align: right;\">&ctdot;</td></tr><tr><td class = \"rowNumber\" style = \"font-weight: bold; text-align: right;\">2</td><td style = \"text-align: right;\">0.00295203</td><td style = \"text-align: right;\">-0.0235306</td><td style = \"text-align: right;\">-0.0120067</td><td style = \"text-align: right;\">-0.0165713</td><td style = \"text-align: right;\">0.00793658</td><td style = \"text-align: right;\">0.00786081</td><td style = \"text-align: right;\">0.00522566</td><td style = \"text-align: right;\">-0.00655166</td><td style = \"text-align: right;\">0.00570982</td><td style = \"text-align: right;\">0.0103421</td><td style = \"text-align: right;\">-0.0118186</td><td style = \"text-align: right;\">-0.00785322</td><td style = \"text-align: right;\">0.00135237</td><td style = \"text-align: right;\">0.0116646</td><td style = \"text-align: right;\">0.000919886</td><td style = \"text-align: right;\">0.00331518</td><td style = \"text-align: right;\">0.0115492</td><td style = \"text-align: right;\">-0.00283524</td><td style = \"text-align: right;\">0.000778373</td><td style = \"text-align: right;\">0.00460575</td><td style = \"text-align: right;\">0.00354718</td><td style = \"text-align: right;\">-0.00111842</td><td style = \"text-align: right;\">-0.00347657</td><td style = \"text-align: right;\">0.0192124</td><td style = \"text-align: right;\">0.00292059</td><td style = \"text-align: right;\">-0.00185926</td><td style = \"text-align: right;\">-0.0132493</td><td style = \"text-align: right;\">-0.0218011</td><td style = \"text-align: right;\">-0.00433033</td><td style = \"text-align: right;\">0.00764429</td><td style = \"text-align: right;\">0.00328585</td><td style = \"text-align: right;\">-0.000262543</td><td style = \"text-align: right;\">-0.00493822</td><td style = \"text-align: right;\">0.0147759</td><td style = \"text-align: right;\">0.00631632</td><td style = \"text-align: right;\">-0.00194818</td><td style = \"text-align: right;\">-0.000442451</td><td style = \"text-align: right;\">-0.00519434</td><td style = \"text-align: right;\">-0.0226425</td><td style = \"text-align: right;\">0.00242476</td><td style = \"text-align: right;\">0.000545237</td><td style = \"text-align: right;\">-0.0110409</td><td style = \"text-align: right;\">-0.0201927</td><td style = \"text-align: right;\">-0.00135111</td><td style = \"text-align: right;\">0.0117795</td><td style = \"text-align: right;\">0.000839391</td><td style = \"text-align: right;\">0.0016714</td><td style = \"text-align: right;\">-0.00149701</td><td style = \"text-align: right;\">-0.0110101</td><td style = \"text-align: right;\">-0.0126861</td><td style = \"text-align: right;\">-0.00190307</td><td style = \"text-align: right;\">-0.018786</td><td style = \"text-align: right;\">-0.00434332</td><td style = \"text-align: right;\">-0.0189241</td><td style = \"text-align: right;\">0.00294067</td><td style = \"text-align: right;\">-0.00143379</td><td style = \"text-align: right;\">-0.00930685</td><td style = \"text-align: right;\">0.00833918</td><td style = \"text-align: right;\">0.00232114</td><td style = \"text-align: right;\">0.0139606</td><td style = \"text-align: right;\">0.00793993</td><td style = \"text-align: right;\">-0.00727498</td><td style = \"text-align: right;\">-0.00110049</td><td style = \"text-align: right;\">0.0158675</td><td style = \"text-align: right;\">-0.000103147</td><td style = \"text-align: right;\">0.049911</td><td style = \"text-align: right;\">0.0142123</td><td style = \"text-align: right;\">0.009306</td><td style = \"text-align: right;\">0.000392888</td><td style = \"text-align: right;\">-0.00879195</td><td style = \"text-align: right;\">-0.00469095</td><td style = \"text-align: right;\">0.000853454</td><td style = \"text-align: right;\">0.00318081</td><td style = \"text-align: right;\">0.0259292</td><td style = \"text-align: right;\">0.00900028</td><td style = \"text-align: right;\">0.00915878</td><td style = \"text-align: right;\">0.00819221</td><td style = \"text-align: right;\">0.0135915</td><td style = \"text-align: right;\">0.00700098</td><td style = \"text-align: right;\">-0.00314185</td><td style = \"text-align: right;\">0.0108422</td><td style = \"text-align: right;\">0.00265788</td><td style = \"text-align: right;\">0.0053845</td><td style = \"text-align: right;\">0.00827183</td><td style = \"text-align: right;\">0.0203101</td><td style = \"text-align: right;\">-0.000673717</td><td style = \"text-align: right;\">0.00818335</td><td style = \"text-align: right;\">-0.005846</td><td style = \"text-align: right;\">0.0175957</td><td style = \"text-align: right;\">-0.00845895</td><td style = \"text-align: right;\">0.0145879</td><td style = \"text-align: right;\">0.00608766</td><td style = \"text-align: right;\">-0.0110811</td><td style = \"text-align: right;\">-0.00173771</td><td style = \"text-align: right;\">-0.00527578</td><td style = \"text-align: right;\">0.00383509</td><td style = \"text-align: right;\">0.0510026</td><td style = \"text-align: right;\">0.00600859</td><td style = \"text-align: right;\">0.001022</td><td style = \"text-align: right;\">0.0182402</td><td style = \"text-align: right;\">&ctdot;</td></tr><tr><td class = \"rowNumber\" style = \"font-weight: bold; text-align: right;\">3</td><td style = \"text-align: right;\">0.00306058</td><td style = \"text-align: right;\">0.0151232</td><td style = \"text-align: right;\">-0.00366705</td><td style = \"text-align: right;\">-0.0119331</td><td style = \"text-align: right;\">-0.00471433</td><td style = \"text-align: right;\">-0.00572124</td><td style = \"text-align: right;\">-0.00557495</td><td style = \"text-align: right;\">-0.0218261</td><td style = \"text-align: right;\">-0.000959307</td><td style = \"text-align: right;\">0.000142841</td><td style = \"text-align: right;\">0.0224958</td><td style = \"text-align: right;\">-0.0121187</td><td style = \"text-align: right;\">-0.012178</td><td style = \"text-align: right;\">0.00202875</td><td style = \"text-align: right;\">0.00367029</td><td style = \"text-align: right;\">0.000213499</td><td style = \"text-align: right;\">0.00348893</td><td style = \"text-align: right;\">-0.00950951</td><td style = \"text-align: right;\">-0.00565789</td><td style = \"text-align: right;\">-0.0108155</td><td style = \"text-align: right;\">0.0298193</td><td style = \"text-align: right;\">0.0130629</td><td style = \"text-align: right;\">-0.0108798</td><td style = \"text-align: right;\">-0.00991328</td><td style = \"text-align: right;\">-0.00860927</td><td style = \"text-align: right;\">-0.0120453</td><td style = \"text-align: right;\">-0.00904398</td><td style = \"text-align: right;\">0.028477</td><td style = \"text-align: right;\">-0.00289734</td><td style = \"text-align: right;\">-0.00944905</td><td style = \"text-align: right;\">-0.0121208</td><td style = \"text-align: right;\">-0.0215385</td><td style = \"text-align: right;\">-0.0149629</td><td style = \"text-align: right;\">0.00208944</td><td style = \"text-align: right;\">-0.00673857</td><td style = \"text-align: right;\">0.237394</td><td style = \"text-align: right;\">0.00424048</td><td style = \"text-align: right;\">0.00537931</td><td style = \"text-align: right;\">0.0226425</td><td style = \"text-align: right;\">-0.0332744</td><td style = \"text-align: right;\">-0.00683382</td><td style = \"text-align: right;\">0.00213781</td><td style = \"text-align: right;\">0.0108858</td><td style = \"text-align: right;\">0.00664693</td><td style = \"text-align: right;\">0.0147942</td><td style = \"text-align: right;\">-0.00715511</td><td style = \"text-align: right;\">-0.0219978</td><td style = \"text-align: right;\">-0.00344834</td><td style = \"text-align: right;\">0.0141001</td><td style = \"text-align: right;\">-0.00220913</td><td style = \"text-align: right;\">-0.00623058</td><td style = \"text-align: right;\">-0.00816032</td><td style = \"text-align: right;\">-0.00525317</td><td style = \"text-align: right;\">-0.0175938</td><td style = \"text-align: right;\">0.0105512</td><td style = \"text-align: right;\">-0.0066215</td><td style = \"text-align: right;\">-0.00390346</td><td style = \"text-align: right;\">0.00567141</td><td style = \"text-align: right;\">-0.0106828</td><td style = \"text-align: right;\">-0.00238051</td><td style = \"text-align: right;\">0.0106194</td><td style = \"text-align: right;\">-0.00838021</td><td style = \"text-align: right;\">0.0</td><td style = \"text-align: right;\">0.00557509</td><td style = \"text-align: right;\">-0.00251334</td><td style = \"text-align: right;\">-0.00345274</td><td style = \"text-align: right;\">0.0226168</td><td style = \"text-align: right;\">0.010001</td><td style = \"text-align: right;\">-0.00249069</td><td style = \"text-align: right;\">0.0100355</td><td style = \"text-align: right;\">-0.0169933</td><td style = \"text-align: right;\">0.00636849</td><td style = \"text-align: right;\">0.0149716</td><td style = \"text-align: right;\">-0.0105953</td><td style = \"text-align: right;\">-0.00352612</td><td style = \"text-align: right;\">-0.0144997</td><td style = \"text-align: right;\">0.001102</td><td style = \"text-align: right;\">0.00935827</td><td style = \"text-align: right;\">-0.0175216</td><td style = \"text-align: right;\">-0.00872259</td><td style = \"text-align: right;\">0.00287886</td><td style = \"text-align: right;\">-0.0138245</td><td style = \"text-align: right;\">-0.0364561</td><td style = \"text-align: right;\">0.000401863</td><td style = \"text-align: right;\">6.08191e-5</td><td style = \"text-align: right;\">-0.0133007</td><td style = \"text-align: right;\">-0.020195</td><td style = \"text-align: right;\">-0.00173855</td><td style = \"text-align: right;\">-0.00700141</td><td style = \"text-align: right;\">-0.0170641</td><td style = \"text-align: right;\">0.00515894</td><td style = \"text-align: right;\">0.00310036</td><td style = \"text-align: right;\">-0.00389075</td><td style = \"text-align: right;\">-0.00917222</td><td style = \"text-align: right;\">-0.00631699</td><td style = \"text-align: right;\">-0.00968678</td><td style = \"text-align: right;\">0.00275856</td><td style = \"text-align: right;\">0.00343162</td><td style = \"text-align: right;\">-0.00580504</td><td style = \"text-align: right;\">0.00486922</td><td style = \"text-align: right;\">&ctdot;</td></tr><tr><td class = \"rowNumber\" style = \"font-weight: bold; text-align: right;\">4</td><td style = \"text-align: right;\">0.0098246</td><td style = \"text-align: right;\">-0.0411739</td><td style = \"text-align: right;\">0.0225219</td><td style = \"text-align: right;\">-0.0115551</td><td style = \"text-align: right;\">0.0159583</td><td style = \"text-align: right;\">0.00706248</td><td style = \"text-align: right;\">0.00406788</td><td style = \"text-align: right;\">0.00195956</td><td style = \"text-align: right;\">0.0133482</td><td style = \"text-align: right;\">-0.00171599</td><td style = \"text-align: right;\">0.00899105</td><td style = \"text-align: right;\">-0.011146</td><td style = \"text-align: right;\">0.00935371</td><td style = \"text-align: right;\">0.012982</td><td style = \"text-align: right;\">-0.0017025</td><td style = \"text-align: right;\">-0.00299314</td><td style = \"text-align: right;\">-0.00199207</td><td style = \"text-align: right;\">0.00305283</td><td style = \"text-align: right;\">0.0116709</td><td style = \"text-align: right;\">0.00137163</td><td style = \"text-align: right;\">0.0132161</td><td style = \"text-align: right;\">-0.0174086</td><td style = \"text-align: right;\">0.00876325</td><td style = \"text-align: right;\">0.0103329</td><td style = \"text-align: right;\">0.00275929</td><td style = \"text-align: right;\">0.00424878</td><td style = \"text-align: right;\">0.0186674</td><td style = \"text-align: right;\">-0.00064936</td><td style = \"text-align: right;\">-0.00874273</td><td style = \"text-align: right;\">0.000755959</td><td style = \"text-align: right;\">0.00895491</td><td style = \"text-align: right;\">0.00863565</td><td style = \"text-align: right;\">-0.00377594</td><td style = \"text-align: right;\">-0.00783929</td><td style = \"text-align: right;\">-0.00148012</td><td style = \"text-align: right;\">0.00674444</td><td style = \"text-align: right;\">0.00540721</td><td style = \"text-align: right;\">0.00240208</td><td style = \"text-align: right;\">-0.0497235</td><td style = \"text-align: right;\">0.013202</td><td style = \"text-align: right;\">0.00109681</td><td style = \"text-align: right;\">-0.00857892</td><td style = \"text-align: right;\">-0.0320027</td><td style = \"text-align: right;\">-0.0086314</td><td style = \"text-align: right;\">0.00800978</td><td style = \"text-align: right;\">-0.0108293</td><td style = \"text-align: right;\">0.00413711</td><td style = \"text-align: right;\">-0.012553</td><td style = \"text-align: right;\">-0.000475068</td><td style = \"text-align: right;\">0.00299705</td><td style = \"text-align: right;\">0.00407506</td><td style = \"text-align: right;\">-0.00738982</td><td style = \"text-align: right;\">0.0171123</td><td style = \"text-align: right;\">0.00184048</td><td style = \"text-align: right;\">-0.0176779</td><td style = \"text-align: right;\">0.0100593</td><td style = \"text-align: right;\">0.00856784</td><td style = \"text-align: right;\">0.00271096</td><td style = \"text-align: right;\">0.00932944</td><td style = \"text-align: right;\">0.00245331</td><td style = \"text-align: right;\">-0.00549231</td><td style = \"text-align: right;\">-0.0114608</td><td style = \"text-align: right;\">0.00494297</td><td style = \"text-align: right;\">0.00823233</td><td style = \"text-align: right;\">0.00882033</td><td style = \"text-align: right;\">0.0302344</td><td style = \"text-align: right;\">0.00327942</td><td style = \"text-align: right;\">0.00117018</td><td style = \"text-align: right;\">-0.00144446</td><td style = \"text-align: right;\">-0.00249364</td><td style = \"text-align: right;\">-0.0128362</td><td style = \"text-align: right;\">-0.000236442</td><td style = \"text-align: right;\">-0.00109555</td><td style = \"text-align: right;\">-0.0153339</td><td style = \"text-align: right;\">0.0064019</td><td style = \"text-align: right;\">-0.00390266</td><td style = \"text-align: right;\">0.00527237</td><td style = \"text-align: right;\">-0.00389575</td><td style = \"text-align: right;\">-0.00533919</td><td style = \"text-align: right;\">0.00758915</td><td style = \"text-align: right;\">-0.00320131</td><td style = \"text-align: right;\">0.00506811</td><td style = \"text-align: right;\">-0.014021</td><td style = \"text-align: right;\">0.00540817</td><td style = \"text-align: right;\">-0.00684639</td><td style = \"text-align: right;\">0.0088415</td><td style = \"text-align: right;\">-0.00684494</td><td style = \"text-align: right;\">0.00455769</td><td style = \"text-align: right;\">0.00641999</td><td style = \"text-align: right;\">0.00416802</td><td style = \"text-align: right;\">0.0177772</td><td style = \"text-align: right;\">0.0168821</td><td style = \"text-align: right;\">-0.00782714</td><td style = \"text-align: right;\">0.00459648</td><td style = \"text-align: right;\">0.00782727</td><td style = \"text-align: right;\">-0.00905882</td><td style = \"text-align: right;\">-0.0684026</td><td style = \"text-align: right;\">0.0032202</td><td style = \"text-align: right;\">-0.0200629</td><td style = \"text-align: right;\">0.0165979</td><td style = \"text-align: right;\">&ctdot;</td></tr><tr><td class = \"rowNumber\" style = \"font-weight: bold; text-align: right;\">5</td><td style = \"text-align: right;\">0.01559</td><td style = \"text-align: right;\">-0.0322849</td><td style = \"text-align: right;\">0.00394341</td><td style = \"text-align: right;\">-0.00189531</td><td style = \"text-align: right;\">0.0210184</td><td style = \"text-align: right;\">0.00767806</td><td style = \"text-align: right;\">0.00266443</td><td style = \"text-align: right;\">0.00886766</td><td style = \"text-align: right;\">0.00760712</td><td style = \"text-align: right;\">-0.00387172</td><td style = \"text-align: right;\">0.0</td><td style = \"text-align: right;\">-0.0103652</td><td style = \"text-align: right;\">0.00879985</td><td style = \"text-align: right;\">0.010422</td><td style = \"text-align: right;\">0.00379373</td><td style = \"text-align: right;\">0.00501891</td><td style = \"text-align: right;\">0.00992089</td><td style = \"text-align: right;\">0.000190757</td><td style = \"text-align: right;\">0.0109628</td><td style = \"text-align: right;\">0.00975704</td><td style = \"text-align: right;\">0.019395</td><td style = \"text-align: right;\">0.0216795</td><td style = \"text-align: right;\">0.00893453</td><td style = \"text-align: right;\">0.0361903</td><td style = \"text-align: right;\">0.0113136</td><td style = \"text-align: right;\">0.00179219</td><td style = \"text-align: right;\">-0.00165275</td><td style = \"text-align: right;\">0.00631328</td><td style = \"text-align: right;\">0.0235548</td><td style = \"text-align: right;\">0.00297561</td><td style = \"text-align: right;\">0.0102972</td><td style = \"text-align: right;\">0.00376077</td><td style = \"text-align: right;\">0.00126014</td><td style = \"text-align: right;\">0.0047877</td><td style = \"text-align: right;\">-0.00445338</td><td style = \"text-align: right;\">-0.00397963</td><td style = \"text-align: right;\">0.0234418</td><td style = \"text-align: right;\">0.00350034</td><td style = \"text-align: right;\">-0.0606246</td><td style = \"text-align: right;\">-0.00355421</td><td style = \"text-align: right;\">-0.000822189</td><td style = \"text-align: right;\">0.000538169</td><td style = \"text-align: right;\">-0.0293911</td><td style = \"text-align: right;\">0.00324567</td><td style = \"text-align: right;\">-0.00208332</td><td style = \"text-align: right;\">0.0010671</td><td style = \"text-align: right;\">0.00232877</td><td style = \"text-align: right;\">-0.00806504</td><td style = \"text-align: right;\">0.0118011</td><td style = \"text-align: right;\">0.0136087</td><td style = \"text-align: right;\">0.0135192</td><td style = \"text-align: right;\">0.00382097</td><td style = \"text-align: right;\">0.0179205</td><td style = \"text-align: right;\">-0.00183174</td><td style = \"text-align: right;\">0.014887</td><td style = \"text-align: right;\">0.00171408</td><td style = \"text-align: right;\">0.0343049</td><td style = \"text-align: right;\">0.00808885</td><td style = \"text-align: right;\">-0.0106974</td><td style = \"text-align: right;\">0.000512048</td><td style = \"text-align: right;\">-0.00869236</td><td style = \"text-align: right;\">-0.00729728</td><td style = \"text-align: right;\">-0.00954151</td><td style = \"text-align: right;\">0.0217454</td><td style = \"text-align: right;\">0.00558808</td><td style = \"text-align: right;\">-0.0289382</td><td style = \"text-align: right;\">0.0180143</td><td style = \"text-align: right;\">0.00330767</td><td style = \"text-align: right;\">0.0100689</td><td style = \"text-align: right;\">0.0103157</td><td style = \"text-align: right;\">0.0108416</td><td style = \"text-align: right;\">0.0117623</td><td style = \"text-align: right;\">0.0245932</td><td style = \"text-align: right;\">0.00334251</td><td style = \"text-align: right;\">0.0216217</td><td style = \"text-align: right;\">-0.0232398</td><td style = \"text-align: right;\">0.00153256</td><td style = \"text-align: right;\">-0.000557805</td><td style = \"text-align: right;\">0.00052024</td><td style = \"text-align: right;\">0.00903158</td><td style = \"text-align: right;\">0.0203716</td><td style = \"text-align: right;\">-0.000808263</td><td style = \"text-align: right;\">0.0106118</td><td style = \"text-align: right;\">0.00478278</td><td style = \"text-align: right;\">0.0072119</td><td style = \"text-align: right;\">-0.00250846</td><td style = \"text-align: right;\">0.00703978</td><td style = \"text-align: right;\">-0.0139558</td><td style = \"text-align: right;\">-0.0265271</td><td style = \"text-align: right;\">0.00572015</td><td style = \"text-align: right;\">0.0180337</td><td style = \"text-align: right;\">0.0148314</td><td style = \"text-align: right;\">0.00663981</td><td style = \"text-align: right;\">-0.00481613</td><td style = \"text-align: right;\">0.00651782</td><td style = \"text-align: right;\">0.0074827</td><td style = \"text-align: right;\">-0.00888874</td><td style = \"text-align: right;\">0.0129162</td><td style = \"text-align: right;\">0.0279088</td><td style = \"text-align: right;\">-0.00265246</td><td style = \"text-align: right;\">&ctdot;</td></tr><tr><td class = \"rowNumber\" style = \"font-weight: bold; text-align: right;\">6</td><td style = \"text-align: right;\">0.00366003</td><td style = \"text-align: right;\">-0.0183394</td><td style = \"text-align: right;\">-0.0227982</td><td style = \"text-align: right;\">-0.0255742</td><td style = \"text-align: right;\">0.0022582</td><td style = \"text-align: right;\">-0.0128299</td><td style = \"text-align: right;\">-0.0125728</td><td style = \"text-align: right;\">0.00729827</td><td style = \"text-align: right;\">-0.00188168</td><td style = \"text-align: right;\">0.00772844</td><td style = \"text-align: right;\">-0.0174732</td><td style = \"text-align: right;\">-0.00454049</td><td style = \"text-align: right;\">-0.000701578</td><td style = \"text-align: right;\">0.00218578</td><td style = \"text-align: right;\">0.00546871</td><td style = \"text-align: right;\">0.00488765</td><td style = \"text-align: right;\">-0.00395678</td><td style = \"text-align: right;\">-0.00822448</td><td style = \"text-align: right;\">-0.00479344</td><td style = \"text-align: right;\">-0.00355597</td><td style = \"text-align: right;\">0.00364178</td><td style = \"text-align: right;\">-0.00883727</td><td style = \"text-align: right;\">-0.00123647</td><td style = \"text-align: right;\">-0.0108839</td><td style = \"text-align: right;\">-0.00290435</td><td style = \"text-align: right;\">0.00454738</td><td style = \"text-align: right;\">-0.00930539</td><td style = \"text-align: right;\">-0.00810107</td><td style = \"text-align: right;\">-0.0164715</td><td style = \"text-align: right;\">-0.00280792</td><td style = \"text-align: right;\">0.00171573</td><td style = \"text-align: right;\">0.018939</td><td style = \"text-align: right;\">0.00877747</td><td style = \"text-align: right;\">-0.00945516</td><td style = \"text-align: right;\">0.0120421</td><td style = \"text-align: right;\">-0.00677136</td><td style = \"text-align: right;\">-0.0064446</td><td style = \"text-align: right;\">-0.00396205</td><td style = \"text-align: right;\">-0.0125789</td><td style = \"text-align: right;\">0.0082324</td><td style = \"text-align: right;\">-0.00109765</td><td style = \"text-align: right;\">0.000806935</td><td style = \"text-align: right;\">-0.0498897</td><td style = \"text-align: right;\">0.00260677</td><td style = \"text-align: right;\">-0.0253446</td><td style = \"text-align: right;\">0.00701327</td><td style = \"text-align: right;\">0.0101256</td><td style = \"text-align: right;\">-0.0232552</td><td style = \"text-align: right;\">-0.00352573</td><td style = \"text-align: right;\">-0.00171051</td><td style = \"text-align: right;\">0.00351453</td><td style = \"text-align: right;\">0.00142921</td><td style = \"text-align: right;\">-0.00415575</td><td style = \"text-align: right;\">-0.0115649</td><td style = \"text-align: right;\">-0.0192723</td><td style = \"text-align: right;\">-0.00831316</td><td style = \"text-align: right;\">-0.00676785</td><td style = \"text-align: right;\">0.0142208</td><td style = \"text-align: right;\">0.0219515</td><td style = \"text-align: right;\">0.00335813</td><td style = \"text-align: right;\">-0.00716846</td><td style = \"text-align: right;\">-0.0057327</td><td style = \"text-align: right;\">0.00276166</td><td style = \"text-align: right;\">0.0255822</td><td style = \"text-align: right;\">0.00748136</td><td style = \"text-align: right;\">-0.0720509</td><td style = \"text-align: right;\">-0.0134933</td><td style = \"text-align: right;\">-0.0184284</td><td style = \"text-align: right;\">0.00777564</td><td style = \"text-align: right;\">0.00125136</td><td style = \"text-align: right;\">-0.00721456</td><td style = \"text-align: right;\">-0.00179448</td><td style = \"text-align: right;\">-0.00336672</td><td style = \"text-align: right;\">-0.00566305</td><td style = \"text-align: right;\">-0.00398912</td><td style = \"text-align: right;\">0.0114402</td><td style = \"text-align: right;\">-0.000875485</td><td style = \"text-align: right;\">-0.00719318</td><td style = \"text-align: right;\">0.00385711</td><td style = \"text-align: right;\">-0.0104185</td><td style = \"text-align: right;\">0.0210055</td><td style = \"text-align: right;\">0.00637895</td><td style = \"text-align: right;\">-0.0118679</td><td style = \"text-align: right;\">0.00653927</td><td style = \"text-align: right;\">0.0228776</td><td style = \"text-align: right;\">-0.0080425</td><td style = \"text-align: right;\">-0.0194141</td><td style = \"text-align: right;\">-0.0157133</td><td style = \"text-align: right;\">-0.0186921</td><td style = \"text-align: right;\">0.0152138</td><td style = \"text-align: right;\">-0.00740319</td><td style = \"text-align: right;\">-0.00450854</td><td style = \"text-align: right;\">-0.00723796</td><td style = \"text-align: right;\">-0.0177109</td><td style = \"text-align: right;\">-0.0125724</td><td style = \"text-align: right;\">0.00500536</td><td style = \"text-align: right;\">-0.0363679</td><td style = \"text-align: right;\">-0.00444529</td><td style = \"text-align: right;\">-0.00681901</td><td style = \"text-align: right;\">-0.002707</td><td style = \"text-align: right;\">&ctdot;</td></tr><tr><td class = \"rowNumber\" style = \"font-weight: bold; text-align: right;\">7</td><td style = \"text-align: right;\">-0.00148509</td><td style = \"text-align: right;\">0.00819237</td><td style = \"text-align: right;\">0.00255895</td><td style = \"text-align: right;\">-0.0254882</td><td style = \"text-align: right;\">0.0211395</td><td style = \"text-align: right;\">-0.00608176</td><td style = \"text-align: right;\">-0.00281574</td><td style = \"text-align: right;\">0.00925104</td><td style = \"text-align: right;\">0.0169822</td><td style = \"text-align: right;\">0.0138759</td><td style = \"text-align: right;\">0.00412415</td><td style = \"text-align: right;\">0.0106372</td><td style = \"text-align: right;\">0.00739583</td><td style = \"text-align: right;\">0.000467744</td><td style = \"text-align: right;\">0.00801852</td><td style = \"text-align: right;\">0.00306956</td><td style = \"text-align: right;\">0.0064215</td><td style = \"text-align: right;\">0.00822448</td><td style = \"text-align: right;\">0.0112758</td><td style = \"text-align: right;\">-0.000733602</td><td style = \"text-align: right;\">0.0122206</td><td style = \"text-align: right;\">0.0508354</td><td style = \"text-align: right;\">0.00714825</td><td style = \"text-align: right;\">0.0160302</td><td style = \"text-align: right;\">0.00903791</td><td style = \"text-align: right;\">0.00983545</td><td style = \"text-align: right;\">0.00200147</td><td style = \"text-align: right;\">0.00551561</td><td style = \"text-align: right;\">0.0119688</td><td style = \"text-align: right;\">-0.00564021</td><td style = \"text-align: right;\">0.00336404</td><td style = \"text-align: right;\">0.0197768</td><td style = \"text-align: right;\">-0.00249987</td><td style = \"text-align: right;\">0.00431326</td><td style = \"text-align: right;\">0.0191353</td><td style = \"text-align: right;\">-0.0114925</td><td style = \"text-align: right;\">0.0207319</td><td style = \"text-align: right;\">0.00726694</td><td style = \"text-align: right;\">-0.00847462</td><td style = \"text-align: right;\">0.0138403</td><td style = \"text-align: right;\">0.0117345</td><td style = \"text-align: right;\">0.00656651</td><td style = \"text-align: right;\">0.0163669</td><td style = \"text-align: right;\">0.0102713</td><td style = \"text-align: right;\">0.0322722</td><td style = \"text-align: right;\">0.00843501</td><td style = \"text-align: right;\">0.0122537</td><td style = \"text-align: right;\">0.00652894</td><td style = \"text-align: right;\">0.00211716</td><td style = \"text-align: right;\">0.018809</td><td style = \"text-align: right;\">0.00958207</td><td style = \"text-align: right;\">0.00959328</td><td style = \"text-align: right;\">0.00985085</td><td style = \"text-align: right;\">-0.00340617</td><td style = \"text-align: right;\">0.000908874</td><td style = \"text-align: right;\">0.00916929</td><td style = \"text-align: right;\">0.0183906</td><td style = \"text-align: right;\">0.00670661</td><td style = \"text-align: right;\">0.017634</td><td style = \"text-align: right;\">0.00631932</td><td style = \"text-align: right;\">0.0193952</td><td style = \"text-align: right;\">0.00215367</td><td style = \"text-align: right;\">0.0065969</td><td style = \"text-align: right;\">-0.0156923</td><td style = \"text-align: right;\">-0.00884142</td><td style = \"text-align: right;\">0.020212</td><td style = \"text-align: right;\">0.00161537</td><td style = \"text-align: right;\">0.00670482</td><td style = \"text-align: right;\">0.0146101</td><td style = \"text-align: right;\">-0.00307144</td><td style = \"text-align: right;\">-0.0182673</td><td style = \"text-align: right;\">0.0211156</td><td style = \"text-align: right;\">0.0140052</td><td style = \"text-align: right;\">0.00154756</td><td style = \"text-align: right;\">0.007029</td><td style = \"text-align: right;\">0.014728</td><td style = \"text-align: right;\">-0.00438879</td><td style = \"text-align: right;\">-4.32055e-5</td><td style = \"text-align: right;\">0.0124335</td><td style = \"text-align: right;\">0.0175114</td><td style = \"text-align: right;\">0.0449425</td><td style = \"text-align: right;\">0.0132036</td><td style = \"text-align: right;\">0.00626389</td><td style = \"text-align: right;\">-0.00375988</td><td style = \"text-align: right;\">0.00540118</td><td style = \"text-align: right;\">0.00471084</td><td style = \"text-align: right;\">-0.000596226</td><td style = \"text-align: right;\">0.0220612</td><td style = \"text-align: right;\">0.0276129</td><td style = \"text-align: right;\">0.00623025</td><td style = \"text-align: right;\">0.0158778</td><td style = \"text-align: right;\">0.00491738</td><td style = \"text-align: right;\">0.00952621</td><td style = \"text-align: right;\">0.0126514</td><td style = \"text-align: right;\">0.0085663</td><td style = \"text-align: right;\">0.0102188</td><td style = \"text-align: right;\">-0.0345402</td><td style = \"text-align: right;\">0.010087</td><td style = \"text-align: right;\">0.0431867</td><td style = \"text-align: right;\">-0.0327248</td><td style = \"text-align: right;\">&ctdot;</td></tr><tr><td class = \"rowNumber\" style = \"font-weight: bold; text-align: right;\">8</td><td style = \"text-align: right;\">0.00604142</td><td style = \"text-align: right;\">0.0380233</td><td style = \"text-align: right;\">0.0050984</td><td style = \"text-align: right;\">0.0247497</td><td style = \"text-align: right;\">-0.0135957</td><td style = \"text-align: right;\">0.00979846</td><td style = \"text-align: right;\">0.0114957</td><td style = \"text-align: right;\">-0.00891421</td><td style = \"text-align: right;\">-0.00289746</td><td style = \"text-align: right;\">-0.00323944</td><td style = \"text-align: right;\">0.00393979</td><td style = \"text-align: right;\">0.00179987</td><td style = \"text-align: right;\">-0.00657774</td><td style = \"text-align: right;\">-0.00698718</td><td style = \"text-align: right;\">-0.000257679</td><td style = \"text-align: right;\">0.0036918</td><td style = \"text-align: right;\">0.0044214</td><td style = \"text-align: right;\">-0.00573093</td><td style = \"text-align: right;\">-0.00533543</td><td style = \"text-align: right;\">-0.0029404</td><td style = \"text-align: right;\">-0.00795296</td><td style = \"text-align: right;\">0.0301245</td><td style = \"text-align: right;\">-0.00245939</td><td style = \"text-align: right;\">-0.035723</td><td style = \"text-align: right;\">-0.0059577</td><td style = \"text-align: right;\">0.000561432</td><td style = \"text-align: right;\">0.00796522</td><td style = \"text-align: right;\">0.00869858</td><td style = \"text-align: right;\">-0.0111387</td><td style = \"text-align: right;\">0.0129168</td><td style = \"text-align: right;\">-0.00774827</td><td style = \"text-align: right;\">-0.00622094</td><td style = \"text-align: right;\">-0.0106953</td><td style = \"text-align: right;\">-0.0116255</td><td style = \"text-align: right;\">-0.0271474</td><td style = \"text-align: right;\">0.04818</td><td style = \"text-align: right;\">-0.00992836</td><td style = \"text-align: right;\">0.00356783</td><td style = \"text-align: right;\">0.0816781</td><td style = \"text-align: right;\">-0.00199209</td><td style = \"text-align: right;\">0.00675967</td><td style = \"text-align: right;\">0.00492949</td><td style = \"text-align: right;\">0.0309028</td><td style = \"text-align: right;\">0.0023962</td><td style = \"text-align: right;\">-0.012155</td><td style = \"text-align: right;\">-0.00126069</td><td style = \"text-align: right;\">-0.00718162</td><td style = \"text-align: right;\">0.022976</td><td style = \"text-align: right;\">-0.0137218</td><td style = \"text-align: right;\">0.00441918</td><td style = \"text-align: right;\">0.00668503</td><td style = \"text-align: right;\">-0.00591119</td><td style = \"text-align: right;\">0.00202084</td><td style = \"text-align: right;\">0.00726722</td><td style = \"text-align: right;\">0.00642953</td><td style = \"text-align: right;\">0.00738837</td><td style = \"text-align: right;\">-0.014174</td><td style = \"text-align: right;\">-0.00869422</td><td style = \"text-align: right;\">0.00440717</td><td style = \"text-align: right;\">-0.000869436</td><td style = \"text-align: right;\">-0.0102446</td><td style = \"text-align: right;\">-0.0032325</td><td style = \"text-align: right;\">0.00800452</td><td style = \"text-align: right;\">-0.0157283</td><td style = \"text-align: right;\">0.0171037</td><td style = \"text-align: right;\">0.0392383</td><td style = \"text-align: right;\">5.20344e-5</td><td style = \"text-align: right;\">0.00255179</td><td style = \"text-align: right;\">0.00114464</td><td style = \"text-align: right;\">-0.00434494</td><td style = \"text-align: right;\">-0.0161059</td><td style = \"text-align: right;\">-0.00919894</td><td style = \"text-align: right;\">0.00437439</td><td style = \"text-align: right;\">0.000515322</td><td style = \"text-align: right;\">-0.00303988</td><td style = \"text-align: right;\">0.00340533</td><td style = \"text-align: right;\">-0.0637911</td><td style = \"text-align: right;\">-0.00663625</td><td style = \"text-align: right;\">-0.00270917</td><td style = \"text-align: right;\">0.0155023</td><td style = \"text-align: right;\">-0.0127276</td><td style = \"text-align: right;\">0.00942487</td><td style = \"text-align: right;\">0.00373959</td><td style = \"text-align: right;\">0.039076</td><td style = \"text-align: right;\">-0.00468764</td><td style = \"text-align: right;\">-0.000954332</td><td style = \"text-align: right;\">-0.000928479</td><td style = \"text-align: right;\">0.000218006</td><td style = \"text-align: right;\">0.0746998</td><td style = \"text-align: right;\">-0.0093955</td><td style = \"text-align: right;\">-0.00197106</td><td style = \"text-align: right;\">-0.010685</td><td style = \"text-align: right;\">0.00270521</td><td style = \"text-align: right;\">0.0017625</td><td style = \"text-align: right;\">0.00375619</td><td style = \"text-align: right;\">0.00492992</td><td style = \"text-align: right;\">0.0</td><td style = \"text-align: right;\">-0.00103945</td><td style = \"text-align: right;\">0.0197897</td><td style = \"text-align: right;\">0.00822126</td><td style = \"text-align: right;\">&ctdot;</td></tr><tr><td class = \"rowNumber\" style = \"font-weight: bold; text-align: right;\">9</td><td style = \"text-align: right;\">0.00713443</td><td style = \"text-align: right;\">-0.00937106</td><td style = \"text-align: right;\">0.00181449</td><td style = \"text-align: right;\">0.00875941</td><td style = \"text-align: right;\">-0.00429447</td><td style = \"text-align: right;\">0.0119466</td><td style = \"text-align: right;\">0.0189471</td><td style = \"text-align: right;\">0.00159354</td><td style = \"text-align: right;\">-0.00491588</td><td style = \"text-align: right;\">0.027822</td><td style = \"text-align: right;\">-0.017044</td><td style = \"text-align: right;\">-0.00247541</td><td style = \"text-align: right;\">0.00918534</td><td style = \"text-align: right;\">-0.00167587</td><td style = \"text-align: right;\">0.00757337</td><td style = \"text-align: right;\">0.0169123</td><td style = \"text-align: right;\">0.00293663</td><td style = \"text-align: right;\">0.00191393</td><td style = \"text-align: right;\">-0.0107569</td><td style = \"text-align: right;\">0.00754326</td><td style = \"text-align: right;\">0.0125895</td><td style = \"text-align: right;\">0.0245112</td><td style = \"text-align: right;\">0.0167251</td><td style = \"text-align: right;\">-0.0481123</td><td style = \"text-align: right;\">0.0040341</td><td style = \"text-align: right;\">0.00479907</td><td style = \"text-align: right;\">0.00264126</td><td style = \"text-align: right;\">-0.00675893</td><td style = \"text-align: right;\">0.00702773</td><td style = \"text-align: right;\">0.00705827</td><td style = \"text-align: right;\">-0.000772326</td><td style = \"text-align: right;\">0.00609359</td><td style = \"text-align: right;\">-0.00380233</td><td style = \"text-align: right;\">-0.00397702</td><td style = \"text-align: right;\">-0.0134258</td><td style = \"text-align: right;\">-0.00148971</td><td style = \"text-align: right;\">0.00400007</td><td style = \"text-align: right;\">-0.00724059</td><td style = \"text-align: right;\">-0.00392927</td><td style = \"text-align: right;\">0.01134</td><td style = \"text-align: right;\">0.00215346</td><td style = \"text-align: right;\">-0.00346149</td><td style = \"text-align: right;\">-0.00948875</td><td style = \"text-align: right;\">0.00829813</td><td style = \"text-align: right;\">0.00869722</td><td style = \"text-align: right;\">0.00962545</td><td style = \"text-align: right;\">0.0113431</td><td style = \"text-align: right;\">-0.0164894</td><td style = \"text-align: right;\">0.000238511</td><td style = \"text-align: right;\">0.00326415</td><td style = \"text-align: right;\">0.0183741</td><td style = \"text-align: right;\">0.0122555</td><td style = \"text-align: right;\">0.00788794</td><td style = \"text-align: right;\">-0.00203439</td><td style = \"text-align: right;\">-0.0077022</td><td style = \"text-align: right;\">-0.0185746</td><td style = \"text-align: right;\">0.0246373</td><td style = \"text-align: right;\">-0.0172812</td><td style = \"text-align: right;\">0.00699272</td><td style = \"text-align: right;\">0.00484395</td><td style = \"text-align: right;\">-0.00516182</td><td style = \"text-align: right;\">-0.00396461</td><td style = \"text-align: right;\">-0.00290337</td><td style = \"text-align: right;\">-0.00458059</td><td style = \"text-align: right;\">-0.0198635</td><td style = \"text-align: right;\">0.0069717</td><td style = \"text-align: right;\">-0.0203271</td><td style = \"text-align: right;\">-0.00629285</td><td style = \"text-align: right;\">0.0167604</td><td style = \"text-align: right;\">-0.00305555</td><td style = \"text-align: right;\">-0.0295755</td><td style = \"text-align: right;\">0.0227748</td><td style = \"text-align: right;\">0.00210473</td><td style = \"text-align: right;\">-0.00283766</td><td style = \"text-align: right;\">0.00140419</td><td style = \"text-align: right;\">0.00581133</td><td style = \"text-align: right;\">-0.00211194</td><td style = \"text-align: right;\">-0.0250288</td><td style = \"text-align: right;\">0.00679515</td><td style = \"text-align: right;\">-0.00821355</td><td style = \"text-align: right;\">0.000742875</td><td style = \"text-align: right;\">-0.00213426</td><td style = \"text-align: right;\">-0.00686659</td><td style = \"text-align: right;\">0.0255989</td><td style = \"text-align: right;\">-0.00554669</td><td style = \"text-align: right;\">-0.00759622</td><td style = \"text-align: right;\">0.00350953</td><td style = \"text-align: right;\">-0.0149451</td><td style = \"text-align: right;\">-0.0250361</td><td style = \"text-align: right;\">0.0146855</td><td style = \"text-align: right;\">0.0163538</td><td style = \"text-align: right;\">-0.00927019</td><td style = \"text-align: right;\">-0.0021128</td><td style = \"text-align: right;\">0.0050513</td><td style = \"text-align: right;\">-0.0260807</td><td style = \"text-align: right;\">0.00937003</td><td style = \"text-align: right;\">-0.00320017</td><td style = \"text-align: right;\">0.011278</td><td style = \"text-align: right;\">-0.0204453</td><td style = \"text-align: right;\">0.0147067</td><td style = \"text-align: right;\">&ctdot;</td></tr><tr><td class = \"rowNumber\" style = \"font-weight: bold; text-align: right;\">10</td><td style = \"text-align: right;\">0.00943408</td><td style = \"text-align: right;\">-0.126618</td><td style = \"text-align: right;\">0.0232944</td><td style = \"text-align: right;\">0.0114514</td><td style = \"text-align: right;\">0.0124485</td><td style = \"text-align: right;\">0.0</td><td style = \"text-align: right;\">0.0102471</td><td style = \"text-align: right;\">0.00826432</td><td style = \"text-align: right;\">0.00708976</td><td style = \"text-align: right;\">-0.00702167</td><td style = \"text-align: right;\">0.0136919</td><td style = \"text-align: right;\">0.0211756</td><td style = \"text-align: right;\">0.0119072</td><td style = \"text-align: right;\">0.00892284</td><td style = \"text-align: right;\">0.0128331</td><td style = \"text-align: right;\">0.00732304</td><td style = \"text-align: right;\">0.00536212</td><td style = \"text-align: right;\">0.00932535</td><td style = \"text-align: right;\">0.0111392</td><td style = \"text-align: right;\">0.00250194</td><td style = \"text-align: right;\">0.00733215</td><td style = \"text-align: right;\">0.00373787</td><td style = \"text-align: right;\">0.0111963</td><td style = \"text-align: right;\">0.0391014</td><td style = \"text-align: right;\">0.016406</td><td style = \"text-align: right;\">0.0251362</td><td style = \"text-align: right;\">0.0140778</td><td style = \"text-align: right;\">0.0204579</td><td style = \"text-align: right;\">0.0248182</td><td style = \"text-align: right;\">-0.00497745</td><td style = \"text-align: right;\">0.0215153</td><td style = \"text-align: right;\">-0.0134299</td><td style = \"text-align: right;\">0.0324825</td><td style = \"text-align: right;\">0.00851357</td><td style = \"text-align: right;\">0.0216477</td><td style = \"text-align: right;\">-0.0132055</td><td style = \"text-align: right;\">0.00131575</td><td style = \"text-align: right;\">0.00988569</td><td style = \"text-align: right;\">-0.0118813</td><td style = \"text-align: right;\">0.00932228</td><td style = \"text-align: right;\">0.0377303</td><td style = \"text-align: right;\">0.0149582</td><td style = \"text-align: right;\">-0.00531061</td><td style = \"text-align: right;\">0.00840396</td><td style = \"text-align: right;\">0.00242172</td><td style = \"text-align: right;\">0.0124172</td><td style = \"text-align: right;\">0.0140119</td><td style = \"text-align: right;\">0.0128159</td><td style = \"text-align: right;\">0.00475166</td><td style = \"text-align: right;\">0.0149676</td><td style = \"text-align: right;\">0.0132317</td><td style = \"text-align: right;\">0.0156883</td><td style = \"text-align: right;\">0.00560761</td><td style = \"text-align: right;\">0.00687924</td><td style = \"text-align: right;\">0.00664854</td><td style = \"text-align: right;\">0.00144123</td><td style = \"text-align: right;\">0.0141209</td><td style = \"text-align: right;\">0.000337393</td><td style = \"text-align: right;\">0.0079586</td><td style = \"text-align: right;\">-0.00155137</td><td style = \"text-align: right;\">0.0251586</td><td style = \"text-align: right;\">0.0168313</td><td style = \"text-align: right;\">0.00958504</td><td style = \"text-align: right;\">0.000645499</td><td style = \"text-align: right;\">-0.0239985</td><td style = \"text-align: right;\">-0.00260876</td><td style = \"text-align: right;\">0.00864941</td><td style = \"text-align: right;\">-0.0815565</td><td style = \"text-align: right;\">0.0134066</td><td style = \"text-align: right;\">-0.00505358</td><td style = \"text-align: right;\">0.00811451</td><td style = \"text-align: right;\">0.00889932</td><td style = \"text-align: right;\">0.00299947</td><td style = \"text-align: right;\">0.00335292</td><td style = \"text-align: right;\">0.00830679</td><td style = \"text-align: right;\">0.00192971</td><td style = \"text-align: right;\">0.0146907</td><td style = \"text-align: right;\">0.00387448</td><td style = \"text-align: right;\">0.0140994</td><td style = \"text-align: right;\">-0.00295875</td><td style = \"text-align: right;\">-0.00825744</td><td style = \"text-align: right;\">0.00721556</td><td style = \"text-align: right;\">0.0115213</td><td style = \"text-align: right;\">0.0112722</td><td style = \"text-align: right;\">-0.000358974</td><td style = \"text-align: right;\">0.0156762</td><td style = \"text-align: right;\">0.00901478</td><td style = \"text-align: right;\">0.00881843</td><td style = \"text-align: right;\">0.0167601</td><td style = \"text-align: right;\">0.00815797</td><td style = \"text-align: right;\">0.0158179</td><td style = \"text-align: right;\">0.0154485</td><td style = \"text-align: right;\">-0.000507705</td><td style = \"text-align: right;\">0.00524351</td><td style = \"text-align: right;\">0.0155279</td><td style = \"text-align: right;\">-0.0022296</td><td style = \"text-align: right;\">-0.0259755</td><td style = \"text-align: right;\">-0.0129276</td><td style = \"text-align: right;\">-0.0411636</td><td style = \"text-align: right;\">0.0129779</td><td style = \"text-align: right;\">&ctdot;</td></tr><tr><td class = \"rowNumber\" style = \"font-weight: bold; text-align: right;\">11</td><td style = \"text-align: right;\">0.00735038</td><td style = \"text-align: right;\">-0.00507494</td><td style = \"text-align: right;\">0.00600385</td><td style = \"text-align: right;\">-0.00587464</td><td style = \"text-align: right;\">0.0110105</td><td style = \"text-align: right;\">-0.0142169</td><td style = \"text-align: right;\">0.00812286</td><td style = \"text-align: right;\">0.00105238</td><td style = \"text-align: right;\">0.0125447</td><td style = \"text-align: right;\">0.00220833</td><td style = \"text-align: right;\">0.00285005</td><td style = \"text-align: right;\">-0.00198702</td><td style = \"text-align: right;\">0.0113147</td><td style = \"text-align: right;\">0.0044059</td><td style = \"text-align: right;\">0.00679388</td><td style = \"text-align: right;\">0.0127637</td><td style = \"text-align: right;\">-0.00340885</td><td style = \"text-align: right;\">0.0118634</td><td style = \"text-align: right;\">0.0102601</td><td style = \"text-align: right;\">0.00415584</td><td style = \"text-align: right;\">-0.00533672</td><td style = \"text-align: right;\">0.00595119</td><td style = \"text-align: right;\">0.000478669</td><td style = \"text-align: right;\">-0.0153079</td><td style = \"text-align: right;\">0.0119812</td><td style = \"text-align: right;\">-0.00358565</td><td style = \"text-align: right;\">-0.0101289</td><td style = \"text-align: right;\">-0.00571167</td><td style = \"text-align: right;\">0.0230397</td><td style = \"text-align: right;\">0.00410805</td><td style = \"text-align: right;\">0.0027876</td><td style = \"text-align: right;\">0.00506801</td><td style = \"text-align: right;\">0.015854</td><td style = \"text-align: right;\">-0.00706456</td><td style = \"text-align: right;\">-0.0148058</td><td style = \"text-align: right;\">-0.0130763</td><td style = \"text-align: right;\">0.00520325</td><td style = \"text-align: right;\">-0.00310197</td><td style = \"text-align: right;\">-0.0489893</td><td style = \"text-align: right;\">-0.00557055</td><td style = \"text-align: right;\">0.0149064</td><td style = \"text-align: right;\">0.00471861</td><td style = \"text-align: right;\">-0.00587455</td><td style = \"text-align: right;\">0.00235092</td><td style = \"text-align: right;\">-0.00763102</td><td style = \"text-align: right;\">0.0138891</td><td style = \"text-align: right;\">0.00547633</td><td style = \"text-align: right;\">0.00565093</td><td style = \"text-align: right;\">-0.00785255</td><td style = \"text-align: right;\">0.00573203</td><td style = \"text-align: right;\">0.0144399</td><td style = \"text-align: right;\">0.00551897</td><td style = \"text-align: right;\">0.00740266</td><td style = \"text-align: right;\">0.0108504</td><td style = \"text-align: right;\">-0.0239286</td><td style = \"text-align: right;\">-0.000288067</td><td style = \"text-align: right;\">0.000866727</td><td style = \"text-align: right;\">0.0110683</td><td style = \"text-align: right;\">0.0</td><td style = \"text-align: right;\">0.000758014</td><td style = \"text-align: right;\">-0.000776567</td><td style = \"text-align: right;\">-0.00462711</td><td style = \"text-align: right;\">0.0164231</td><td style = \"text-align: right;\">0.000859872</td><td style = \"text-align: right;\">-0.00223922</td><td style = \"text-align: right;\">-0.00742848</td><td style = \"text-align: right;\">-0.00742809</td><td style = \"text-align: right;\">-0.0116254</td><td style = \"text-align: right;\">-0.000863506</td><td style = \"text-align: right;\">-2.92392e-5</td><td style = \"text-align: right;\">0.00424463</td><td style = \"text-align: right;\">0.000448503</td><td style = \"text-align: right;\">-0.000898806</td><td style = \"text-align: right;\">-0.00180409</td><td style = \"text-align: right;\">0.0126754</td><td style = \"text-align: right;\">-0.000964389</td><td style = \"text-align: right;\">0.0246926</td><td style = \"text-align: right;\">0.00880637</td><td style = \"text-align: right;\">0.00200848</td><td style = \"text-align: right;\">0.00148035</td><td style = \"text-align: right;\">-0.0153662</td><td style = \"text-align: right;\">0.00647641</td><td style = \"text-align: right;\">0.0313906</td><td style = \"text-align: right;\">-0.0090446</td><td style = \"text-align: right;\">0.0100012</td><td style = \"text-align: right;\">0.00638097</td><td style = \"text-align: right;\">0.00672408</td><td style = \"text-align: right;\">-0.0168221</td><td style = \"text-align: right;\">-0.0332332</td><td style = \"text-align: right;\">0.000137957</td><td style = \"text-align: right;\">-0.000682622</td><td style = \"text-align: right;\">0.00912883</td><td style = \"text-align: right;\">-0.00466622</td><td style = \"text-align: right;\">0.00543304</td><td style = \"text-align: right;\">0.0318201</td><td style = \"text-align: right;\">0.00445435</td><td style = \"text-align: right;\">-0.0232956</td><td style = \"text-align: right;\">-0.0119624</td><td style = \"text-align: right;\">0.00341066</td><td style = \"text-align: right;\">0.00741509</td><td style = \"text-align: right;\">&ctdot;</td></tr><tr><td class = \"rowNumber\" style = \"font-weight: bold; text-align: right;\">12</td><td style = \"text-align: right;\">-0.00567505</td><td style = \"text-align: right;\">-0.032752</td><td style = \"text-align: right;\">-0.0431721</td><td style = \"text-align: right;\">-0.0136645</td><td style = \"text-align: right;\">-0.00680038</td><td style = \"text-align: right;\">-0.000113614</td><td style = \"text-align: right;\">0.00816903</td><td style = \"text-align: right;\">-0.000239153</td><td style = \"text-align: right;\">0.000743161</td><td style = \"text-align: right;\">0.0255863</td><td style = \"text-align: right;\">-0.00134024</td><td style = \"text-align: right;\">-0.002877</td><td style = \"text-align: right;\">-0.00379515</td><td style = \"text-align: right;\">0.0127959</td><td style = \"text-align: right;\">0.0035049</td><td style = \"text-align: right;\">0.00788295</td><td style = \"text-align: right;\">-0.00146448</td><td style = \"text-align: right;\">-0.0109168</td><td style = \"text-align: right;\">-0.023526</td><td style = \"text-align: right;\">-0.0026993</td><td style = \"text-align: right;\">-0.00378431</td><td style = \"text-align: right;\">0.00517779</td><td style = \"text-align: right;\">-0.000837907</td><td style = \"text-align: right;\">-0.0271922</td><td style = \"text-align: right;\">0.00212474</td><td style = \"text-align: right;\">-0.007132</td><td style = \"text-align: right;\">-0.00625945</td><td style = \"text-align: right;\">0.00555332</td><td style = \"text-align: right;\">0.00235338</td><td style = \"text-align: right;\">-0.0162393</td><td style = \"text-align: right;\">-0.0127234</td><td style = \"text-align: right;\">0.014081</td><td style = \"text-align: right;\">0.00120916</td><td style = \"text-align: right;\">0.0145235</td><td style = \"text-align: right;\">0.00191574</td><td style = \"text-align: right;\">-0.0211976</td><td style = \"text-align: right;\">0.000759328</td><td style = \"text-align: right;\">-0.0109318</td><td style = \"text-align: right;\">-0.0783009</td><td style = \"text-align: right;\">0.0115962</td><td style = \"text-align: right;\">-0.00434617</td><td style = \"text-align: right;\">-0.00682318</td><td style = \"text-align: right;\">-0.0426761</td><td style = \"text-align: right;\">0.00814223</td><td style = \"text-align: right;\">0.00555556</td><td style = \"text-align: right;\">0.00626847</td><td style = \"text-align: right;\">0.0148381</td><td style = \"text-align: right;\">-0.00233472</td><td style = \"text-align: right;\">-0.015407</td><td style = \"text-align: right;\">-0.0316721</td><td style = \"text-align: right;\">0.0210882</td><td style = \"text-align: right;\">0.0164898</td><td style = \"text-align: right;\">-0.00755601</td><td style = \"text-align: right;\">0.000363741</td><td style = \"text-align: right;\">-0.0338218</td><td style = \"text-align: right;\">-0.0130493</td><td style = \"text-align: right;\">0.000288781</td><td style = \"text-align: right;\">0.00332984</td><td style = \"text-align: right;\">-0.0155129</td><td style = \"text-align: right;\">0.00162283</td><td style = \"text-align: right;\">-0.0089756</td><td style = \"text-align: right;\">0.00622372</td><td style = \"text-align: right;\">-0.0160632</td><td style = \"text-align: right;\">-0.0181422</td><td style = \"text-align: right;\">0.005902</td><td style = \"text-align: right;\">-0.00836819</td><td style = \"text-align: right;\">0.00526614</td><td style = \"text-align: right;\">0.0129089</td><td style = \"text-align: right;\">0.00516977</td><td style = \"text-align: right;\">-0.0317038</td><td style = \"text-align: right;\">-0.037985</td><td style = \"text-align: right;\">-0.0114623</td><td style = \"text-align: right;\">0.010585</td><td style = \"text-align: right;\">-0.0116749</td><td style = \"text-align: right;\">0.0119133</td><td style = \"text-align: right;\">0.0100792</td><td style = \"text-align: right;\">-0.00475381</td><td style = \"text-align: right;\">-0.000484766</td><td style = \"text-align: right;\">0.00571562</td><td style = \"text-align: right;\">-0.0151537</td><td style = \"text-align: right;\">-0.00666973</td><td style = \"text-align: right;\">0.00442694</td><td style = \"text-align: right;\">-0.0172497</td><td style = \"text-align: right;\">0.00148208</td><td style = \"text-align: right;\">0.00124322</td><td style = \"text-align: right;\">-0.0131455</td><td style = \"text-align: right;\">-0.00620025</td><td style = \"text-align: right;\">-0.0105462</td><td style = \"text-align: right;\">-0.046902</td><td style = \"text-align: right;\">0.0201738</td><td style = \"text-align: right;\">0.00721147</td><td style = \"text-align: right;\">0.0117307</td><td style = \"text-align: right;\">-0.000340294</td><td style = \"text-align: right;\">-0.0418249</td><td style = \"text-align: right;\">-0.0192698</td><td style = \"text-align: right;\">0.00692049</td><td style = \"text-align: right;\">-0.0697144</td><td style = \"text-align: right;\">0.00170917</td><td style = \"text-align: right;\">0.0258794</td><td style = \"text-align: right;\">0.0022561</td><td style = \"text-align: right;\">&ctdot;</td></tr><tr><td class = \"rowNumber\" style = \"font-weight: bold; text-align: right;\">13</td><td style = \"text-align: right;\">0.00578606</td><td style = \"text-align: right;\">-0.0314473</td><td style = \"text-align: right;\">0.004402</td><td style = \"text-align: right;\">-0.009102</td><td style = \"text-align: right;\">0.00356331</td><td style = \"text-align: right;\">-0.00890401</td><td style = \"text-align: right;\">0.0234603</td><td style = \"text-align: right;\">0.00124234</td><td style = \"text-align: right;\">0.000171407</td><td style = \"text-align: right;\">-0.00309499</td><td style = \"text-align: right;\">0.00926047</td><td style = \"text-align: right;\">-0.00421972</td><td style = \"text-align: right;\">0.0120162</td><td style = \"text-align: right;\">-0.00568402</td><td style = \"text-align: right;\">-0.00150042</td><td style = \"text-align: right;\">0.0066217</td><td style = \"text-align: right;\">-0.00342542</td><td style = \"text-align: right;\">-0.00588398</td><td style = \"text-align: right;\">0.0113538</td><td style = \"text-align: right;\">0.000831154</td><td style = \"text-align: right;\">0.0068224</td><td style = \"text-align: right;\">0.000737487</td><td style = \"text-align: right;\">-0.000120006</td><td style = \"text-align: right;\">0.0222279</td><td style = \"text-align: right;\">-0.00127436</td><td style = \"text-align: right;\">0.018006</td><td style = \"text-align: right;\">0.0655501</td><td style = \"text-align: right;\">0.0108586</td><td style = \"text-align: right;\">0.00741614</td><td style = \"text-align: right;\">-0.00358404</td><td style = \"text-align: right;\">0.00521422</td><td style = \"text-align: right;\">-0.00665419</td><td style = \"text-align: right;\">0.00120776</td><td style = \"text-align: right;\">-0.00240243</td><td style = \"text-align: right;\">-0.0111207</td><td style = \"text-align: right;\">-0.027793</td><td style = \"text-align: right;\">0.00361932</td><td style = \"text-align: right;\">-0.015171</td><td style = \"text-align: right;\">-0.0751528</td><td style = \"text-align: right;\">-0.0092659</td><td style = \"text-align: right;\">-0.000512592</td><td style = \"text-align: right;\">-0.00250472</td><td style = \"text-align: right;\">-0.0118078</td><td style = \"text-align: right;\">0.00146554</td><td style = \"text-align: right;\">0.0113618</td><td style = \"text-align: right;\">0.000604594</td><td style = \"text-align: right;\">-0.0122037</td><td style = \"text-align: right;\">0.0157804</td><td style = \"text-align: right;\">0.0060465</td><td style = \"text-align: right;\">-0.00222454</td><td style = \"text-align: right;\">0.00621118</td><td style = \"text-align: right;\">0.00685655</td><td style = \"text-align: right;\">0.00732774</td><td style = \"text-align: right;\">0.00201525</td><td style = \"text-align: right;\">-0.0140433</td><td style = \"text-align: right;\">0.00291461</td><td style = \"text-align: right;\">0.0367131</td><td style = \"text-align: right;\">-0.010807</td><td style = \"text-align: right;\">0.00196413</td><td style = \"text-align: right;\">0.00467307</td><td style = \"text-align: right;\">0.0136266</td><td style = \"text-align: right;\">-0.00943965</td><td style = \"text-align: right;\">0.0135814</td><td style = \"text-align: right;\">-0.0169184</td><td style = \"text-align: right;\">0.00316364</td><td style = \"text-align: right;\">-0.00310076</td><td style = \"text-align: right;\">-0.000950663</td><td style = \"text-align: right;\">-0.00106916</td><td style = \"text-align: right;\">0.00746123</td><td style = \"text-align: right;\">0.00511606</td><td style = \"text-align: right;\">-0.00220214</td><td style = \"text-align: right;\">0.0144841</td><td style = \"text-align: right;\">0.0</td><td style = \"text-align: right;\">-0.0115484</td><td style = \"text-align: right;\">-0.000301869</td><td style = \"text-align: right;\">0.00571424</td><td style = \"text-align: right;\">-0.000453937</td><td style = \"text-align: right;\">0.00140953</td><td style = \"text-align: right;\">-0.00328253</td><td style = \"text-align: right;\">0.0025001</td><td style = \"text-align: right;\">0.0187453</td><td style = \"text-align: right;\">0.00576979</td><td style = \"text-align: right;\">-0.0144506</td><td style = \"text-align: right;\">0.0239653</td><td style = \"text-align: right;\">-0.0130407</td><td style = \"text-align: right;\">-0.0223246</td><td style = \"text-align: right;\">0.00711093</td><td style = \"text-align: right;\">-0.0228165</td><td style = \"text-align: right;\">-0.0255332</td><td style = \"text-align: right;\">0.00323362</td><td style = \"text-align: right;\">-0.0139253</td><td style = \"text-align: right;\">0.00267744</td><td style = \"text-align: right;\">-0.00657191</td><td style = \"text-align: right;\">-0.0354224</td><td style = \"text-align: right;\">0.0014956</td><td style = \"text-align: right;\">-0.00386967</td><td style = \"text-align: right;\">-0.0633358</td><td style = \"text-align: right;\">0.0136282</td><td style = \"text-align: right;\">-0.0378679</td><td style = \"text-align: right;\">-0.00820282</td><td style = \"text-align: right;\">&ctdot;</td></tr><tr><td style = \"text-align: right;\">&vellip;</td><td style = \"text-align: right;\">&vellip;</td><td style = \"text-align: right;\">&vellip;</td><td style = \"text-align: right;\">&vellip;</td><td style = \"text-align: right;\">&vellip;</td><td style = \"text-align: right;\">&vellip;</td><td style = \"text-align: right;\">&vellip;</td><td style = \"text-align: right;\">&vellip;</td><td style = \"text-align: right;\">&vellip;</td><td style = \"text-align: right;\">&vellip;</td><td style = \"text-align: right;\">&vellip;</td><td style = \"text-align: right;\">&vellip;</td><td style = \"text-align: right;\">&vellip;</td><td style = \"text-align: right;\">&vellip;</td><td style = \"text-align: right;\">&vellip;</td><td style = \"text-align: right;\">&vellip;</td><td style = \"text-align: right;\">&vellip;</td><td style = \"text-align: right;\">&vellip;</td><td style = \"text-align: right;\">&vellip;</td><td style = \"text-align: right;\">&vellip;</td><td style = \"text-align: right;\">&vellip;</td><td style = \"text-align: right;\">&vellip;</td><td style = \"text-align: right;\">&vellip;</td><td style = \"text-align: right;\">&vellip;</td><td style = \"text-align: right;\">&vellip;</td><td style = \"text-align: right;\">&vellip;</td><td style = \"text-align: right;\">&vellip;</td><td style = \"text-align: right;\">&vellip;</td><td style = \"text-align: right;\">&vellip;</td><td style = \"text-align: right;\">&vellip;</td><td style = \"text-align: right;\">&vellip;</td><td style = \"text-align: right;\">&vellip;</td><td style = \"text-align: right;\">&vellip;</td><td style = \"text-align: right;\">&vellip;</td><td style = \"text-align: right;\">&vellip;</td><td style = \"text-align: right;\">&vellip;</td><td style = \"text-align: right;\">&vellip;</td><td style = \"text-align: right;\">&vellip;</td><td style = \"text-align: right;\">&vellip;</td><td style = \"text-align: right;\">&vellip;</td><td style = \"text-align: right;\">&vellip;</td><td style = \"text-align: right;\">&vellip;</td><td style = \"text-align: right;\">&vellip;</td><td style = \"text-align: right;\">&vellip;</td><td style = \"text-align: right;\">&vellip;</td><td style = \"text-align: right;\">&vellip;</td><td style = \"text-align: right;\">&vellip;</td><td style = \"text-align: right;\">&vellip;</td><td style = \"text-align: right;\">&vellip;</td><td style = \"text-align: right;\">&vellip;</td><td style = \"text-align: right;\">&vellip;</td><td style = \"text-align: right;\">&vellip;</td><td style = \"text-align: right;\">&vellip;</td><td style = \"text-align: right;\">&vellip;</td><td style = \"text-align: right;\">&vellip;</td><td style = \"text-align: right;\">&vellip;</td><td style = \"text-align: right;\">&vellip;</td><td style = \"text-align: right;\">&vellip;</td><td style = \"text-align: right;\">&vellip;</td><td style = \"text-align: right;\">&vellip;</td><td style = \"text-align: right;\">&vellip;</td><td style = \"text-align: right;\">&vellip;</td><td style = \"text-align: right;\">&vellip;</td><td style = \"text-align: right;\">&vellip;</td><td style = \"text-align: right;\">&vellip;</td><td style = \"text-align: right;\">&vellip;</td><td style = \"text-align: right;\">&vellip;</td><td style = \"text-align: right;\">&vellip;</td><td style = \"text-align: right;\">&vellip;</td><td style = \"text-align: right;\">&vellip;</td><td style = \"text-align: right;\">&vellip;</td><td style = \"text-align: right;\">&vellip;</td><td style = \"text-align: right;\">&vellip;</td><td style = \"text-align: right;\">&vellip;</td><td style = \"text-align: right;\">&vellip;</td><td style = \"text-align: right;\">&vellip;</td><td style = \"text-align: right;\">&vellip;</td><td style = \"text-align: right;\">&vellip;</td><td style = \"text-align: right;\">&vellip;</td><td style = \"text-align: right;\">&vellip;</td><td style = \"text-align: right;\">&vellip;</td><td style = \"text-align: right;\">&vellip;</td><td style = \"text-align: right;\">&vellip;</td><td style = \"text-align: right;\">&vellip;</td><td style = \"text-align: right;\">&vellip;</td><td style = \"text-align: right;\">&vellip;</td><td style = \"text-align: right;\">&vellip;</td><td style = \"text-align: right;\">&vellip;</td><td style = \"text-align: right;\">&vellip;</td><td style = \"text-align: right;\">&vellip;</td><td style = \"text-align: right;\">&vellip;</td><td style = \"text-align: right;\">&vellip;</td><td style = \"text-align: right;\">&vellip;</td><td style = \"text-align: right;\">&vellip;</td><td style = \"text-align: right;\">&vellip;</td><td style = \"text-align: right;\">&vellip;</td><td style = \"text-align: right;\">&vellip;</td><td style = \"text-align: right;\">&vellip;</td><td style = \"text-align: right;\">&vellip;</td><td style = \"text-align: right;\">&vellip;</td><td style = \"text-align: right;\">&vellip;</td><td style = \"text-align: right;\">&dtdot;</td></tr><tr><td class = \"rowNumber\" style = \"font-weight: bold; text-align: right;\">1386</td><td style = \"text-align: right;\">0.0233847</td><td style = \"text-align: right;\">0.0318611</td><td style = \"text-align: right;\">0.119717</td><td style = \"text-align: right;\">0.0208535</td><td style = \"text-align: right;\">0.00599697</td><td style = \"text-align: right;\">0.0227177</td><td style = \"text-align: right;\">0.00284843</td><td style = \"text-align: right;\">-0.0308684</td><td style = \"text-align: right;\">-0.00523628</td><td style = \"text-align: right;\">0.0</td><td style = \"text-align: right;\">0.00988018</td><td style = \"text-align: right;\">0.0163471</td><td style = \"text-align: right;\">-0.00843336</td><td style = \"text-align: right;\">-0.0713505</td><td style = \"text-align: right;\">0.0113846</td><td style = \"text-align: right;\">0.0123353</td><td style = \"text-align: right;\">-0.0662494</td><td style = \"text-align: right;\">0.00362403</td><td style = \"text-align: right;\">-0.00737031</td><td style = \"text-align: right;\">-0.00531151</td><td style = \"text-align: right;\">-0.0148687</td><td style = \"text-align: right;\">0.0479893</td><td style = \"text-align: right;\">0.001078</td><td style = \"text-align: right;\">0.0197557</td><td style = \"text-align: right;\">0.0030352</td><td style = \"text-align: right;\">0.00974842</td><td style = \"text-align: right;\">0.00370878</td><td style = \"text-align: right;\">0.013421</td><td style = \"text-align: right;\">0.0407035</td><td style = \"text-align: right;\">0.0129004</td><td style = \"text-align: right;\">0.00561941</td><td style = \"text-align: right;\">-0.00370341</td><td style = \"text-align: right;\">-0.00170024</td><td style = \"text-align: right;\">-0.00125899</td><td style = \"text-align: right;\">0.0138604</td><td style = \"text-align: right;\">-0.00244798</td><td style = \"text-align: right;\">-0.000475861</td><td style = \"text-align: right;\">0.00101769</td><td style = \"text-align: right;\">0.00812208</td><td style = \"text-align: right;\">0.0283979</td><td style = \"text-align: right;\">0.00505271</td><td style = \"text-align: right;\">0.00922175</td><td style = \"text-align: right;\">0.00284333</td><td style = \"text-align: right;\">0.00826094</td><td style = \"text-align: right;\">-0.00376648</td><td style = \"text-align: right;\">0.000522478</td><td style = \"text-align: right;\">0.0102646</td><td style = \"text-align: right;\">-0.00903675</td><td style = \"text-align: right;\">0.00320229</td><td style = \"text-align: right;\">0.00603017</td><td style = \"text-align: right;\">0.00618667</td><td style = \"text-align: right;\">-0.00697859</td><td style = \"text-align: right;\">0.0245581</td><td style = \"text-align: right;\">-0.00366767</td><td style = \"text-align: right;\">-0.00225324</td><td style = \"text-align: right;\">0.00277158</td><td style = \"text-align: right;\">0.00790795</td><td style = \"text-align: right;\">0.0172395</td><td style = \"text-align: right;\">-0.00369849</td><td style = \"text-align: right;\">0.0113316</td><td style = \"text-align: right;\">0.00959239</td><td style = \"text-align: right;\">0.0118283</td><td style = \"text-align: right;\">0.0375835</td><td style = \"text-align: right;\">-0.00248449</td><td style = \"text-align: right;\">0.0172167</td><td style = \"text-align: right;\">0.00321026</td><td style = \"text-align: right;\">0.0265538</td><td style = \"text-align: right;\">0.0065343</td><td style = \"text-align: right;\">0.013127</td><td style = \"text-align: right;\">0.00886486</td><td style = \"text-align: right;\">0.00961539</td><td style = \"text-align: right;\">0.013955</td><td style = \"text-align: right;\">0.0178836</td><td style = \"text-align: right;\">0.00796309</td><td style = \"text-align: right;\">-0.000712258</td><td style = \"text-align: right;\">0.00273811</td><td style = \"text-align: right;\">0.00870329</td><td style = \"text-align: right;\">-0.00292504</td><td style = \"text-align: right;\">0.0179461</td><td style = \"text-align: right;\">0.0149248</td><td style = \"text-align: right;\">-0.0048859</td><td style = \"text-align: right;\">0.0174764</td><td style = \"text-align: right;\">-0.0446525</td><td style = \"text-align: right;\">-0.0128053</td><td style = \"text-align: right;\">0.00244755</td><td style = \"text-align: right;\">0.0151759</td><td style = \"text-align: right;\">0.00192674</td><td style = \"text-align: right;\">0.00278659</td><td style = \"text-align: right;\">0.0201301</td><td style = \"text-align: right;\">0.0054007</td><td style = \"text-align: right;\">0.024851</td><td style = \"text-align: right;\">-0.000774509</td><td style = \"text-align: right;\">0.0263087</td><td style = \"text-align: right;\">-0.0307463</td><td style = \"text-align: right;\">0.0109153</td><td style = \"text-align: right;\">0.00708932</td><td style = \"text-align: right;\">0.0110684</td><td style = \"text-align: right;\">-0.00491844</td><td style = \"text-align: right;\">-0.00463203</td><td style = \"text-align: right;\">-0.00323332</td><td style = \"text-align: right;\">&ctdot;</td></tr><tr><td class = \"rowNumber\" style = \"font-weight: bold; text-align: right;\">1387</td><td style = \"text-align: right;\">-0.0071934</td><td style = \"text-align: right;\">-0.0153211</td><td style = \"text-align: right;\">-0.0572493</td><td style = \"text-align: right;\">0.052674</td><td style = \"text-align: right;\">-0.00590223</td><td style = \"text-align: right;\">-0.0131632</td><td style = \"text-align: right;\">-0.0118968</td><td style = \"text-align: right;\">-0.0256415</td><td style = \"text-align: right;\">-0.0219938</td><td style = \"text-align: right;\">0.00897621</td><td style = \"text-align: right;\">-0.0018375</td><td style = \"text-align: right;\">0.000910484</td><td style = \"text-align: right;\">-0.0104197</td><td style = \"text-align: right;\">-0.0201948</td><td style = \"text-align: right;\">-0.000935155</td><td style = \"text-align: right;\">-0.00662321</td><td style = \"text-align: right;\">0.0144003</td><td style = \"text-align: right;\">-0.00696593</td><td style = \"text-align: right;\">-0.00828062</td><td style = \"text-align: right;\">-0.0065267</td><td style = \"text-align: right;\">-0.0262737</td><td style = \"text-align: right;\">-0.0453089</td><td style = \"text-align: right;\">0.0166377</td><td style = \"text-align: right;\">-0.0108173</td><td style = \"text-align: right;\">-0.00695856</td><td style = \"text-align: right;\">-0.0181133</td><td style = \"text-align: right;\">-0.00197633</td><td style = \"text-align: right;\">-0.000505132</td><td style = \"text-align: right;\">0.0155554</td><td style = \"text-align: right;\">-0.0171249</td><td style = \"text-align: right;\">-0.0114942</td><td style = \"text-align: right;\">-0.00804088</td><td style = \"text-align: right;\">-0.00511791</td><td style = \"text-align: right;\">0.0123415</td><td style = \"text-align: right;\">-0.0199218</td><td style = \"text-align: right;\">-0.0143177</td><td style = \"text-align: right;\">-0.0072688</td><td style = \"text-align: right;\">0.00456696</td><td style = \"text-align: right;\">0.00278558</td><td style = \"text-align: right;\">0.00327376</td><td style = \"text-align: right;\">-0.00356398</td><td style = \"text-align: right;\">-0.0194649</td><td style = \"text-align: right;\">0.0142086</td><td style = \"text-align: right;\">-0.00116666</td><td style = \"text-align: right;\">-0.0267703</td><td style = \"text-align: right;\">-0.00733955</td><td style = \"text-align: right;\">-0.00415265</td><td style = \"text-align: right;\">-0.00371054</td><td style = \"text-align: right;\">-0.00516431</td><td style = \"text-align: right;\">-0.0131939</td><td style = \"text-align: right;\">-0.00273713</td><td style = \"text-align: right;\">-0.0191155</td><td style = \"text-align: right;\">-0.0179</td><td style = \"text-align: right;\">-0.00614468</td><td style = \"text-align: right;\">0.00331177</td><td style = \"text-align: right;\">-0.00512278</td><td style = \"text-align: right;\">-0.00154229</td><td style = \"text-align: right;\">-0.0265289</td><td style = \"text-align: right;\">-0.0217881</td><td style = \"text-align: right;\">-0.00865708</td><td style = \"text-align: right;\">-0.0107979</td><td style = \"text-align: right;\">0.00260957</td><td style = \"text-align: right;\">0.0110051</td><td style = \"text-align: right;\">-0.0172212</td><td style = \"text-align: right;\">-0.00831047</td><td style = \"text-align: right;\">-0.0177854</td><td style = \"text-align: right;\">-0.0112607</td><td style = \"text-align: right;\">0.000640359</td><td style = \"text-align: right;\">-0.0101364</td><td style = \"text-align: right;\">-0.00024654</td><td style = \"text-align: right;\">0.0246251</td><td style = \"text-align: right;\">-0.00218529</td><td style = \"text-align: right;\">-0.0348116</td><td style = \"text-align: right;\">0.0349162</td><td style = \"text-align: right;\">-0.0143954</td><td style = \"text-align: right;\">0.00971825</td><td style = \"text-align: right;\">-0.00637502</td><td style = \"text-align: right;\">-0.0113459</td><td style = \"text-align: right;\">0.00694789</td><td style = \"text-align: right;\">-0.00402737</td><td style = \"text-align: right;\">-0.0627368</td><td style = \"text-align: right;\">-0.0291118</td><td style = \"text-align: right;\">-0.00462846</td><td style = \"text-align: right;\">-0.00742714</td><td style = \"text-align: right;\">-0.0134784</td><td style = \"text-align: right;\">-0.00591953</td><td style = \"text-align: right;\">-0.00891544</td><td style = \"text-align: right;\">-0.00787299</td><td style = \"text-align: right;\">-0.0165056</td><td style = \"text-align: right;\">-0.0117062</td><td style = \"text-align: right;\">-0.0224189</td><td style = \"text-align: right;\">-0.00640489</td><td style = \"text-align: right;\">-0.0220395</td><td style = \"text-align: right;\">0.0255684</td><td style = \"text-align: right;\">-0.00481331</td><td style = \"text-align: right;\">-0.0105509</td><td style = \"text-align: right;\">0.00994027</td><td style = \"text-align: right;\">-0.0236348</td><td style = \"text-align: right;\">-0.0203238</td><td style = \"text-align: right;\">-0.0180056</td><td style = \"text-align: right;\">&ctdot;</td></tr><tr><td class = \"rowNumber\" style = \"font-weight: bold; text-align: right;\">1388</td><td style = \"text-align: right;\">-0.0263</td><td style = \"text-align: right;\">-0.0427134</td><td style = \"text-align: right;\">0.0130083</td><td style = \"text-align: right;\">-0.00883048</td><td style = \"text-align: right;\">-0.0121018</td><td style = \"text-align: right;\">-0.00484409</td><td style = \"text-align: right;\">7.56931e-5</td><td style = \"text-align: right;\">-0.00381431</td><td style = \"text-align: right;\">0.009968</td><td style = \"text-align: right;\">0.0113843</td><td style = \"text-align: right;\">-0.00499852</td><td style = \"text-align: right;\">-0.0117174</td><td style = \"text-align: right;\">0.00234317</td><td style = \"text-align: right;\">0.0492672</td><td style = \"text-align: right;\">0.00321733</td><td style = \"text-align: right;\">-0.0030424</td><td style = \"text-align: right;\">-0.000794615</td><td style = \"text-align: right;\">0.0107717</td><td style = \"text-align: right;\">-0.00183589</td><td style = \"text-align: right;\">0.0123139</td><td style = \"text-align: right;\">0.000387705</td><td style = \"text-align: right;\">0.0124608</td><td style = \"text-align: right;\">0.00588636</td><td style = \"text-align: right;\">-0.0147915</td><td style = \"text-align: right;\">0.0147359</td><td style = \"text-align: right;\">-0.00336565</td><td style = \"text-align: right;\">0.00517951</td><td style = \"text-align: right;\">-0.00420215</td><td style = \"text-align: right;\">-0.00123005</td><td style = \"text-align: right;\">0.00594298</td><td style = \"text-align: right;\">0.00496608</td><td style = \"text-align: right;\">0.0115188</td><td style = \"text-align: right;\">-0.00973941</td><td style = \"text-align: right;\">0.00297308</td><td style = \"text-align: right;\">-0.00333508</td><td style = \"text-align: right;\">-0.0323425</td><td style = \"text-align: right;\">-0.00401536</td><td style = \"text-align: right;\">0.0145753</td><td style = \"text-align: right;\">0.0331038</td><td style = \"text-align: right;\">-0.0118869</td><td style = \"text-align: right;\">0.016817</td><td style = \"text-align: right;\">-0.0185155</td><td style = \"text-align: right;\">0.0142304</td><td style = \"text-align: right;\">0.00781677</td><td style = \"text-align: right;\">0.0191945</td><td style = \"text-align: right;\">0.00131466</td><td style = \"text-align: right;\">0.000445736</td><td style = \"text-align: right;\">0.00443654</td><td style = \"text-align: right;\">-0.00321882</td><td style = \"text-align: right;\">-0.00970619</td><td style = \"text-align: right;\">0.00742205</td><td style = \"text-align: right;\">0.0145662</td><td style = \"text-align: right;\">0.00452854</td><td style = \"text-align: right;\">0.017829</td><td style = \"text-align: right;\">0.0160493</td><td style = \"text-align: right;\">0.0072495</td><td style = \"text-align: right;\">-0.00188826</td><td style = \"text-align: right;\">-0.0117698</td><td style = \"text-align: right;\">0.00384265</td><td style = \"text-align: right;\">0.00634452</td><td style = \"text-align: right;\">-0.000804524</td><td style = \"text-align: right;\">-0.0230683</td><td style = \"text-align: right;\">-0.003077</td><td style = \"text-align: right;\">-0.0122686</td><td style = \"text-align: right;\">-0.00822993</td><td style = \"text-align: right;\">0.0395254</td><td style = \"text-align: right;\">-0.0242637</td><td style = \"text-align: right;\">0.0161934</td><td style = \"text-align: right;\">0.00385697</td><td style = \"text-align: right;\">0.00852384</td><td style = \"text-align: right;\">-0.020604</td><td style = \"text-align: right;\">0.00887444</td><td style = \"text-align: right;\">0.0101912</td><td style = \"text-align: right;\">-0.0166825</td><td style = \"text-align: right;\">0.00356542</td><td style = \"text-align: right;\">0.00347558</td><td style = \"text-align: right;\">0.0108901</td><td style = \"text-align: right;\">0.0241681</td><td style = \"text-align: right;\">0.00647899</td><td style = \"text-align: right;\">0.00883891</td><td style = \"text-align: right;\">-0.00112386</td><td style = \"text-align: right;\">-0.00198166</td><td style = \"text-align: right;\">-0.00103148</td><td style = \"text-align: right;\">0.00446292</td><td style = \"text-align: right;\">0.0128672</td><td style = \"text-align: right;\">-0.000369655</td><td style = \"text-align: right;\">0.00770277</td><td style = \"text-align: right;\">-0.00819256</td><td style = \"text-align: right;\">-0.0241681</td><td style = \"text-align: right;\">0.00466016</td><td style = \"text-align: right;\">0.0210323</td><td style = \"text-align: right;\">-0.00974797</td><td style = \"text-align: right;\">-0.0292622</td><td style = \"text-align: right;\">-0.00848453</td><td style = \"text-align: right;\">0.00439567</td><td style = \"text-align: right;\">-0.0100452</td><td style = \"text-align: right;\">-0.0228809</td><td style = \"text-align: right;\">0.0187171</td><td style = \"text-align: right;\">-0.00474936</td><td style = \"text-align: right;\">-0.000692664</td><td style = \"text-align: right;\">&ctdot;</td></tr><tr><td class = \"rowNumber\" style = \"font-weight: bold; text-align: right;\">1389</td><td style = \"text-align: right;\">-0.0613015</td><td style = \"text-align: right;\">-0.0446197</td><td style = \"text-align: right;\">-0.0171084</td><td style = \"text-align: right;\">0.00626966</td><td style = \"text-align: right;\">0.00234604</td><td style = \"text-align: right;\">-0.0185511</td><td style = \"text-align: right;\">0.000380353</td><td style = \"text-align: right;\">-0.0140994</td><td style = \"text-align: right;\">-0.00768634</td><td style = \"text-align: right;\">-0.0113843</td><td style = \"text-align: right;\">-0.0125653</td><td style = \"text-align: right;\">-0.0105527</td><td style = \"text-align: right;\">-0.0172229</td><td style = \"text-align: right;\">-0.0191605</td><td style = \"text-align: right;\">-0.00790602</td><td style = \"text-align: right;\">-0.00592109</td><td style = \"text-align: right;\">0.0435528</td><td style = \"text-align: right;\">-0.0201689</td><td style = \"text-align: right;\">-0.00688383</td><td style = \"text-align: right;\">-0.0235471</td><td style = \"text-align: right;\">-0.00791134</td><td style = \"text-align: right;\">-0.0260781</td><td style = \"text-align: right;\">-0.000903306</td><td style = \"text-align: right;\">-0.0331562</td><td style = \"text-align: right;\">-0.0194021</td><td style = \"text-align: right;\">-0.018785</td><td style = \"text-align: right;\">-0.0404121</td><td style = \"text-align: right;\">0.0110498</td><td style = \"text-align: right;\">0.0621037</td><td style = \"text-align: right;\">-0.0153343</td><td style = \"text-align: right;\">-0.0307282</td><td style = \"text-align: right;\">-0.0129795</td><td style = \"text-align: right;\">-0.00346029</td><td style = \"text-align: right;\">0.00292011</td><td style = \"text-align: right;\">-0.0236619</td><td style = \"text-align: right;\">-0.0430286</td><td style = \"text-align: right;\">-0.0143738</td><td style = \"text-align: right;\">-0.0077135</td><td style = \"text-align: right;\">-0.0228644</td><td style = \"text-align: right;\">-0.0165463</td><td style = \"text-align: right;\">-0.0200952</td><td style = \"text-align: right;\">-0.0266682</td><td style = \"text-align: right;\">-0.0077571</td><td style = \"text-align: right;\">-0.00840062</td><td style = \"text-align: right;\">0.0188329</td><td style = \"text-align: right;\">-0.0145564</td><td style = \"text-align: right;\">-0.0123062</td><td style = \"text-align: right;\">0.0191906</td><td style = \"text-align: right;\">-0.0138879</td><td style = \"text-align: right;\">-0.0182876</td><td style = \"text-align: right;\">-0.0177357</td><td style = \"text-align: right;\">-0.0265345</td><td style = \"text-align: right;\">-0.0325251</td><td style = \"text-align: right;\">-0.0201795</td><td style = \"text-align: right;\">-0.00221491</td><td style = \"text-align: right;\">-0.0197389</td><td style = \"text-align: right;\">-0.0103628</td><td style = \"text-align: right;\">-0.0297547</td><td style = \"text-align: right;\">-0.00979318</td><td style = \"text-align: right;\">0.00686554</td><td style = \"text-align: right;\">-0.0289876</td><td style = \"text-align: right;\">-0.0104558</td><td style = \"text-align: right;\">-0.0303083</td><td style = \"text-align: right;\">0.0829856</td><td style = \"text-align: right;\">-0.0430595</td><td style = \"text-align: right;\">0.0709026</td><td style = \"text-align: right;\">-0.0138913</td><td style = \"text-align: right;\">-0.000945333</td><td style = \"text-align: right;\">-0.0103774</td><td style = \"text-align: right;\">-0.0158216</td><td style = \"text-align: right;\">-0.0223189</td><td style = \"text-align: right;\">-0.0605481</td><td style = \"text-align: right;\">-0.0194098</td><td style = \"text-align: right;\">-0.00750466</td><td style = \"text-align: right;\">-0.0096644</td><td style = \"text-align: right;\">-0.0261683</td><td style = \"text-align: right;\">-0.00818058</td><td style = \"text-align: right;\">-0.0156764</td><td style = \"text-align: right;\">-0.0185624</td><td style = \"text-align: right;\">0.0361391</td><td style = \"text-align: right;\">-0.0396513</td><td style = \"text-align: right;\">-0.0258255</td><td style = \"text-align: right;\">-0.0198026</td><td style = \"text-align: right;\">-0.00415233</td><td style = \"text-align: right;\">-0.0107981</td><td style = \"text-align: right;\">-0.00278866</td><td style = \"text-align: right;\">-0.0162629</td><td style = \"text-align: right;\">-0.0209112</td><td style = \"text-align: right;\">-0.0240071</td><td style = \"text-align: right;\">-0.0125739</td><td style = \"text-align: right;\">-0.00397221</td><td style = \"text-align: right;\">0.0017309</td><td style = \"text-align: right;\">-0.0301445</td><td style = \"text-align: right;\">-0.0156229</td><td style = \"text-align: right;\">-0.0251679</td><td style = \"text-align: right;\">-0.0162014</td><td style = \"text-align: right;\">-0.0249527</td><td style = \"text-align: right;\">-0.0415928</td><td style = \"text-align: right;\">0.0128762</td><td style = \"text-align: right;\">-0.00204788</td><td style = \"text-align: right;\">&ctdot;</td></tr><tr><td class = \"rowNumber\" style = \"font-weight: bold; text-align: right;\">1390</td><td style = \"text-align: right;\">0.00432918</td><td style = \"text-align: right;\">0.00245398</td><td style = \"text-align: right;\">0.00818338</td><td style = \"text-align: right;\">-0.00176439</td><td style = \"text-align: right;\">0.00500873</td><td style = \"text-align: right;\">0.0222308</td><td style = \"text-align: right;\">0.00189948</td><td style = \"text-align: right;\">0.0129559</td><td style = \"text-align: right;\">-0.00663961</td><td style = \"text-align: right;\">0.00848112</td><td style = \"text-align: right;\">0.000789982</td><td style = \"text-align: right;\">0.00501255</td><td style = \"text-align: right;\">0.00698473</td><td style = \"text-align: right;\">0.00176343</td><td style = \"text-align: right;\">0.0114227</td><td style = \"text-align: right;\">0.0103865</td><td style = \"text-align: right;\">-0.00917437</td><td style = \"text-align: right;\">0.00811644</td><td style = \"text-align: right;\">-0.000987311</td><td style = \"text-align: right;\">0.00601968</td><td style = \"text-align: right;\">0.0031201</td><td style = \"text-align: right;\">0.00555448</td><td style = \"text-align: right;\">-0.00740797</td><td style = \"text-align: right;\">-0.0134188</td><td style = \"text-align: right;\">0.0164416</td><td style = \"text-align: right;\">0.00356632</td><td style = \"text-align: right;\">0.00740085</td><td style = \"text-align: right;\">-0.0227363</td><td style = \"text-align: right;\">0.0283208</td><td style = \"text-align: right;\">0.0220115</td><td style = \"text-align: right;\">0.00414325</td><td style = \"text-align: right;\">0.0200785</td><td style = \"text-align: right;\">0.0114878</td><td style = \"text-align: right;\">-0.0140591</td><td style = \"text-align: right;\">0.0119745</td><td style = \"text-align: right;\">-0.0277267</td><td style = \"text-align: right;\">0.00813011</td><td style = \"text-align: right;\">0.0111007</td><td style = \"text-align: right;\">-0.00303325</td><td style = \"text-align: right;\">0.0106774</td><td style = \"text-align: right;\">-0.00388818</td><td style = \"text-align: right;\">-0.00294207</td><td style = \"text-align: right;\">-0.00122447</td><td style = \"text-align: right;\">0.00472597</td><td style = \"text-align: right;\">-0.00373832</td><td style = \"text-align: right;\">0.00425645</td><td style = \"text-align: right;\">0.0118604</td><td style = \"text-align: right;\">-0.000462857</td><td style = \"text-align: right;\">-0.00145405</td><td style = \"text-align: right;\">0.00562811</td><td style = \"text-align: right;\">0.00629979</td><td style = \"text-align: right;\">0.0147403</td><td style = \"text-align: right;\">0.00401575</td><td style = \"text-align: right;\">-0.00388095</td><td style = \"text-align: right;\">-0.000434904</td><td style = \"text-align: right;\">-0.00260366</td><td style = \"text-align: right;\">0.011908</td><td style = \"text-align: right;\">-0.0297694</td><td style = \"text-align: right;\">0.00405525</td><td style = \"text-align: right;\">-0.000224316</td><td style = \"text-align: right;\">0.00866167</td><td style = \"text-align: right;\">-0.0164395</td><td style = \"text-align: right;\">0.0157576</td><td style = \"text-align: right;\">-0.0777588</td><td style = \"text-align: right;\">0.00750126</td><td style = \"text-align: right;\">0.0124432</td><td style = \"text-align: right;\">-0.00036397</td><td style = \"text-align: right;\">0.00346181</td><td style = \"text-align: right;\">0.00704721</td><td style = \"text-align: right;\">-0.00307049</td><td style = \"text-align: right;\">-0.00798257</td><td style = \"text-align: right;\">0.0339066</td><td style = \"text-align: right;\">0.0158122</td><td style = \"text-align: right;\">0.00188145</td><td style = \"text-align: right;\">0.00473743</td><td style = \"text-align: right;\">0.0106279</td><td style = \"text-align: right;\">-0.00280642</td><td style = \"text-align: right;\">0.0103079</td><td style = \"text-align: right;\">0.00257107</td><td style = \"text-align: right;\">-0.00774602</td><td style = \"text-align: right;\">-0.000836102</td><td style = \"text-align: right;\">0.00153545</td><td style = \"text-align: right;\">0.0021031</td><td style = \"text-align: right;\">0.000558758</td><td style = \"text-align: right;\">0.00027044</td><td style = \"text-align: right;\">0.0201592</td><td style = \"text-align: right;\">0.0069405</td><td style = \"text-align: right;\">-0.00632001</td><td style = \"text-align: right;\">0.00605603</td><td style = \"text-align: right;\">0.0178872</td><td style = \"text-align: right;\">0.0397946</td><td style = \"text-align: right;\">-0.0109388</td><td style = \"text-align: right;\">-0.0103121</td><td style = \"text-align: right;\">-0.0350169</td><td style = \"text-align: right;\">0.00597915</td><td style = \"text-align: right;\">0.00834115</td><td style = \"text-align: right;\">-0.0183242</td><td style = \"text-align: right;\">-0.00972546</td><td style = \"text-align: right;\">-0.00891693</td><td style = \"text-align: right;\">0.0111138</td><td style = \"text-align: right;\">&ctdot;</td></tr><tr><td class = \"rowNumber\" style = \"font-weight: bold; text-align: right;\">1391</td><td style = \"text-align: right;\">0.0255029</td><td style = \"text-align: right;\">0.0286473</td><td style = \"text-align: right;\">0.0145633</td><td style = \"text-align: right;\">-0.0196164</td><td style = \"text-align: right;\">-0.000666378</td><td style = \"text-align: right;\">0.00429338</td><td style = \"text-align: right;\">-0.0890976</td><td style = \"text-align: right;\">0.0107759</td><td style = \"text-align: right;\">0.0128535</td><td style = \"text-align: right;\">-0.00527493</td><td style = \"text-align: right;\">0.00149508</td><td style = \"text-align: right;\">-0.00855499</td><td style = \"text-align: right;\">0.00614224</td><td style = \"text-align: right;\">0.00924994</td><td style = \"text-align: right;\">0.00443003</td><td style = \"text-align: right;\">0.00416236</td><td style = \"text-align: right;\">0.0129723</td><td style = \"text-align: right;\">-0.000197222</td><td style = \"text-align: right;\">0.0</td><td style = \"text-align: right;\">0.0127921</td><td style = \"text-align: right;\">0.0114862</td><td style = \"text-align: right;\">0.072971</td><td style = \"text-align: right;\">-0.0036485</td><td style = \"text-align: right;\">0.0106142</td><td style = \"text-align: right;\">-0.0133801</td><td style = \"text-align: right;\">0.04981</td><td style = \"text-align: right;\">0.0228739</td><td style = \"text-align: right;\">-0.0118246</td><td style = \"text-align: right;\">0.00205936</td><td style = \"text-align: right;\">-0.00257836</td><td style = \"text-align: right;\">0.0281423</td><td style = \"text-align: right;\">-0.00143372</td><td style = \"text-align: right;\">-0.00860341</td><td style = \"text-align: right;\">0.00308678</td><td style = \"text-align: right;\">0.0389098</td><td style = \"text-align: right;\">0.0378628</td><td style = \"text-align: right;\">0.0157581</td><td style = \"text-align: right;\">0.0139254</td><td style = \"text-align: right;\">0.00605732</td><td style = \"text-align: right;\">0.00942439</td><td style = \"text-align: right;\">0.000898685</td><td style = \"text-align: right;\">0.0286564</td><td style = \"text-align: right;\">0.0306029</td><td style = \"text-align: right;\">0.00283781</td><td style = \"text-align: right;\">0.0222231</td><td style = \"text-align: right;\">-0.00345692</td><td style = \"text-align: right;\">0.00133669</td><td style = \"text-align: right;\">0.0198858</td><td style = \"text-align: right;\">0.00381228</td><td style = \"text-align: right;\">0.0145972</td><td style = \"text-align: right;\">0.0034516</td><td style = \"text-align: right;\">-0.00462442</td><td style = \"text-align: right;\">0.0110005</td><td style = \"text-align: right;\">-0.00905626</td><td style = \"text-align: right;\">0.00477331</td><td style = \"text-align: right;\">0.0212797</td><td style = \"text-align: right;\">-0.00378139</td><td style = \"text-align: right;\">0.0121916</td><td style = \"text-align: right;\">0.00145332</td><td style = \"text-align: right;\">0.0146451</td><td style = \"text-align: right;\">0.00695726</td><td style = \"text-align: right;\">0.00218943</td><td style = \"text-align: right;\">0.0101109</td><td style = \"text-align: right;\">0.0136918</td><td style = \"text-align: right;\">0.00178881</td><td style = \"text-align: right;\">0.0135109</td><td style = \"text-align: right;\">0.00961952</td><td style = \"text-align: right;\">0.0251293</td><td style = \"text-align: right;\">0.00105284</td><td style = \"text-align: right;\">0.00455122</td><td style = \"text-align: right;\">0.0128437</td><td style = \"text-align: right;\">0.0211562</td><td style = \"text-align: right;\">0.0186922</td><td style = \"text-align: right;\">0.00531168</td><td style = \"text-align: right;\">0.00987192</td><td style = \"text-align: right;\">0.00780031</td><td style = \"text-align: right;\">0.0140495</td><td style = \"text-align: right;\">0.0299963</td><td style = \"text-align: right;\">-0.0153816</td><td style = \"text-align: right;\">0.0335349</td><td style = \"text-align: right;\">0.0352528</td><td style = \"text-align: right;\">0.00631617</td><td style = \"text-align: right;\">-0.00368333</td><td style = \"text-align: right;\">-0.0102942</td><td style = \"text-align: right;\">-0.00412205</td><td style = \"text-align: right;\">0.0124919</td><td style = \"text-align: right;\">-0.00773885</td><td style = \"text-align: right;\">0.00723834</td><td style = \"text-align: right;\">0.0312061</td><td style = \"text-align: right;\">0.00432628</td><td style = \"text-align: right;\">0.0117872</td><td style = \"text-align: right;\">0.0197665</td><td style = \"text-align: right;\">0.02738</td><td style = \"text-align: right;\">-0.00878576</td><td style = \"text-align: right;\">0.0386309</td><td style = \"text-align: right;\">0.00744807</td><td style = \"text-align: right;\">0.0362244</td><td style = \"text-align: right;\">0.0103253</td><td style = \"text-align: right;\">0.00263095</td><td style = \"text-align: right;\">-0.0249641</td><td style = \"text-align: right;\">&ctdot;</td></tr><tr><td class = \"rowNumber\" style = \"font-weight: bold; text-align: right;\">1392</td><td style = \"text-align: right;\">-0.0205781</td><td style = \"text-align: right;\">0.0314829</td><td style = \"text-align: right;\">0.00480774</td><td style = \"text-align: right;\">0.000818251</td><td style = \"text-align: right;\">0.00550803</td><td style = \"text-align: right;\">-0.0112437</td><td style = \"text-align: right;\">0.025884</td><td style = \"text-align: right;\">-0.000920161</td><td style = \"text-align: right;\">-0.0018027</td><td style = \"text-align: right;\">-0.00306665</td><td style = \"text-align: right;\">0.00364528</td><td style = \"text-align: right;\">0.0157512</td><td style = \"text-align: right;\">-0.00109283</td><td style = \"text-align: right;\">0.0165315</td><td style = \"text-align: right;\">0.0144915</td><td style = \"text-align: right;\">0.0137817</td><td style = \"text-align: right;\">0.0135544</td><td style = \"text-align: right;\">0.00403448</td><td style = \"text-align: right;\">0.00271272</td><td style = \"text-align: right;\">-0.00245591</td><td style = \"text-align: right;\">0.00970512</td><td style = \"text-align: right;\">0.0174077</td><td style = \"text-align: right;\">-0.000152344</td><td style = \"text-align: right;\">-0.00783212</td><td style = \"text-align: right;\">0.00547662</td><td style = \"text-align: right;\">-0.00463517</td><td style = \"text-align: right;\">-0.0089866</td><td style = \"text-align: right;\">-0.0108629</td><td style = \"text-align: right;\">-0.0215509</td><td style = \"text-align: right;\">-0.0117706</td><td style = \"text-align: right;\">0.00872398</td><td style = \"text-align: right;\">0.00772658</td><td style = \"text-align: right;\">-0.0145056</td><td style = \"text-align: right;\">0.00999986</td><td style = \"text-align: right;\">-0.00638069</td><td style = \"text-align: right;\">-0.00106215</td><td style = \"text-align: right;\">0.00587551</td><td style = \"text-align: right;\">0.0134439</td><td style = \"text-align: right;\">-0.0032994</td><td style = \"text-align: right;\">-0.00916855</td><td style = \"text-align: right;\">-0.00359937</td><td style = \"text-align: right;\">-0.0261061</td><td style = \"text-align: right;\">0.00903333</td><td style = \"text-align: right;\">0.00891231</td><td style = \"text-align: right;\">0.02174</td><td style = \"text-align: right;\">-0.00802356</td><td style = \"text-align: right;\">0.0024706</td><td style = \"text-align: right;\">-0.0109165</td><td style = \"text-align: right;\">-0.00344857</td><td style = \"text-align: right;\">-0.0122428</td><td style = \"text-align: right;\">0.0049102</td><td style = \"text-align: right;\">0.0022488</td><td style = \"text-align: right;\">-0.0237457</td><td style = \"text-align: right;\">0.0175224</td><td style = \"text-align: right;\">-0.00721211</td><td style = \"text-align: right;\">0.00635998</td><td style = \"text-align: right;\">-0.00379575</td><td style = \"text-align: right;\">-0.00177481</td><td style = \"text-align: right;\">-0.0355424</td><td style = \"text-align: right;\">-0.0113969</td><td style = \"text-align: right;\">0.00325733</td><td style = \"text-align: right;\">0.0170758</td><td style = \"text-align: right;\">0.00289774</td><td style = \"text-align: right;\">0.00342226</td><td style = \"text-align: right;\">-0.0291727</td><td style = \"text-align: right;\">0.0245042</td><td style = \"text-align: right;\">-0.0131037</td><td style = \"text-align: right;\">0.00935157</td><td style = \"text-align: right;\">-0.0033377</td><td style = \"text-align: right;\">0.00333016</td><td style = \"text-align: right;\">0.0136884</td><td style = \"text-align: right;\">-0.0016207</td><td style = \"text-align: right;\">-0.0146723</td><td style = \"text-align: right;\">-0.00312111</td><td style = \"text-align: right;\">0.00806218</td><td style = \"text-align: right;\">-0.00740891</td><td style = \"text-align: right;\">-0.00969811</td><td style = \"text-align: right;\">0.0119017</td><td style = \"text-align: right;\">-0.00115962</td><td style = \"text-align: right;\">0.00385977</td><td style = \"text-align: right;\">0.0370912</td><td style = \"text-align: right;\">-0.012492</td><td style = \"text-align: right;\">0.00525766</td><td style = \"text-align: right;\">0.000626863</td><td style = \"text-align: right;\">-0.0105662</td><td style = \"text-align: right;\">-0.0104837</td><td style = \"text-align: right;\">-0.00483993</td><td style = \"text-align: right;\">-0.0179947</td><td style = \"text-align: right;\">-0.00807934</td><td style = \"text-align: right;\">0.00859688</td><td style = \"text-align: right;\">-0.0565693</td><td style = \"text-align: right;\">-0.0166243</td><td style = \"text-align: right;\">-0.0205516</td><td style = \"text-align: right;\">0.00910966</td><td style = \"text-align: right;\">-0.0049281</td><td style = \"text-align: right;\">-0.00444147</td><td style = \"text-align: right;\">0.00404954</td><td style = \"text-align: right;\">-0.00386608</td><td style = \"text-align: right;\">0.0287472</td><td style = \"text-align: right;\">-0.00865342</td><td style = \"text-align: right;\">&ctdot;</td></tr><tr><td class = \"rowNumber\" style = \"font-weight: bold; text-align: right;\">1393</td><td style = \"text-align: right;\">-0.0172547</td><td style = \"text-align: right;\">0.0212045</td><td style = \"text-align: right;\">-0.0153044</td><td style = \"text-align: right;\">0.0269523</td><td style = \"text-align: right;\">0.00613703</td><td style = \"text-align: right;\">-0.023577</td><td style = \"text-align: right;\">0.00604621</td><td style = \"text-align: right;\">3.54397e-5</td><td style = \"text-align: right;\">0.00515355</td><td style = \"text-align: right;\">-0.00433715</td><td style = \"text-align: right;\">-0.00568082</td><td style = \"text-align: right;\">-0.0044223</td><td style = \"text-align: right;\">-0.00295348</td><td style = \"text-align: right;\">-0.00631555</td><td style = \"text-align: right;\">0.00616133</td><td style = \"text-align: right;\">0.0105586</td><td style = \"text-align: right;\">0.0236522</td><td style = \"text-align: right;\">-0.00699682</td><td style = \"text-align: right;\">-0.00530899</td><td style = \"text-align: right;\">-0.0157718</td><td style = \"text-align: right;\">0.000254087</td><td style = \"text-align: right;\">0.0010375</td><td style = \"text-align: right;\">0.00622576</td><td style = \"text-align: right;\">-0.00921568</td><td style = \"text-align: right;\">-0.00599487</td><td style = \"text-align: right;\">-0.0212289</td><td style = \"text-align: right;\">-0.0261669</td><td style = \"text-align: right;\">0.0113302</td><td style = \"text-align: right;\">6.36613e-5</td><td style = \"text-align: right;\">0.00375865</td><td style = \"text-align: right;\">-0.0186093</td><td style = \"text-align: right;\">0.00766727</td><td style = \"text-align: right;\">0.00291796</td><td style = \"text-align: right;\">0.0139211</td><td style = \"text-align: right;\">-0.0176514</td><td style = \"text-align: right;\">-0.0117585</td><td style = \"text-align: right;\">-0.00539871</td><td style = \"text-align: right;\">0.00357405</td><td style = \"text-align: right;\">-0.110546</td><td style = \"text-align: right;\">0.00127843</td><td style = \"text-align: right;\">0.00688727</td><td style = \"text-align: right;\">0.00234832</td><td style = \"text-align: right;\">-0.00622856</td><td style = \"text-align: right;\">0.0099086</td><td style = \"text-align: right;\">0.00357782</td><td style = \"text-align: right;\">0.012807</td><td style = \"text-align: right;\">-0.00912213</td><td style = \"text-align: right;\">0.0170418</td><td style = \"text-align: right;\">0.000908664</td><td style = \"text-align: right;\">0.00229294</td><td style = \"text-align: right;\">-0.00048999</td><td style = \"text-align: right;\">-0.00516659</td><td style = \"text-align: right;\">-0.0163037</td><td style = \"text-align: right;\">0.00423719</td><td style = \"text-align: right;\">-8.71627e-5</td><td style = \"text-align: right;\">0.00337553</td><td style = \"text-align: right;\">0.00276195</td><td style = \"text-align: right;\">-0.0203387</td><td style = \"text-align: right;\">0.00117706</td><td style = \"text-align: right;\">-0.0198776</td><td style = \"text-align: right;\">-0.0130935</td><td style = \"text-align: right;\">-0.00242164</td><td style = \"text-align: right;\">0.0255203</td><td style = \"text-align: right;\">0.0113239</td><td style = \"text-align: right;\">-0.0186544</td><td style = \"text-align: right;\">-0.00997017</td><td style = \"text-align: right;\">-0.00876392</td><td style = \"text-align: right;\">-0.00243108</td><td style = \"text-align: right;\">0.0136318</td><td style = \"text-align: right;\">-0.00452547</td><td style = \"text-align: right;\">0.0032675</td><td style = \"text-align: right;\">-0.00962395</td><td style = \"text-align: right;\">-0.014248</td><td style = \"text-align: right;\">0.00747433</td><td style = \"text-align: right;\">0.0108563</td><td style = \"text-align: right;\">-0.00117481</td><td style = \"text-align: right;\">0.00134991</td><td style = \"text-align: right;\">0.0315615</td><td style = \"text-align: right;\">0.000869893</td><td style = \"text-align: right;\">-0.00859753</td><td style = \"text-align: right;\">0.0876919</td><td style = \"text-align: right;\">0.0122544</td><td style = \"text-align: right;\">-0.0169227</td><td style = \"text-align: right;\">-0.0061608</td><td style = \"text-align: right;\">0.0155763</td><td style = \"text-align: right;\">-0.00518073</td><td style = \"text-align: right;\">-0.000401408</td><td style = \"text-align: right;\">0.00173411</td><td style = \"text-align: right;\">0.000737138</td><td style = \"text-align: right;\">0.0119128</td><td style = \"text-align: right;\">-0.0424901</td><td style = \"text-align: right;\">0.00237383</td><td style = \"text-align: right;\">0.0121402</td><td style = \"text-align: right;\">-0.0178634</td><td style = \"text-align: right;\">0.000411538</td><td style = \"text-align: right;\">-0.00113937</td><td style = \"text-align: right;\">-0.00839984</td><td style = \"text-align: right;\">0.0176666</td><td style = \"text-align: right;\">-0.0332239</td><td style = \"text-align: right;\">-0.0030821</td><td style = \"text-align: right;\">&ctdot;</td></tr><tr><td class = \"rowNumber\" style = \"font-weight: bold; text-align: right;\">1394</td><td style = \"text-align: right;\">0.0363708</td><td style = \"text-align: right;\">0.0302042</td><td style = \"text-align: right;\">0.0145047</td><td style = \"text-align: right;\">0.0440778</td><td style = \"text-align: right;\">0.00899555</td><td style = \"text-align: right;\">0.012152</td><td style = \"text-align: right;\">0.0104739</td><td style = \"text-align: right;\">0.0158412</td><td style = \"text-align: right;\">0.0140168</td><td style = \"text-align: right;\">0.0314682</td><td style = \"text-align: right;\">-0.020926</td><td style = \"text-align: right;\">0.0230021</td><td style = \"text-align: right;\">0.00688887</td><td style = \"text-align: right;\">0.014363</td><td style = \"text-align: right;\">0.0160819</td><td style = \"text-align: right;\">0.0148151</td><td style = \"text-align: right;\">0.00872739</td><td style = \"text-align: right;\">0.0155041</td><td style = \"text-align: right;\">0.00789153</td><td style = \"text-align: right;\">0.0134378</td><td style = \"text-align: right;\">0.021244</td><td style = \"text-align: right;\">0.0759764</td><td style = \"text-align: right;\">0.00272109</td><td style = \"text-align: right;\">0.0263145</td><td style = \"text-align: right;\">0.0231085</td><td style = \"text-align: right;\">0.0205088</td><td style = \"text-align: right;\">-0.00025739</td><td style = \"text-align: right;\">-0.0288104</td><td style = \"text-align: right;\">-0.0146288</td><td style = \"text-align: right;\">0.0326514</td><td style = \"text-align: right;\">0.00386524</td><td style = \"text-align: right;\">0.0254999</td><td style = \"text-align: right;\">-0.00936774</td><td style = \"text-align: right;\">-0.00801284</td><td style = \"text-align: right;\">0.0289668</td><td style = \"text-align: right;\">0.0210307</td><td style = \"text-align: right;\">0.0149027</td><td style = \"text-align: right;\">-0.0187849</td><td style = \"text-align: right;\">0.0203996</td><td style = \"text-align: right;\">0.0304503</td><td style = \"text-align: right;\">0.00891281</td><td style = \"text-align: right;\">0.0191662</td><td style = \"text-align: right;\">-0.00399377</td><td style = \"text-align: right;\">0.00353311</td><td style = \"text-align: right;\">-0.00716848</td><td style = \"text-align: right;\">0.00502444</td><td style = \"text-align: right;\">0.0183573</td><td style = \"text-align: right;\">-0.0339482</td><td style = \"text-align: right;\">-0.00036338</td><td style = \"text-align: right;\">0.0147502</td><td style = \"text-align: right;\">0.0143878</td><td style = \"text-align: right;\">0.00490233</td><td style = \"text-align: right;\">0.00385438</td><td style = \"text-align: right;\">0.0117308</td><td style = \"text-align: right;\">-0.00366978</td><td style = \"text-align: right;\">0.00608928</td><td style = \"text-align: right;\">0.0287167</td><td style = \"text-align: right;\">0.0291817</td><td style = \"text-align: right;\">-0.0039288</td><td style = \"text-align: right;\">0.0333729</td><td style = \"text-align: right;\">0.0114661</td><td style = \"text-align: right;\">0.0192109</td><td style = \"text-align: right;\">0.0347411</td><td style = \"text-align: right;\">0.0401687</td><td style = \"text-align: right;\">0.0412783</td><td style = \"text-align: right;\">-0.0084525</td><td style = \"text-align: right;\">0.00498245</td><td style = \"text-align: right;\">0.00303797</td><td style = \"text-align: right;\">0.00657444</td><td style = \"text-align: right;\">0.0171807</td><td style = \"text-align: right;\">0.00425697</td><td style = \"text-align: right;\">0.00672015</td><td style = \"text-align: right;\">0.0280876</td><td style = \"text-align: right;\">0.00895762</td><td style = \"text-align: right;\">0.00979797</td><td style = \"text-align: right;\">0.0186341</td><td style = \"text-align: right;\">-0.00599205</td><td style = \"text-align: right;\">0.00557023</td><td style = \"text-align: right;\">0.0301172</td><td style = \"text-align: right;\">0.0144658</td><td style = \"text-align: right;\">0.0667811</td><td style = \"text-align: right;\">0.0275413</td><td style = \"text-align: right;\">0.0340793</td><td style = \"text-align: right;\">-0.00937663</td><td style = \"text-align: right;\">0.0099071</td><td style = \"text-align: right;\">0.0172139</td><td style = \"text-align: right;\">0.0170426</td><td style = \"text-align: right;\">0.0261771</td><td style = \"text-align: right;\">0.0247465</td><td style = \"text-align: right;\">0.0355449</td><td style = \"text-align: right;\">0.030215</td><td style = \"text-align: right;\">0.0103159</td><td style = \"text-align: right;\">0.0125056</td><td style = \"text-align: right;\">0.00799088</td><td style = \"text-align: right;\">0.0108464</td><td style = \"text-align: right;\">0.01665</td><td style = \"text-align: right;\">0.0237884</td><td style = \"text-align: right;\">0.0177388</td><td style = \"text-align: right;\">0.00500205</td><td style = \"text-align: right;\">0.017652</td><td style = \"text-align: right;\">&ctdot;</td></tr><tr><td class = \"rowNumber\" style = \"font-weight: bold; text-align: right;\">1395</td><td style = \"text-align: right;\">0.0278385</td><td style = \"text-align: right;\">0.00530997</td><td style = \"text-align: right;\">0.0142973</td><td style = \"text-align: right;\">0.0131691</td><td style = \"text-align: right;\">-0.00116673</td><td style = \"text-align: right;\">0.018218</td><td style = \"text-align: right;\">0.000795027</td><td style = \"text-align: right;\">-0.00321111</td><td style = \"text-align: right;\">-0.00110019</td><td style = \"text-align: right;\">0.00879277</td><td style = \"text-align: right;\">-0.0320145</td><td style = \"text-align: right;\">0.0145125</td><td style = \"text-align: right;\">0.0041172</td><td style = \"text-align: right;\">0.00516321</td><td style = \"text-align: right;\">-0.00995826</td><td style = \"text-align: right;\">-0.0115957</td><td style = \"text-align: right;\">0.00936938</td><td style = \"text-align: right;\">0.00184836</td><td style = \"text-align: right;\">-0.0237381</td><td style = \"text-align: right;\">-0.00519897</td><td style = \"text-align: right;\">0.00347652</td><td style = \"text-align: right;\">-0.0549419</td><td style = \"text-align: right;\">-0.00833773</td><td style = \"text-align: right;\">0.0505897</td><td style = \"text-align: right;\">0.00091134</td><td style = \"text-align: right;\">0.0107468</td><td style = \"text-align: right;\">0.0153298</td><td style = \"text-align: right;\">-0.000694935</td><td style = \"text-align: right;\">0.0250834</td><td style = \"text-align: right;\">0.0114815</td><td style = \"text-align: right;\">0.000707947</td><td style = \"text-align: right;\">-0.0093833</td><td style = \"text-align: right;\">0.0527041</td><td style = \"text-align: right;\">0.00359835</td><td style = \"text-align: right;\">0.00393036</td><td style = \"text-align: right;\">0.0242501</td><td style = \"text-align: right;\">-0.000805309</td><td style = \"text-align: right;\">-0.0105685</td><td style = \"text-align: right;\">-0.0188627</td><td style = \"text-align: right;\">0.0275028</td><td style = \"text-align: right;\">-0.00682595</td><td style = \"text-align: right;\">0.0104913</td><td style = \"text-align: right;\">0.0174756</td><td style = \"text-align: right;\">-0.0107007</td><td style = \"text-align: right;\">0.0388056</td><td style = \"text-align: right;\">-0.0154176</td><td style = \"text-align: right;\">-0.00549153</td><td style = \"text-align: right;\">0.0181409</td><td style = \"text-align: right;\">0.0</td><td style = \"text-align: right;\">-0.0111256</td><td style = \"text-align: right;\">-0.0211312</td><td style = \"text-align: right;\">-0.0146455</td><td style = \"text-align: right;\">0.0147522</td><td style = \"text-align: right;\">-0.000668006</td><td style = \"text-align: right;\">0.0233595</td><td style = \"text-align: right;\">0.00771558</td><td style = \"text-align: right;\">-0.00134096</td><td style = \"text-align: right;\">0.00453844</td><td style = \"text-align: right;\">-0.0118133</td><td style = \"text-align: right;\">0.00714565</td><td style = \"text-align: right;\">0.00770641</td><td style = \"text-align: right;\">0.0321161</td><td style = \"text-align: right;\">0.00453022</td><td style = \"text-align: right;\">0.00679143</td><td style = \"text-align: right;\">0.0241869</td><td style = \"text-align: right;\">0.0124524</td><td style = \"text-align: right;\">0.0461737</td><td style = \"text-align: right;\">0.00735406</td><td style = \"text-align: right;\">-0.0210865</td><td style = \"text-align: right;\">-0.00681213</td><td style = \"text-align: right;\">0.110147</td><td style = \"text-align: right;\">0.0179943</td><td style = \"text-align: right;\">0.0197944</td><td style = \"text-align: right;\">0.00582551</td><td style = \"text-align: right;\">-0.00599914</td><td style = \"text-align: right;\">-0.000384698</td><td style = \"text-align: right;\">0.0436253</td><td style = \"text-align: right;\">0.0161341</td><td style = \"text-align: right;\">0.00518892</td><td style = \"text-align: right;\">0.0209492</td><td style = \"text-align: right;\">0.0557501</td><td style = \"text-align: right;\">0.0274406</td><td style = \"text-align: right;\">0.0117859</td><td style = \"text-align: right;\">0.00419227</td><td style = \"text-align: right;\">0.00110752</td><td style = \"text-align: right;\">0.024623</td><td style = \"text-align: right;\">-0.0312663</td><td style = \"text-align: right;\">0.014437</td><td style = \"text-align: right;\">0.0497825</td><td style = \"text-align: right;\">-0.00472768</td><td style = \"text-align: right;\">0.0180583</td><td style = \"text-align: right;\">0.0212372</td><td style = \"text-align: right;\">0.0170482</td><td style = \"text-align: right;\">0.0214644</td><td style = \"text-align: right;\">0.0151503</td><td style = \"text-align: right;\">-0.01076</td><td style = \"text-align: right;\">0.0116852</td><td style = \"text-align: right;\">0.00569295</td><td style = \"text-align: right;\">-0.0241873</td><td style = \"text-align: right;\">0.0141964</td><td style = \"text-align: right;\">&ctdot;</td></tr><tr><td class = \"rowNumber\" style = \"font-weight: bold; text-align: right;\">1396</td><td style = \"text-align: right;\">0.00733885</td><td style = \"text-align: right;\">-0.00750466</td><td style = \"text-align: right;\">-0.101163</td><td style = \"text-align: right;\">-0.108708</td><td style = \"text-align: right;\">-0.00182281</td><td style = \"text-align: right;\">0.00146835</td><td style = \"text-align: right;\">-0.00151113</td><td style = \"text-align: right;\">-0.0152535</td><td style = \"text-align: right;\">-0.00206945</td><td style = \"text-align: right;\">-0.00689241</td><td style = \"text-align: right;\">-0.00752565</td><td style = \"text-align: right;\">-0.0128896</td><td style = \"text-align: right;\">0.00658505</td><td style = \"text-align: right;\">0.000398602</td><td style = \"text-align: right;\">0.00120027</td><td style = \"text-align: right;\">0.000734433</td><td style = \"text-align: right;\">-0.0100938</td><td style = \"text-align: right;\">-0.00428561</td><td style = \"text-align: right;\">-0.00352777</td><td style = \"text-align: right;\">-0.00558205</td><td style = \"text-align: right;\">0.000371755</td><td style = \"text-align: right;\">0.0661713</td><td style = \"text-align: right;\">-0.000304572</td><td style = \"text-align: right;\">-0.00959872</td><td style = \"text-align: right;\">-0.0187465</td><td style = \"text-align: right;\">0.0585647</td><td style = \"text-align: right;\">-0.027244</td><td style = \"text-align: right;\">0.00591797</td><td style = \"text-align: right;\">0.0216363</td><td style = \"text-align: right;\">-0.00216914</td><td style = \"text-align: right;\">-0.0376874</td><td style = \"text-align: right;\">0.00459458</td><td style = \"text-align: right;\">0.0231671</td><td style = \"text-align: right;\">0.0171115</td><td style = \"text-align: right;\">0.0352363</td><td style = \"text-align: right;\">0.00519474</td><td style = \"text-align: right;\">-0.00225173</td><td style = \"text-align: right;\">0.0365591</td><td style = \"text-align: right;\">0.0212708</td><td style = \"text-align: right;\">-0.0107886</td><td style = \"text-align: right;\">-0.00837333</td><td style = \"text-align: right;\">-0.0384924</td><td style = \"text-align: right;\">-0.00875326</td><td style = \"text-align: right;\">0.00393908</td><td style = \"text-align: right;\">0.0205486</td><td style = \"text-align: right;\">-0.00996112</td><td style = \"text-align: right;\">-0.0088894</td><td style = \"text-align: right;\">0.0175406</td><td style = \"text-align: right;\">-0.0311919</td><td style = \"text-align: right;\">-0.00675776</td><td style = \"text-align: right;\">-0.00970304</td><td style = \"text-align: right;\">-0.01133</td><td style = \"text-align: right;\">-0.00132922</td><td style = \"text-align: right;\">0.0184723</td><td style = \"text-align: right;\">-0.0112223</td><td style = \"text-align: right;\">0.00517975</td><td style = \"text-align: right;\">-0.0113014</td><td style = \"text-align: right;\">-0.017238</td><td style = \"text-align: right;\">-0.00953886</td><td style = \"text-align: right;\">0.00573445</td><td style = \"text-align: right;\">-0.00121288</td><td style = \"text-align: right;\">-0.0157342</td><td style = \"text-align: right;\">-0.0224893</td><td style = \"text-align: right;\">-0.0227098</td><td style = \"text-align: right;\">0.012217</td><td style = \"text-align: right;\">-0.0478325</td><td style = \"text-align: right;\">0.019225</td><td style = \"text-align: right;\">0.00340688</td><td style = \"text-align: right;\">-0.00866721</td><td style = \"text-align: right;\">-0.0151623</td><td style = \"text-align: right;\">0.0230099</td><td style = \"text-align: right;\">-0.00178672</td><td style = \"text-align: right;\">-0.000817012</td><td style = \"text-align: right;\">-0.0178906</td><td style = \"text-align: right;\">0.0417711</td><td style = \"text-align: right;\">-0.00772498</td><td style = \"text-align: right;\">-0.0144883</td><td style = \"text-align: right;\">-0.0112087</td><td style = \"text-align: right;\">-0.0105464</td><td style = \"text-align: right;\">-0.00627025</td><td style = \"text-align: right;\">-0.0375173</td><td style = \"text-align: right;\">-0.038191</td><td style = \"text-align: right;\">-0.0169539</td><td style = \"text-align: right;\">0.00329075</td><td style = \"text-align: right;\">0.00392359</td><td style = \"text-align: right;\">0.0045035</td><td style = \"text-align: right;\">0.000111039</td><td style = \"text-align: right;\">-0.0347668</td><td style = \"text-align: right;\">-0.0433331</td><td style = \"text-align: right;\">0.0373859</td><td style = \"text-align: right;\">-0.0286426</td><td style = \"text-align: right;\">-0.00559048</td><td style = \"text-align: right;\">-0.0453651</td><td style = \"text-align: right;\">-0.00224346</td><td style = \"text-align: right;\">-0.0121018</td><td style = \"text-align: right;\">0.00226409</td><td style = \"text-align: right;\">0.002558</td><td style = \"text-align: right;\">-0.0465571</td><td style = \"text-align: right;\">0.00215001</td><td style = \"text-align: right;\">-0.0348039</td><td style = \"text-align: right;\">&ctdot;</td></tr><tr><td class = \"rowNumber\" style = \"font-weight: bold; text-align: right;\">1397</td><td style = \"text-align: right;\">-0.00141353</td><td style = \"text-align: right;\">-0.0325388</td><td style = \"text-align: right;\">0.00348432</td><td style = \"text-align: right;\">-0.0163952</td><td style = \"text-align: right;\">0.000561268</td><td style = \"text-align: right;\">-0.00288632</td><td style = \"text-align: right;\">0.0071378</td><td style = \"text-align: right;\">0.00509863</td><td style = \"text-align: right;\">-0.0025592</td><td style = \"text-align: right;\">-0.00298793</td><td style = \"text-align: right;\">0.00638507</td><td style = \"text-align: right;\">-0.00270639</td><td style = \"text-align: right;\">0.00777409</td><td style = \"text-align: right;\">0.00721401</td><td style = \"text-align: right;\">0.000599556</td><td style = \"text-align: right;\">0.00749683</td><td style = \"text-align: right;\">0.0</td><td style = \"text-align: right;\">0.00893997</td><td style = \"text-align: right;\">0.0109208</td><td style = \"text-align: right;\">0.0194816</td><td style = \"text-align: right;\">0.00049549</td><td style = \"text-align: right;\">-0.00524063</td><td style = \"text-align: right;\">0.00304097</td><td style = \"text-align: right;\">0.0165796</td><td style = \"text-align: right;\">0.00903401</td><td style = \"text-align: right;\">0.0104541</td><td style = \"text-align: right;\">0.00416017</td><td style = \"text-align: right;\">-0.0130014</td><td style = \"text-align: right;\">0.0264783</td><td style = \"text-align: right;\">-0.00640518</td><td style = \"text-align: right;\">0.00762896</td><td style = \"text-align: right;\">-0.00594225</td><td style = \"text-align: right;\">0.00760457</td><td style = \"text-align: right;\">-0.00340757</td><td style = \"text-align: right;\">-0.0257549</td><td style = \"text-align: right;\">-0.0104167</td><td style = \"text-align: right;\">0.00677328</td><td style = \"text-align: right;\">0.00534656</td><td style = \"text-align: right;\">-0.0221927</td><td style = \"text-align: right;\">0.00170482</td><td style = \"text-align: right;\">-0.00693086</td><td style = \"text-align: right;\">0.0107876</td><td style = \"text-align: right;\">0.0182731</td><td style = \"text-align: right;\">-0.00553179</td><td style = \"text-align: right;\">-0.0959884</td><td style = \"text-align: right;\">0.00566571</td><td style = \"text-align: right;\">0.000793394</td><td style = \"text-align: right;\">0.0050787</td><td style = \"text-align: right;\">0.00299513</td><td style = \"text-align: right;\">-0.00370539</td><td style = \"text-align: right;\">-0.00135304</td><td style = \"text-align: right;\">-0.0109112</td><td style = \"text-align: right;\">0.0108412</td><td style = \"text-align: right;\">-0.00537432</td><td style = \"text-align: right;\">0.00771004</td><td style = \"text-align: right;\">0.00123919</td><td style = \"text-align: right;\">0.00101725</td><td style = \"text-align: right;\">0.0022267</td><td style = \"text-align: right;\">-0.0025501</td><td style = \"text-align: right;\">0.00916121</td><td style = \"text-align: right;\">0.00403716</td><td style = \"text-align: right;\">0.00440982</td><td style = \"text-align: right;\">-0.0173463</td><td style = \"text-align: right;\">-0.00209027</td><td style = \"text-align: right;\">-0.00810267</td><td style = \"text-align: right;\">-0.0218021</td><td style = \"text-align: right;\">0.00809507</td><td style = \"text-align: right;\">0.0147736</td><td style = \"text-align: right;\">0.00672802</td><td style = \"text-align: right;\">-0.00314298</td><td style = \"text-align: right;\">0.00719188</td><td style = \"text-align: right;\">0.00438074</td><td style = \"text-align: right;\">-0.0104756</td><td style = \"text-align: right;\">0.00217627</td><td style = \"text-align: right;\">0.00276307</td><td style = \"text-align: right;\">-0.00622335</td><td style = \"text-align: right;\">-0.000659286</td><td style = \"text-align: right;\">0.00938507</td><td style = \"text-align: right;\">0.0148734</td><td style = \"text-align: right;\">0.00710334</td><td style = \"text-align: right;\">-0.0567657</td><td style = \"text-align: right;\">0.0135017</td><td style = \"text-align: right;\">-0.00467413</td><td style = \"text-align: right;\">-0.00722848</td><td style = \"text-align: right;\">0.00275257</td><td style = \"text-align: right;\">0.00980005</td><td style = \"text-align: right;\">-0.00381955</td><td style = \"text-align: right;\">0.00870713</td><td style = \"text-align: right;\">0.0120697</td><td style = \"text-align: right;\">-0.0215635</td><td style = \"text-align: right;\">-0.000818774</td><td style = \"text-align: right;\">0.0229902</td><td style = \"text-align: right;\">0.0276356</td><td style = \"text-align: right;\">-0.0021413</td><td style = \"text-align: right;\">0.00425237</td><td style = \"text-align: right;\">-0.000514065</td><td style = \"text-align: right;\">-0.00806158</td><td style = \"text-align: right;\">-0.204406</td><td style = \"text-align: right;\">-0.0255587</td><td style = \"text-align: right;\">0.00826704</td><td style = \"text-align: right;\">&ctdot;</td></tr></tbody></table></div>"
      ],
      "text/latex": [
       "\\begin{tabular}{r|ccccccc}\n",
       "\t& A & AA & AAL & AAP & AAPL & ABBV & \\\\\n",
       "\t\\hline\n",
       "\t& Float64 & Float64 & Float64 & Float64 & Float64 & Float64 & \\\\\n",
       "\t\\hline\n",
       "\t1 & -0.016186 & 0.00372792 & -0.0507687 & 6.29279e-5 & -0.0097691 & -0.00953711 & $\\dots$ \\\\\n",
       "\t2 & 0.00295203 & -0.0235306 & -0.0120067 & -0.0165713 & 0.00793658 & 0.00786081 & $\\dots$ \\\\\n",
       "\t3 & 0.00306058 & 0.0151232 & -0.00366705 & -0.0119331 & -0.00471433 & -0.00572124 & $\\dots$ \\\\\n",
       "\t4 & 0.0098246 & -0.0411739 & 0.0225219 & -0.0115551 & 0.0159583 & 0.00706248 & $\\dots$ \\\\\n",
       "\t5 & 0.01559 & -0.0322849 & 0.00394341 & -0.00189531 & 0.0210184 & 0.00767806 & $\\dots$ \\\\\n",
       "\t6 & 0.00366003 & -0.0183394 & -0.0227982 & -0.0255742 & 0.0022582 & -0.0128299 & $\\dots$ \\\\\n",
       "\t7 & -0.00148509 & 0.00819237 & 0.00255895 & -0.0254882 & 0.0211395 & -0.00608176 & $\\dots$ \\\\\n",
       "\t8 & 0.00604142 & 0.0380233 & 0.0050984 & 0.0247497 & -0.0135957 & 0.00979846 & $\\dots$ \\\\\n",
       "\t9 & 0.00713443 & -0.00937106 & 0.00181449 & 0.00875941 & -0.00429447 & 0.0119466 & $\\dots$ \\\\\n",
       "\t10 & 0.00943408 & -0.126618 & 0.0232944 & 0.0114514 & 0.0124485 & 0.0 & $\\dots$ \\\\\n",
       "\t11 & 0.00735038 & -0.00507494 & 0.00600385 & -0.00587464 & 0.0110105 & -0.0142169 & $\\dots$ \\\\\n",
       "\t12 & -0.00567505 & -0.032752 & -0.0431721 & -0.0136645 & -0.00680038 & -0.000113614 & $\\dots$ \\\\\n",
       "\t13 & 0.00578606 & -0.0314473 & 0.004402 & -0.009102 & 0.00356331 & -0.00890401 & $\\dots$ \\\\\n",
       "\t14 & -0.0118304 & -0.0182486 & 0.0527563 & 0.0139894 & 0.0048043 & -0.0224965 & $\\dots$ \\\\\n",
       "\t15 & -0.00913562 & -0.0490666 & -0.0411114 & -0.0552631 & -0.00288607 & -0.020497 & $\\dots$ \\\\\n",
       "\t16 & -0.019449 & -0.0421392 & -0.0569455 & -0.0186653 & -0.0298464 & 0.00572935 & $\\dots$ \\\\\n",
       "\t17 & 0.00713701 & -0.0108183 & 0.0298079 & -0.00345812 & 0.0278968 & -0.00297997 & $\\dots$ \\\\\n",
       "\t18 & 0.000687816 & -0.0143788 & -0.00372442 & -0.00021614 & 0.0207162 & -0.00682772 & $\\dots$ \\\\\n",
       "\t19 & -0.0333325 & -0.0145888 & 0.0337523 & -0.0239586 & -0.00145005 & -0.0172143 & $\\dots$ \\\\\n",
       "\t20 & -0.0218051 & -0.0240805 & -0.0322608 & -0.0263665 & -0.0453515 & -0.0093368 & $\\dots$ \\\\\n",
       "\t21 & -0.00497842 & 0.0205755 & 0.011852 & 0.00680782 & -0.00275038 & 0.0156751 & $\\dots$ \\\\\n",
       "\t22 & 0.0165392 & 0.0317926 & 0.0493883 & -0.00825107 & 0.0324804 & 0.024722 & $\\dots$ \\\\\n",
       "\t23 & 0.0167413 & 0.0727953 & 0.0232933 & 0.0406639 & 0.00812123 & 0.0265529 & $\\dots$ \\\\\n",
       "\t24 & -0.00129578 & 0.00693339 & -0.0278764 & -0.0195298 & 0.0116289 & 0.00632894 & $\\dots$ \\\\\n",
       "\t25 & -0.0196449 & -0.0235155 & 0.00282286 & -0.0107746 & -0.0136857 & 0.0569609 & $\\dots$ \\\\\n",
       "\t26 & 0.0150363 & -0.00839537 & 0.0143435 & -0.017071 & 0.00473797 & 0.0263058 & $\\dots$ \\\\\n",
       "\t27 & 0.00778668 & 0.0205399 & 0.0358216 & 0.0108834 & -0.0060516 & 0.0131066 & $\\dots$ \\\\\n",
       "\t28 & 0.0039877 & 0.00126989 & 0.0208928 & 0.0165903 & 0.0234704 & 0.0184742 & $\\dots$ \\\\\n",
       "\t29 & 0.000468267 & -0.000634712 & -0.0125497 & 0.00260223 & -0.00714645 & -0.0252684 & $\\dots$ \\\\\n",
       "\t30 & 0.00408651 & -0.00509231 & -0.0300242 & -0.00805222 & 0.000246189 & -0.0137279 & $\\dots$ \\\\\n",
       "\t$\\dots$ & $\\dots$ & $\\dots$ & $\\dots$ & $\\dots$ & $\\dots$ & $\\dots$ &  \\\\\n",
       "\\end{tabular}\n"
      ],
      "text/plain": [
       "\u001b[1m1397×550 DataFrame\u001b[0m\n",
       "\u001b[1m  Row \u001b[0m│\u001b[1m A           \u001b[0m\u001b[1m AA          \u001b[0m\u001b[1m AAL          \u001b[0m\u001b[1m AAP          \u001b[0m\u001b[1m AAPL         \u001b[0m\u001b[1m AB\u001b[0m ⋯\n",
       "      │\u001b[90m Float64     \u001b[0m\u001b[90m Float64     \u001b[0m\u001b[90m Float64      \u001b[0m\u001b[90m Float64      \u001b[0m\u001b[90m Float64      \u001b[0m\u001b[90m Fl\u001b[0m ⋯\n",
       "──────┼─────────────────────────────────────────────────────────────────────────\n",
       "    1 │ -0.016186     0.00372792  -0.0507687     6.29279e-5   -0.0097691    -0 ⋯\n",
       "    2 │  0.00295203  -0.0235306   -0.0120067    -0.0165713     0.00793658    0\n",
       "    3 │  0.00306058   0.0151232   -0.00366705   -0.0119331    -0.00471433   -0\n",
       "    4 │  0.0098246   -0.0411739    0.0225219    -0.0115551     0.0159583     0\n",
       "    5 │  0.01559     -0.0322849    0.00394341   -0.00189531    0.0210184     0 ⋯\n",
       "    6 │  0.00366003  -0.0183394   -0.0227982    -0.0255742     0.0022582    -0\n",
       "    7 │ -0.00148509   0.00819237   0.00255895   -0.0254882     0.0211395    -0\n",
       "    8 │  0.00604142   0.0380233    0.0050984     0.0247497    -0.0135957     0\n",
       "    9 │  0.00713443  -0.00937106   0.00181449    0.00875941   -0.00429447    0 ⋯\n",
       "   10 │  0.00943408  -0.126618     0.0232944     0.0114514     0.0124485     0\n",
       "   11 │  0.00735038  -0.00507494   0.00600385   -0.00587464    0.0110105    -0\n",
       "  ⋮   │      ⋮            ⋮            ⋮             ⋮             ⋮           ⋱\n",
       " 1388 │ -0.0263      -0.0427134    0.0130083    -0.00883048   -0.0121018    -0\n",
       " 1389 │ -0.0613015   -0.0446197   -0.0171084     0.00626966    0.00234604   -0 ⋯\n",
       " 1390 │  0.00432918   0.00245398   0.00818338   -0.00176439    0.00500873    0\n",
       " 1391 │  0.0255029    0.0286473    0.0145633    -0.0196164    -0.000666378   0\n",
       " 1392 │ -0.0205781    0.0314829    0.00480774    0.000818251   0.00550803   -0\n",
       " 1393 │ -0.0172547    0.0212045   -0.0153044     0.0269523     0.00613703   -0 ⋯\n",
       " 1394 │  0.0363708    0.0302042    0.0145047     0.0440778     0.00899555    0\n",
       " 1395 │  0.0278385    0.00530997   0.0142973     0.0131691    -0.00116673    0\n",
       " 1396 │  0.00733885  -0.00750466  -0.101163     -0.108708     -0.00182281    0\n",
       " 1397 │ -0.00141353  -0.0325388    0.00348432   -0.0163952     0.000561268  -0 ⋯\n",
       "\u001b[36m                                               545 columns and 1376 rows omitted\u001b[0m"
      ]
     },
     "execution_count": 11,
     "metadata": {},
     "output_type": "execute_result"
    }
   ],
   "source": [
    "# Calculate the log returns for each stock\n",
    "asset_returns = asset_return(tsframe, method = \"log\")\n",
    "\n",
    "# Extract returns as vectors for correlation analysis\n",
    "returns_vectors = Dict(ticker => collect(skipmissing(asset_returns[:, ticker])) for ticker in names(asset_returns)[1:end])\n",
    "\n",
    "# Convert the returns vectors to a DataFrame for better visualization\n",
    "returns_df = DataFrame(returns_vectors)\n"
   ]
  },
  {
   "cell_type": "code",
   "execution_count": 12,
   "id": "79bd9ba9-d496-4a70-99d8-99bdf4ed236a",
   "metadata": {},
   "outputs": [
    {
     "data": {
      "text/plain": [
       "1397×550 Matrix{Float64}:\n",
       " -0.016186     0.00372792  -0.0507687   …  -0.0211773     0.000148989\n",
       "  0.00295203  -0.0235306   -0.0120067       0.0441933    -0.00770692\n",
       "  0.00306058   0.0151232   -0.00366705      0.02222       0.00337432\n",
       "  0.0098246   -0.0411739    0.0225219       0.00899974   -0.00217357\n",
       "  0.01559     -0.0322849    0.00394341      0.000964382   0.013192\n",
       "  0.00366003  -0.0183394   -0.0227982   …   0.0064511     0.00376945\n",
       " -0.00148509   0.00819237   0.00255895      0.0127789     0.00690953\n",
       "  0.00604142   0.0380233    0.0050984      -0.0118215     0.00555203\n",
       "  0.00713443  -0.00937106   0.00181449      0.0503771     0.00920905\n",
       "  0.00943408  -0.126618     0.0232944      -0.0108463     0.00648468\n",
       "  0.00735038  -0.00507494   0.00600385  …  -0.00725266    0.00658571\n",
       " -0.00567505  -0.032752    -0.0431721       0.0153658     0.0125492\n",
       "  0.00578606  -0.0314473    0.004402       -0.0156305    -0.00303418\n",
       "  ⋮                                     ⋱                \n",
       "  0.0233847    0.0318611    0.119717    …  -0.0305737     0.00334308\n",
       " -0.0071934   -0.0153211   -0.0572493      -0.0222306    -0.0244785\n",
       " -0.0263      -0.0427134    0.0130083       0.0192949     0.00444277\n",
       " -0.0613015   -0.0446197   -0.0171084      -0.00133724   -0.0180873\n",
       "  0.00432918   0.00245398   0.00818338     -0.0038882    -0.00867293\n",
       "  0.0255029    0.0286473    0.0145633   …   0.00214702   -0.0100143\n",
       " -0.0205781    0.0314829    0.00480774      0.0033456    -0.00623886\n",
       " -0.0172547    0.0212045   -0.0153044      -0.00495541   -0.00831178\n",
       "  0.0363708    0.0302042    0.0145047       0.00975351    0.0255909\n",
       "  0.0278385    0.00530997   0.0142973       0.0111069     0.0148374\n",
       "  0.00733885  -0.00750466  -0.101163    …  -0.00553807   -0.00411396\n",
       " -0.00141353  -0.0325388    0.00348432     -0.0107678    -0.00459116"
      ]
     },
     "execution_count": 12,
     "metadata": {},
     "output_type": "execute_result"
    }
   ],
   "source": [
    "# Convert the DataFrame to a matrix\n",
    "returns_matrix = Matrix(returns_df)"
   ]
  },
  {
   "cell_type": "code",
   "execution_count": null,
   "id": "4a8abb3e-2c9e-41f4-9070-e1c40d7301df",
   "metadata": {},
   "outputs": [],
   "source": []
  },
  {
   "cell_type": "code",
   "execution_count": null,
   "id": "ae593f45-932c-40da-b472-43f7c4cf0a21",
   "metadata": {},
   "outputs": [],
   "source": []
  },
  {
   "cell_type": "code",
   "execution_count": null,
   "id": "7eb41121-7231-46f0-8a98-a7c8f1bd77d2",
   "metadata": {},
   "outputs": [],
   "source": []
  },
  {
   "cell_type": "code",
   "execution_count": null,
   "id": "94fe1158-ac69-40db-80eb-9a2679795418",
   "metadata": {},
   "outputs": [],
   "source": []
  },
  {
   "cell_type": "code",
   "execution_count": null,
   "id": "394517f3-7205-4c36-8574-d72bd15afbba",
   "metadata": {},
   "outputs": [],
   "source": []
  },
  {
   "cell_type": "markdown",
   "id": "74c5bd58-abbe-4274-8b73-41bd36293942",
   "metadata": {},
   "source": [
    "## Example 1"
   ]
  },
  {
   "cell_type": "code",
   "execution_count": 13,
   "id": "f5704132-a4d8-43ad-9ae5-ee6c22ea3ae5",
   "metadata": {
    "jupyter": {
     "source_hidden": true
    }
   },
   "outputs": [
    {
     "data": {
      "text/plain": [
       "4×4 Matrix{Float64}:\n",
       "  2.0  -1.0   0.0   0.0\n",
       " -1.0   2.0  -1.0   0.0\n",
       "  0.0  -1.0   2.0  -1.0\n",
       "  0.0   0.0  -1.0   2.0"
      ]
     },
     "execution_count": 13,
     "metadata": {},
     "output_type": "execute_result"
    }
   ],
   "source": [
    "returns_matrix = [\n",
    "    2.0  -1   0   0;\n",
    "   -1   2  -1   0;\n",
    "    0  -1   2  -1;\n",
    "    0   0  -1   2\n",
    "]\n"
   ]
  },
  {
   "cell_type": "markdown",
   "id": "06e2c77b-5afd-4583-88ac-59cc4aaf356e",
   "metadata": {},
   "source": [
    "## Example 2"
   ]
  },
  {
   "cell_type": "code",
   "execution_count": null,
   "id": "da94fc11-6a4e-41ea-83aa-70585950cbf4",
   "metadata": {
    "jupyter": {
     "source_hidden": true
    }
   },
   "outputs": [],
   "source": [
    "returns_matrix = [\n",
    "    1.0    0.9    0.81   0.729  0.6561 0.5905\n",
    "    0.9    1.0    0.9    0.81   0.729  0.6561\n",
    "    0.81   0.9    1.0    0.9    0.81   0.729\n",
    "    0.729  0.81   0.9    1.0    0.9    0.81\n",
    "    0.6561 0.729  0.81   0.9    1.0    0.9\n",
    "    0.5905 0.6561 0.729  0.81   0.9    1.0\n",
    "]"
   ]
  },
  {
   "cell_type": "code",
   "execution_count": null,
   "id": "3863cbff-970e-4d53-b047-e65a37f28b9c",
   "metadata": {},
   "outputs": [],
   "source": []
  },
  {
   "cell_type": "code",
   "execution_count": null,
   "id": "036213dc-1b39-48c6-9250-d75fce6f11a9",
   "metadata": {},
   "outputs": [],
   "source": []
  },
  {
   "cell_type": "code",
   "execution_count": null,
   "id": "d5cf567d-2b2b-4d70-8d08-233a5202b73b",
   "metadata": {},
   "outputs": [],
   "source": []
  },
  {
   "cell_type": "code",
   "execution_count": null,
   "id": "1988358e-9cd9-4ac5-a483-17a24746fd3c",
   "metadata": {},
   "outputs": [],
   "source": []
  },
  {
   "cell_type": "code",
   "execution_count": null,
   "id": "7a6ca0ae-d1a8-4c45-aff7-7693c6751949",
   "metadata": {},
   "outputs": [],
   "source": []
  },
  {
   "cell_type": "markdown",
   "id": "1c457cae-cf58-402c-a5df-cb4741b289a3",
   "metadata": {},
   "source": [
    "# MCAR"
   ]
  },
  {
   "cell_type": "code",
   "execution_count": 13,
   "id": "fbef7167-8409-493b-88b0-b420075924a2",
   "metadata": {},
   "outputs": [
    {
     "name": "stdout",
     "output_type": "stream",
     "text": [
      "Number of NaNs after deletion: 192033\n"
     ]
    }
   ],
   "source": [
    "using Random\n",
    "# Function to randomly delete data (set to NaN)\n",
    "function delete_random_data!(matrix::Matrix{Float64}, fraction::Float64)\n",
    "    Random.seed!(25)  # For reproducibility\n",
    "    for i in 1:size(matrix, 1)\n",
    "        for j in 1:size(matrix, 2)\n",
    "            if rand() < fraction\n",
    "                matrix[i, j] = NaN\n",
    "            end\n",
    "        end\n",
    "    end\n",
    "    return matrix\n",
    "end\n",
    "\n",
    "# Apply the deletion (e.g., % of values set to NaN)\n",
    "delete_random_data!(returns_matrix, 0.25)\n",
    "println(\"Number of NaNs after deletion: \", sum(isnan.(returns_matrix)))            "
   ]
  },
  {
   "cell_type": "code",
   "execution_count": null,
   "id": "44a74360-31c4-4722-9b0c-0b6f66ead778",
   "metadata": {},
   "outputs": [],
   "source": []
  },
  {
   "cell_type": "code",
   "execution_count": null,
   "id": "22eb1ffd-2e60-4420-930a-671c0e605ff7",
   "metadata": {},
   "outputs": [],
   "source": []
  },
  {
   "cell_type": "code",
   "execution_count": null,
   "id": "a00c6798-a8aa-4b21-a795-ad0ccb6f0a29",
   "metadata": {},
   "outputs": [],
   "source": []
  },
  {
   "cell_type": "markdown",
   "id": "02fc9bbf-04a2-42dd-94c4-32ba68a47160",
   "metadata": {},
   "source": [
    "# NMAR"
   ]
  },
  {
   "cell_type": "code",
   "execution_count": 73,
   "id": "bce29e82-8fca-4dd8-9642-9076513fd534",
   "metadata": {},
   "outputs": [
    {
     "name": "stdout",
     "output_type": "stream",
     "text": [
      "Number of NaNs after deletion: 192088\n"
     ]
    }
   ],
   "source": [
    "using Random\n",
    "\n",
    "# Function to systematically delete data (set to NaN) - High Market Volatility scenario\n",
    "function delete_systematic_data!(matrix::Matrix{Float64}, fraction::Float64)\n",
    "    Random.seed!(25)  # For reproducibility, matching your original\n",
    "    n_rows, n_cols = size(matrix)\n",
    "    total_elements = n_rows * n_cols\n",
    "    target_nans = round(Int, fraction * total_elements)  # Number of elements to delete\n",
    "    \n",
    "    # Get indices of largest absolute values\n",
    "    abs_matrix = abs.(matrix)\n",
    "    sorted_indices = sortperm(vec(abs_matrix), rev=true)[1:target_nans]\n",
    "    \n",
    "    # Convert to row, col indices and delete systematically\n",
    "    deleted = 0\n",
    "    for i in 1:n_rows\n",
    "        for j in 1:n_cols\n",
    "            idx = (i - 1) * n_cols + j\n",
    "            if deleted < target_nans && idx in sorted_indices\n",
    "                matrix[i, j] = NaN\n",
    "                deleted += 1\n",
    "            end\n",
    "            if deleted >= target_nans\n",
    "                break\n",
    "            end\n",
    "        end\n",
    "    end\n",
    "    return matrix\n",
    "end\n",
    "\n",
    "# Apply the deletion (e.g., % of values set to NaN)\n",
    "delete_systematic_data!(returns_matrix, 0.25)\n",
    "println(\"Number of NaNs after deletion: \", sum(isnan.(returns_matrix)))"
   ]
  },
  {
   "cell_type": "code",
   "execution_count": null,
   "id": "05f8635d-5b2d-4a47-889d-232096177e36",
   "metadata": {},
   "outputs": [],
   "source": []
  },
  {
   "cell_type": "code",
   "execution_count": null,
   "id": "16dd34c2-e042-4e4d-a5a5-dd8305089356",
   "metadata": {},
   "outputs": [],
   "source": []
  },
  {
   "cell_type": "code",
   "execution_count": 18,
   "id": "723fda46-a5e5-4d76-bd62-38d42e9c65ff",
   "metadata": {},
   "outputs": [
    {
     "data": {
      "text/plain": [
       "1397×550 Matrix{Float64}:\n",
       " NaN             0.00372792   -0.0507687   …  NaN              0.000148989\n",
       "   0.00295203   -0.0235306   NaN              NaN             -0.00770692\n",
       "   0.00306058  NaN            -0.00366705     NaN              0.00337432\n",
       "   0.0098246    -0.0411739     0.0225219      NaN             -0.00217357\n",
       "   0.01559     NaN             0.00394341       0.000964382    0.013192\n",
       "   0.00366003  NaN            -0.0227982   …  NaN              0.00376945\n",
       "  -0.00148509    0.00819237    0.00255895       0.0127789      0.00690953\n",
       " NaN             0.0380233   NaN               -0.0118215    NaN\n",
       " NaN            -0.00937106    0.00181449       0.0503771      0.00920905\n",
       " NaN           NaN             0.0232944       -0.0108463      0.00648468\n",
       " NaN            -0.00507494    0.00600385  …   -0.00725266   NaN\n",
       "  -0.00567505  NaN            -0.0431721        0.0153658    NaN\n",
       "   0.00578606   -0.0314473     0.004402        -0.0156305     -0.00303418\n",
       "   ⋮                                       ⋱                 \n",
       " NaN           NaN           NaN           …   -0.0305737      0.00334308\n",
       "  -0.0071934    -0.0153211    -0.0572493       -0.0222306     -0.0244785\n",
       " NaN            -0.0427134     0.0130083        0.0192949      0.00444277\n",
       " NaN            -0.0446197    -0.0171084       -0.00133724    -0.0180873\n",
       "   0.00432918    0.00245398    0.00818338      -0.0038882     -0.00867293\n",
       "   0.0255029     0.0286473     0.0145633   …    0.00214702    -0.0100143\n",
       " NaN             0.0314829     0.00480774       0.0033456     -0.00623886\n",
       "  -0.0172547     0.0212045   NaN               -0.00495541    -0.00831178\n",
       "   0.0363708     0.0302042   NaN                0.00975351     0.0255909\n",
       "   0.0278385   NaN             0.0142973        0.0111069      0.0148374\n",
       " NaN            -0.00750466   -0.101163    …   -0.00553807   NaN\n",
       "  -0.00141353   -0.0325388     0.00348432     NaN             -0.00459116"
      ]
     },
     "execution_count": 18,
     "metadata": {},
     "output_type": "execute_result"
    }
   ],
   "source": [
    "returns_matrix\n"
   ]
  },
  {
   "cell_type": "code",
   "execution_count": 19,
   "id": "b01e43c0-273b-476e-86ac-7767ab3d4e52",
   "metadata": {
    "jupyter": {
     "source_hidden": true
    }
   },
   "outputs": [
    {
     "data": {
      "text/plain": [
       "550×550 Matrix{Float64}:\n",
       " 1.0       0.355944    0.330878   …  0.384125   0.249742   0.553873\n",
       " 0.355944  1.0         0.487285      0.33974    0.0234715  0.324111\n",
       " 0.330878  0.487285    1.0           0.273074  -0.0436686  0.223302\n",
       " 0.298682  0.316199    0.280971      0.303037   0.0581346  0.296582\n",
       " 0.505474  0.331938    0.314316      0.478675   0.303411   0.563014\n",
       " 0.351173  0.15221     0.170155   …  0.174664  -0.028228   0.379323\n",
       " 0.526788  0.174462    0.181145      0.307502   0.161012   0.572168\n",
       " 0.542124  0.427443    0.369609      0.36143    0.197153   0.524289\n",
       " 0.484075  0.24595     0.247772      0.478415   0.388557   0.489737\n",
       " 0.372259  0.264557    0.355199      0.32946    0.0482129  0.351915\n",
       " 0.545335  0.489098    0.433126   …  0.450066   0.215692   0.474593\n",
       " 0.309704  0.411904    0.313063      0.17957   -0.0360728  0.363755\n",
       " 0.490625  0.351378    0.350031      0.366175   0.139269   0.560547\n",
       " ⋮                                ⋱                        \n",
       " 0.529136  0.511495    0.483004      0.5631     0.0754432  0.566148\n",
       " 0.314622  0.478539    0.516409      0.404295   0.058113   0.355294\n",
       " 0.328507  0.159162    0.0829718  …  0.248075   0.112094   0.425682\n",
       " 0.290942  0.543273    0.400906      0.197976  -0.11244    0.29136\n",
       " 0.372628  0.430383    0.333104      0.217066   0.047785   0.472976\n",
       " 0.566596  0.479622    0.49037       0.434545   0.125861   0.553883\n",
       " 0.374692  0.229958    0.214784      0.221783   0.0190371  0.303171\n",
       " 0.4191    0.384342    0.326705   …  0.393302   0.108884   0.528896\n",
       " 0.582953  0.416925    0.414004      0.451999   0.215043   0.469865\n",
       " 0.384125  0.33974     0.273074      1.0        0.370536   0.470389\n",
       " 0.249742  0.0234715  -0.0436686     0.370536   1.0        0.171942\n",
       " 0.553873  0.324111    0.223302      0.470389   0.171942   1.0"
      ]
     },
     "execution_count": 19,
     "metadata": {},
     "output_type": "execute_result"
    }
   ],
   "source": [
    "A = nancor(returns_matrix)"
   ]
  },
  {
   "cell_type": "code",
   "execution_count": 20,
   "id": "dbcfd8ed-16dc-41c5-b943-97e793531544",
   "metadata": {
    "jupyter": {
     "source_hidden": true
    }
   },
   "outputs": [
    {
     "data": {
      "text/plain": [
       "550-element Vector{Float64}:\n",
       "  -1.7789957816530637\n",
       "  -1.0674313027448457\n",
       "  -0.943809306181811\n",
       "  -0.8419317461993135\n",
       "  -0.784779830962278\n",
       "  -0.7769495282730702\n",
       "  -0.725916659941176\n",
       "  -0.6565239148222867\n",
       "  -0.6114138659434938\n",
       "  -0.587254950362327\n",
       "  -0.5759616061334634\n",
       "  -0.5456632786534374\n",
       "  -0.5114592888174577\n",
       "   ⋮\n",
       "   4.608325891591809\n",
       "   4.896739737362808\n",
       "   5.069239931211552\n",
       "   5.819374115477333\n",
       "   6.021199393018358\n",
       "   6.8960320652408775\n",
       "   8.056702796716664\n",
       "  10.09685200450313\n",
       "  12.503945521590325\n",
       "  24.515177573461862\n",
       "  32.95914870943768\n",
       " 211.96620953662472"
      ]
     },
     "execution_count": 20,
     "metadata": {},
     "output_type": "execute_result"
    }
   ],
   "source": [
    "eigvals(A)"
   ]
  },
  {
   "cell_type": "code",
   "execution_count": 21,
   "id": "b7fb74ed-5ebc-425b-a304-f184e8e2a9f4",
   "metadata": {
    "jupyter": {
     "source_hidden": true
    }
   },
   "outputs": [
    {
     "name": "stdout",
     "output_type": "stream",
     "text": [
      "Number of positive eigenvalues: 380\n",
      "Number of negative eigenvalues: 170\n",
      "Number of zero eigenvalues: 0\n",
      "Is positive semi-definite: false\n"
     ]
    }
   ],
   "source": [
    "# Symmetrized result already computed\n",
    "x = eigvals(Symmetric(A))\n",
    "\n",
    "# Count positive and negative eigenvalues\n",
    "count_positive = sum(x .> 1e-8)  # Positive, above tolerance\n",
    "count_negative = sum(x .< -1e-8) # Negative, below tolerance\n",
    "count_zero = sum(abs.(x) .<= 1e-8)  # Effectively zero\n",
    "\n",
    "# Print results\n",
    "println(\"Number of positive eigenvalues: \", count_positive)\n",
    "println(\"Number of negative eigenvalues: \", count_negative)\n",
    "println(\"Number of zero eigenvalues: \", count_zero)\n",
    "println(\"Is positive semi-definite: \", all(x .>= -1e-8))"
   ]
  },
  {
   "cell_type": "code",
   "execution_count": null,
   "id": "a5c37b76-aa17-4121-9f21-8915e60468f0",
   "metadata": {},
   "outputs": [],
   "source": []
  },
  {
   "cell_type": "code",
   "execution_count": null,
   "id": "21bc257e-4095-4718-8713-32bc52625862",
   "metadata": {},
   "outputs": [],
   "source": []
  },
  {
   "cell_type": "code",
   "execution_count": null,
   "id": "b21098c5-e029-4bd5-8940-2f9dcc68432c",
   "metadata": {},
   "outputs": [],
   "source": []
  },
  {
   "cell_type": "code",
   "execution_count": null,
   "id": "15857540-0710-46c0-ac64-94cf1af012d0",
   "metadata": {},
   "outputs": [],
   "source": []
  },
  {
   "cell_type": "code",
   "execution_count": null,
   "id": "3f291805-6c93-4ad2-afcc-ede4fe86ab52",
   "metadata": {},
   "outputs": [],
   "source": []
  },
  {
   "cell_type": "markdown",
   "id": "34472ec9-0baa-419a-b22d-e774ac1242e3",
   "metadata": {},
   "source": [
    "# Lapack Method "
   ]
  },
  {
   "cell_type": "code",
   "execution_count": 22,
   "id": "ecf12f6d-871a-4748-8e36-d6c35c621d87",
   "metadata": {
    "jupyter": {
     "source_hidden": true
    }
   },
   "outputs": [
    {
     "name": "stderr",
     "output_type": "stream",
     "text": [
      "\u001b[36m\u001b[1m[ \u001b[22m\u001b[39m\u001b[36m\u001b[1mInfo: \u001b[22m\u001b[39mPrecompiling MKL [33e6dc65-8f57-5167-99aa-e5a354878fb2] (cache misses: wrong dep version loaded (2))\n"
     ]
    },
    {
     "data": {
      "text/plain": [
       "Project_onto_PSD_LAPACK! (generic function with 2 methods)"
      ]
     },
     "execution_count": 22,
     "metadata": {},
     "output_type": "execute_result"
    }
   ],
   "source": [
    "using MKL  # Add Intel MKL for optimized LAPACK\n",
    "# Function to project onto the PSD matrix using LAPACK with MKL\n",
    "function Project_onto_PSD_LAPACK!(A_symm::Matrix{Float64}, result2::Matrix{Float64}, timer::TimerOutput=to)\n",
    "    @timeit timer \"Project_onto_PSD_LAPACK\" begin\n",
    "        n = size(A_symm, 1)\n",
    "        F = copy(A_symm)  # Make a copy since LAPACK modifies in-place\n",
    "        # Compute eigenvalues and eigenvectors using LAPACK with MKL\n",
    "        λ, _ = LAPACK.syev!('V', 'U', F)  # Extract only eigenvalues\n",
    "        # Set negative eigenvalues to zero\n",
    "        λ .= max.(λ, 0.0)\n",
    "        # Efficient reconstruction: X = V * Diag(λ) * V'\n",
    "        mul!(result2, F * Diagonal(λ), F')\n",
    "    end\n",
    "    return nothing\n",
    "end"
   ]
  },
  {
   "cell_type": "code",
   "execution_count": 23,
   "id": "7e6509f1-cb2b-4d87-b87e-9e684d1517fb",
   "metadata": {
    "jupyter": {
     "source_hidden": true
    }
   },
   "outputs": [
    {
     "data": {
      "text/plain": [
       "project_onto_UD! (generic function with 2 methods)"
      ]
     },
     "execution_count": 23,
     "metadata": {},
     "output_type": "execute_result"
    }
   ],
   "source": [
    "# Function to project onto the unit diagonal (in-place)\n",
    "function project_onto_UD!(A_symm::Matrix{Float64}, timer::TimerOutput=to)\n",
    "    @timeit timer \"project_onto_UD!\" begin\n",
    "        for i in 1:size(A_symm, 1)\n",
    "            A_symm[i, i] = 1.0\n",
    "        end\n",
    "    end\n",
    "    return A_symm\n",
    "end"
   ]
  },
  {
   "cell_type": "code",
   "execution_count": 24,
   "id": "be70e992-0015-4eb8-9a0b-98ea812f3cfc",
   "metadata": {
    "jupyter": {
     "source_hidden": true
    }
   },
   "outputs": [
    {
     "data": {
      "text/plain": [
       "nearest_corr_dykstra (generic function with 4 methods)"
      ]
     },
     "execution_count": 24,
     "metadata": {},
     "output_type": "execute_result"
    }
   ],
   "source": [
    "# Function for POCS with Dykstra's Correction\n",
    "function nearest_corr_dykstra(A_symm::Matrix{Float64}, tol::Float64=1e-8, max_iter::Int=300, timer::TimerOutput=to)\n",
    "    Y_k = copy(A_symm)\n",
    "    ΔS_k = zeros(size(A_symm))\n",
    "    R_k = similar(A_symm)\n",
    "    X_k = similar(A_symm)\n",
    "    diff_matrix = similar(A_symm)\n",
    "\n",
    "    @timeit timer \"nearest_corr_dykstra\" begin\n",
    "        for k in 1:max_iter\n",
    "            R_k .= Y_k .- ΔS_k\n",
    "            Project_onto_PSD_LAPACK!(R_k, X_k, timer)\n",
    "            ΔS_k .= X_k .- R_k\n",
    "            copyto!(Y_k, X_k)\n",
    "            project_onto_UD!(Y_k, timer)\n",
    "            diff_matrix .= Y_k .- X_k\n",
    "            if norm(diff_matrix, Inf) / max(norm(Y_k, Inf), eps(Float64)) <= tol\n",
    "                println(\"Converged after $k iterations\")\n",
    "                return Y_k, k\n",
    "            end\n",
    "        end\n",
    "        println(\"Reached maximum iterations ($max_iter) without convergence\")\n",
    "        return Y_k, max_iter\n",
    "    end\n",
    "end"
   ]
  },
  {
   "cell_type": "code",
   "execution_count": 25,
   "id": "6ba59e24-93ae-4520-b4cf-8ff1d572338b",
   "metadata": {
    "jupyter": {
     "source_hidden": true
    }
   },
   "outputs": [
    {
     "name": "stdout",
     "output_type": "stream",
     "text": [
      "=== POCS with Dykstra Using LAPACK (MKL) ===\n",
      "Converged after 59 iterations\n",
      "\u001b[0m\u001b[1m──────────────────────────────────────────────────────────────────────────────────────\u001b[22m\n",
      "\u001b[0m\u001b[1m                                    \u001b[22m         Time                    Allocations      \n",
      "                                    ───────────────────────   ────────────────────────\n",
      "         Tot / % measured:               5.34s /  81.3%            334MiB /  82.6%    \n",
      "\n",
      "Section                     ncalls     time    %tot     avg     alloc    %tot      avg\n",
      "──────────────────────────────────────────────────────────────────────────────────────\n",
      "nearest_corr_dykstra             1    4.34s  100.0%   4.34s    276MiB  100.0%   276MiB\n",
      "  Project_onto_PSD_LAPACK       59    4.17s   96.2%  70.7ms    276MiB  100.0%  4.68MiB\n",
      "  project_onto_UD!              59    294μs    0.0%  4.98μs     0.00B    0.0%    0.00B\n",
      "\u001b[0m\u001b[1m──────────────────────────────────────────────────────────────────────────────────────\u001b[22m\n",
      "Minimum Eigenvalue after projection: -7.012938376049902e-9\n",
      "Diagonal all ones: true\n",
      "|| A - X ||_F: 4.83220115149474\n"
     ]
    }
   ],
   "source": [
    "# Example Usage\n",
    "  # Define A explicitly\n",
    "A_symm = A  # Ensure symmetry\n",
    "\n",
    "println(\"=== POCS with Dykstra Using LAPACK (MKL) ===\")\n",
    "reset_timer!(to)\n",
    "result2, iterations = nearest_corr_dykstra(A_symm)\n",
    "show(to)\n",
    "min_eigenval = minimum(eigen(Symmetric(result2)).values)\n",
    "diagonal_check = all(abs.(diag(result2) .- 1.0) .< 1e-10)\n",
    "println(\"\\nMinimum Eigenvalue after projection: \", min_eigenval)\n",
    "println(\"Diagonal all ones: \", diagonal_check)\n",
    "println(\"|| A - X ||_F: \", norm(A_symm - result2))"
   ]
  },
  {
   "cell_type": "code",
   "execution_count": 26,
   "id": "8f4118e7",
   "metadata": {
    "jupyter": {
     "source_hidden": true
    }
   },
   "outputs": [
    {
     "name": "stdout",
     "output_type": "stream",
     "text": [
      "Number of positive eigenvalues: 319\n",
      "Number of negative eigenvalues: 0\n",
      "Number of zero eigenvalues: 231\n",
      "Is positive semi-definite: true\n"
     ]
    }
   ],
   "source": [
    "using LinearAlgebra\n",
    "\n",
    "# Symmetrized result already computed\n",
    "x = eigvals(Symmetric(result2))\n",
    "\n",
    "# Count positive and negative eigenvalues\n",
    "count_positive = sum(x .> 1e-8)  # Positive, above tolerance\n",
    "count_negative = sum(x .< -1e-8) # Negative, below tolerance\n",
    "count_zero = sum(abs.(x) .<= 1e-8)  # Effectively zero\n",
    "\n",
    "# Print results\n",
    "println(\"Number of positive eigenvalues: \", count_positive)\n",
    "println(\"Number of negative eigenvalues: \", count_negative)\n",
    "println(\"Number of zero eigenvalues: \", count_zero)\n",
    "println(\"Is positive semi-definite: \", all(x .>= -1e-8))"
   ]
  },
  {
   "cell_type": "code",
   "execution_count": 27,
   "id": "38232110-8d32-4dbe-acd5-7ef9ab257569",
   "metadata": {},
   "outputs": [
    {
     "data": {
      "text/plain": [
       "381"
      ]
     },
     "execution_count": 27,
     "metadata": {},
     "output_type": "execute_result"
    }
   ],
   "source": [
    "rank(result2)"
   ]
  },
  {
   "cell_type": "code",
   "execution_count": null,
   "id": "6358f67f",
   "metadata": {},
   "outputs": [],
   "source": []
  },
  {
   "cell_type": "code",
   "execution_count": null,
   "id": "7561491d-2c0d-4a71-95b4-5fa48f056318",
   "metadata": {},
   "outputs": [],
   "source": []
  },
  {
   "cell_type": "code",
   "execution_count": null,
   "id": "dc14b20e",
   "metadata": {},
   "outputs": [],
   "source": []
  },
  {
   "cell_type": "markdown",
   "id": "0b181d4d",
   "metadata": {},
   "source": [
    "# Plot"
   ]
  },
  {
   "cell_type": "markdown",
   "id": "4f424778",
   "metadata": {},
   "source": [
    "### Unbiased Test"
   ]
  },
  {
   "cell_type": "code",
   "execution_count": null,
   "id": "ad581486-bc7f-46bb-9537-986e575523ba",
   "metadata": {
    "jupyter": {
     "source_hidden": true
    }
   },
   "outputs": [],
   "source": [
    "using Plots, LinearAlgebra, PyPlot\n",
    "\n",
    "# Set PyPlot backend\n",
    "Plots.pyplot()  # Switch to PyPlot backend\n",
    "Plots.default(size=(800, 600))  # Set plot size\n",
    "\n",
    "# Verify data\n",
    "println(\"Checking data...\")\n",
    "@assert isdefined(Main, :A) \"Matrix A is not defined!\"\n",
    "@assert isdefined(Main, :result2) \"Matrix result2 is not defined!\"\n",
    "\n",
    "# Compute and sort eigenvalues\n",
    "eigvals_A = sort(eigvals(Symmetric(A)), rev=true)\n",
    "eigvals_result2 = sort(eigvals(Symmetric(result2)), rev=true)\n",
    "\n",
    "println(\"Eigenvalues of A: min = \", minimum(eigvals_A), \", max = \", maximum(eigvals_A))\n",
    "println(\"Eigenvalues of result: min = \", minimum(eigvals_result2), \", max = \", maximum(eigvals_result2))\n",
    "\n",
    "# Shift negatives for log scale\n",
    "eigvals_A_plot = max.(eigvals_A, 1e-10)\n",
    "eigvals_result_plot = max.(eigvals_result2, 1e-10)\n",
    "\n",
    "# Create the plot\n",
    "p = Plots.plot(\n",
    "    eigvals_A_plot,\n",
    "    label=\"Before Projection\",\n",
    "    color=:blue,\n",
    "    linewidth=2,\n",
    "    marker=:circle,\n",
    "    markersize=3,\n",
    "    yscale=:log10,\n",
    "    title=\"10% Eigenvalue Spectrum for Unbiased_test: Before vs After PSD Projection\",\n",
    "    xlabel=\"Eigenvalue Index\",\n",
    "    ylabel=\"Eigenvalue Magnitude (log scale)\",\n",
    "    grid=true,\n",
    "    legend=:topright,\n",
    "    ylims=(1e-10, 1e3),\n",
    "    yticks=10.0 .^ (-10:2:2)  # [1e-10, 1e-8, 1e-6, 1e-4, 1e-2, 1e0, 1e2]\n",
    ")\n",
    "\n",
    "Plots.plot!(\n",
    "    eigvals_result_plot,\n",
    "    label=\"After Projection\",\n",
    "    color=:red,\n",
    "    linewidth=2,\n",
    "    linestyle=:dash,\n",
    "    marker=:square,\n",
    "    markersize=3\n",
    ")\n",
    "\n",
    "Plots.hline!([1e-10], label=\"Zero Threshold (approx)\", color=:black, linestyle=:dot, linewidth=1)\n",
    "\n",
    "# Save and implicitly display with PyPlot\n",
    "println(\"Saving to 'eigenvalue_spectrum_pyplot.png'...\")\n",
    "Plots.savefig(p, \"eigenvalue_spectrum_pyplot_10%_Unbiased_test.png\")\n",
    "println(\"Saved. Check 'eigenvalue_spectrum_pyplot_10%_Unbiased_test.png'.\")"
   ]
  },
  {
   "cell_type": "code",
   "execution_count": null,
   "id": "d5f149b2-9bb0-4f22-b09e-262dd455ce72",
   "metadata": {},
   "outputs": [],
   "source": []
  },
  {
   "cell_type": "code",
   "execution_count": null,
   "id": "39ecf006-12a2-45f3-a3df-fa488d17bfd5",
   "metadata": {},
   "outputs": [],
   "source": []
  },
  {
   "cell_type": "code",
   "execution_count": null,
   "id": "4353aa7a-79aa-49df-8b47-17cfb3271996",
   "metadata": {},
   "outputs": [],
   "source": []
  },
  {
   "cell_type": "markdown",
   "id": "8d27f9c7",
   "metadata": {},
   "source": [
    "### Systematic Test"
   ]
  },
  {
   "cell_type": "code",
   "execution_count": null,
   "id": "da245739-4fcc-4586-ab6e-9d8801418744",
   "metadata": {
    "jupyter": {
     "source_hidden": true
    }
   },
   "outputs": [],
   "source": [
    "using Plots, LinearAlgebra, PyPlot\n",
    "\n",
    "# Set PyPlot backend\n",
    "Plots.pyplot()  # Switch to PyPlot backend\n",
    "Plots.default(size=(800, 600))  # Set plot size\n",
    "\n",
    "# Verify data\n",
    "println(\"Checking data...\")\n",
    "@assert isdefined(Main, :A) \"Matrix A is not defined!\"\n",
    "@assert isdefined(Main, :result2) \"Matrix result2 is not defined!\"\n",
    "\n",
    "# Compute and sort eigenvalues\n",
    "eigvals_A = sort(eigvals(Symmetric(A)), rev=true)\n",
    "eigvals_result2 = sort(eigvals(Symmetric(result2)), rev=true)\n",
    "\n",
    "println(\"Eigenvalues of A: min = \", minimum(eigvals_A), \", max = \", maximum(eigvals_A))\n",
    "println(\"Eigenvalues of result: min = \", minimum(eigvals_result2), \", max = \", maximum(eigvals_result2))\n",
    "\n",
    "# Shift negatives for log scale\n",
    "eigvals_A_plot = max.(eigvals_A, 1e-10)\n",
    "eigvals_result_plot = max.(eigvals_result2, 1e-10)\n",
    "\n",
    "# Create the plot\n",
    "p = Plots.plot(\n",
    "    eigvals_A_plot,\n",
    "    label=\"Before Projection\",\n",
    "    color=:blue,\n",
    "    linewidth=2,\n",
    "    marker=:circle,\n",
    "    markersize=3,\n",
    "    yscale=:log10,\n",
    "    title=\"10% Eigenvalue Spectrum for Systematic_test: Before vs After PSD Projection\",\n",
    "    xlabel=\"Eigenvalue Index\",\n",
    "    ylabel=\"Eigenvalue Magnitude (log scale)\",\n",
    "    grid=true,\n",
    "    legend=:topright,\n",
    "    ylims=(1e-10, 1e3),\n",
    "    yticks=10.0 .^ (-10:2:2)  \n",
    ")\n",
    "\n",
    "Plots.plot!(\n",
    "    eigvals_result_plot,\n",
    "    label=\"After Projection\",\n",
    "    color=:red,\n",
    "    linewidth=2,\n",
    "    linestyle=:dash,\n",
    "    marker=:square,\n",
    "    markersize=3\n",
    ")\n",
    "\n",
    "Plots.hline!([1e-10], label=\"Zero Threshold (approx)\", color=:black, linestyle=:dot, linewidth=1)\n",
    "\n",
    "# Save and implicitly display with PyPlot\n",
    "println(\"Saving to 'eigenvalue_spectrum_pyplot.png'...\")\n",
    "Plots.savefig(p, \"eigenvalue_spectrum_pyplot_10%__systematic_test.png\")\n",
    "println(\"Saved. Check 'eigenvalue_spectrum_pyplot_10%_systematic_test.png'.\")"
   ]
  },
  {
   "cell_type": "code",
   "execution_count": null,
   "id": "1d82718f",
   "metadata": {},
   "outputs": [],
   "source": []
  },
  {
   "cell_type": "code",
   "execution_count": null,
   "id": "f9db14c2-f854-4ea9-964f-f485e29ad879",
   "metadata": {},
   "outputs": [],
   "source": []
  },
  {
   "cell_type": "code",
   "execution_count": null,
   "id": "8145775d",
   "metadata": {},
   "outputs": [],
   "source": []
  },
  {
   "cell_type": "markdown",
   "id": "0c7f4a2d-0f0a-4bde-849e-78bf86625ca0",
   "metadata": {},
   "source": [
    "# Eigen Method"
   ]
  },
  {
   "cell_type": "code",
   "execution_count": 28,
   "id": "33dc3e76-1d49-4f82-bf4f-57a3d762dd27",
   "metadata": {},
   "outputs": [
    {
     "data": {
      "text/plain": [
       "Project_onto_PSD (generic function with 2 methods)"
      ]
     },
     "execution_count": 28,
     "metadata": {},
     "output_type": "execute_result"
    }
   ],
   "source": [
    "# Function to project onto the PSD matrix with timing\n",
    "function Project_onto_PSD(A_symm::Matrix{Float64}, timer::TimerOutput=to)::Matrix{Float64}\n",
    "    local result3\n",
    "    @timeit timer \"Project_onto_PSD\" begin\n",
    "        λ, V = eigen(Symmetric(A_symm))  # Eigenvalue decomposition\n",
    "        λ[λ .< 0] .= 0.0  # Set all negative eigenvalues exactly to zero\n",
    "        result3 = V * Diagonal(λ) * V'  # Reconstruct PSD matrix\n",
    "    end\n",
    "    return result3\n",
    "end"
   ]
  },
  {
   "cell_type": "code",
   "execution_count": 29,
   "id": "6cfd4e3c-888b-4794-9ab8-8648f8b59797",
   "metadata": {},
   "outputs": [
    {
     "data": {
      "text/plain": [
       "project_onto_UD! (generic function with 2 methods)"
      ]
     },
     "execution_count": 29,
     "metadata": {},
     "output_type": "execute_result"
    }
   ],
   "source": [
    "# Function to project onto the unit diagonal (in-place) with timing\n",
    "function project_onto_UD!(A_symm::Matrix{Float64}, timer::TimerOutput=to)::Matrix{Float64}\n",
    "    @timeit timer \"project_onto_UD!\" begin\n",
    "        for i in 1:size(A_symm, 1)\n",
    "            A_symm[i, i] = 1.0\n",
    "        end\n",
    "    end\n",
    "    return A_symm\n",
    "end"
   ]
  },
  {
   "cell_type": "code",
   "execution_count": 30,
   "id": "0173a29a-1ed6-405b-bc7b-e3452eeddbfd",
   "metadata": {},
   "outputs": [
    {
     "data": {
      "text/plain": [
       "nearest_corr_dykstra (generic function with 4 methods)"
      ]
     },
     "execution_count": 30,
     "metadata": {},
     "output_type": "execute_result"
    }
   ],
   "source": [
    "# Function for POCS with Dykstra's Correction with timing\n",
    "function nearest_corr_dykstra(A_symm::Matrix{Float64}, tol::Float64=1e-9, max_iter::Int=1000, timer::TimerOutput=to)\n",
    "    # Preallocate matrices for memory efficiency\n",
    "    Y_k = copy(A_symm)\n",
    "    ΔS_k = zeros(size(A_symm))\n",
    "    R_k = similar(A_symm)\n",
    "    X_k = similar(A_symm)\n",
    "    diff_matrix = similar(A_symm)\n",
    "\n",
    "    @timeit timer \"nearest_corr_dykstra\" begin\n",
    "        for k in 1:max_iter\n",
    "            # Compute R_k = Y_k - ΔS_k in place\n",
    "            R_k .= Y_k .- ΔS_k\n",
    "\n",
    "            # Project R_k onto PSD cone with timing\n",
    "            X_k .= Project_onto_PSD(R_k, timer)\n",
    "\n",
    "            # Update ΔS_k = X_k - R_k in place\n",
    "            ΔS_k .= X_k .- R_k\n",
    "\n",
    "            # Project X_k onto unit diagonal in place with timing\n",
    "            Y_k .= X_k\n",
    "            project_onto_UD!(Y_k, timer)\n",
    "\n",
    "            # Convergence check\n",
    "            diff_matrix .= Y_k .- X_k\n",
    "            if norm(diff_matrix, Inf) / norm(Y_k, Inf) <= tol\n",
    "                println(\"Converged after $k iterations\")\n",
    "                return Y_k, k\n",
    "            end\n",
    "        end\n",
    "        println(\"Reached maximum iterations ($max_iter) without convergence\")\n",
    "        return Y_k, max_iter\n",
    "    end\n",
    "end"
   ]
  },
  {
   "cell_type": "code",
   "execution_count": 31,
   "id": "755b02d1-7ab7-4f16-8a04-a44b0410897d",
   "metadata": {},
   "outputs": [
    {
     "name": "stdout",
     "output_type": "stream",
     "text": [
      "=== POCS with Dykstra Using Eigen ===\n",
      "Converged after 68 iterations\n",
      "\u001b[0m\u001b[1m─────────────────────────────────────────────────────────────────────────────────\u001b[22m\n",
      "\u001b[0m\u001b[1m                               \u001b[22m         Time                    Allocations      \n",
      "                               ───────────────────────   ────────────────────────\n",
      "       Tot / % measured:            7.59s /  90.3%            834MiB /  95.5%    \n",
      "\n",
      "Section                ncalls     time    %tot     avg     alloc    %tot      avg\n",
      "─────────────────────────────────────────────────────────────────────────────────\n",
      "nearest_corr_dykstra        1    6.85s  100.0%   6.85s    797MiB  100.0%   797MiB\n",
      "  Project_onto_PSD         68    6.60s   96.3%  97.1ms    797MiB  100.0%  11.7MiB\n",
      "  project_onto_UD!         68    388μs    0.0%  5.71μs     0.00B    0.0%    0.00B\n",
      "\u001b[0m\u001b[1m─────────────────────────────────────────────────────────────────────────────────\u001b[22m\n",
      "Minimum Eigenvalue after projection: -6.047847777133707e-10\n",
      "|| A - X ||_F:: 4.832201154807294\n"
     ]
    }
   ],
   "source": [
    "# Example usage with timing\n",
    "A_symm = A  # Matrix\n",
    "\n",
    "println(\"=== POCS with Dykstra Using Eigen ===\")\n",
    "reset_timer!(to)  # Clear previous timings\n",
    "result3, iterations = nearest_corr_dykstra(A_symm)\n",
    "show(to)\n",
    "\n",
    "# Verify the result is PSD\n",
    "min_eigenval = minimum(eigen(Symmetric(result3)).values)\n",
    "println(\"\\nMinimum Eigenvalue after projection: \", min_eigenval)\n",
    "println(\"|| A - X ||_F:: \", norm(A_symm - result3))"
   ]
  },
  {
   "cell_type": "code",
   "execution_count": 32,
   "id": "26fae9c6-20db-46de-bbe5-f15961587276",
   "metadata": {},
   "outputs": [
    {
     "data": {
      "text/plain": [
       "550-element Vector{Float64}:\n",
       "  -6.047844150532975e-10\n",
       "  -3.6319367602751646e-10\n",
       "  -2.732830518548365e-10\n",
       "  -2.4916046452009173e-10\n",
       "  -1.6468523394715423e-10\n",
       "  -1.5605260839764283e-10\n",
       "  -1.0616267180438007e-10\n",
       "  -9.862714147207263e-11\n",
       "  -9.451709984037518e-11\n",
       "  -9.294156779171878e-11\n",
       "  -9.026596185497867e-11\n",
       "  -8.118409573145757e-11\n",
       "  -6.926879349286366e-11\n",
       "   ⋮\n",
       "   4.490691500688391\n",
       "   4.782119805170154\n",
       "   4.941768169430354\n",
       "   5.685239138255655\n",
       "   5.902227754937281\n",
       "   6.791839002609229\n",
       "   7.93856945295824\n",
       "   9.957192949327085\n",
       "  12.356194813084072\n",
       "  24.397391028112093\n",
       "  32.80662733602598\n",
       " 211.8342916627205"
      ]
     },
     "execution_count": 32,
     "metadata": {},
     "output_type": "execute_result"
    }
   ],
   "source": [
    "eigvals(result3)"
   ]
  },
  {
   "cell_type": "code",
   "execution_count": 33,
   "id": "65fcbe4a-23ad-4391-9f96-2809d7ce3ae6",
   "metadata": {
    "jupyter": {
     "source_hidden": true
    }
   },
   "outputs": [
    {
     "name": "stdout",
     "output_type": "stream",
     "text": [
      "Number of positive eigenvalues: 319\n",
      "Number of negative eigenvalues: 0\n",
      "Number of zero eigenvalues: 231\n",
      "Is positive semi-definite: true\n"
     ]
    }
   ],
   "source": [
    "using LinearAlgebra\n",
    "\n",
    "# Symmetrized result already computed\n",
    "x = eigvals(Symmetric(result3))\n",
    "\n",
    "# Count positive and negative eigenvalues\n",
    "count_positive = sum(x .> 1e-8)  # Positive, above tolerance\n",
    "count_negative = sum(x .< -1e-8) # Negative, below tolerance\n",
    "count_zero = sum(abs.(x) .<= 1e-8)  # Effectively zero\n",
    "\n",
    "# Print results\n",
    "println(\"Number of positive eigenvalues: \", count_positive)\n",
    "println(\"Number of negative eigenvalues: \", count_negative)\n",
    "println(\"Number of zero eigenvalues: \", count_zero)\n",
    "println(\"Is positive semi-definite: \", all(x .>= -1e-8))"
   ]
  },
  {
   "cell_type": "code",
   "execution_count": 34,
   "id": "b3536d3d-2232-4ac6-8558-905e84d9da42",
   "metadata": {},
   "outputs": [
    {
     "data": {
      "text/plain": [
       "550×550 Matrix{Float64}:\n",
       " 1.0       0.348824    0.335701   …  0.390104   0.245088   0.553258\n",
       " 0.348824  1.0         0.494602      0.33501    0.0218099  0.322162\n",
       " 0.335701  0.494602    1.0           0.260749  -0.0417248  0.224446\n",
       " 0.293713  0.319269    0.272949      0.295723   0.0541776  0.303945\n",
       " 0.496741  0.338192    0.31902       0.483068   0.309635   0.560501\n",
       " 0.351997  0.159118    0.15554    …  0.179852  -0.0288549  0.385928\n",
       " 0.52618   0.175307    0.185377      0.311417   0.167422   0.574414\n",
       " 0.536124  0.42099     0.364776      0.371376   0.200074   0.527033\n",
       " 0.482307  0.251446    0.240892      0.476542   0.38144    0.493932\n",
       " 0.355222  0.277319    0.350185      0.31687    0.0385936  0.348357\n",
       " 0.529067  0.479066    0.425781   …  0.441613   0.211707   0.470884\n",
       " 0.320696  0.408021    0.299245      0.185288  -0.0321147  0.345943\n",
       " 0.495921  0.358002    0.342245      0.376771   0.138183   0.550367\n",
       " ⋮                                ⋱                        \n",
       " 0.517379  0.513311    0.486389      0.545188   0.0738552  0.562319\n",
       " 0.319657  0.469458    0.511389      0.408523   0.0605762  0.351486\n",
       " 0.339345  0.165686    0.0851161  …  0.239509   0.108084   0.420212\n",
       " 0.274294  0.546426    0.400354      0.195115  -0.117867   0.301869\n",
       " 0.374968  0.417427    0.330859      0.240894   0.0478917  0.453893\n",
       " 0.568535  0.475347    0.475046      0.434183   0.129315   0.556893\n",
       " 0.37158   0.228586    0.217717      0.22408    0.0224647  0.312786\n",
       " 0.407641  0.38378     0.327505   …  0.386568   0.105062   0.533099\n",
       " 0.576625  0.419406    0.405597      0.452097   0.212365   0.45641\n",
       " 0.390104  0.33501     0.260749      1.0        0.374275   0.462491\n",
       " 0.245088  0.0218099  -0.0417248     0.374275   1.0        0.170179\n",
       " 0.553258  0.322162    0.224446      0.462491   0.170179   1.0"
      ]
     },
     "execution_count": 34,
     "metadata": {},
     "output_type": "execute_result"
    }
   ],
   "source": [
    "result3"
   ]
  },
  {
   "cell_type": "code",
   "execution_count": 35,
   "id": "5a4f2d99-d316-4d03-a29f-a1299d8550be",
   "metadata": {},
   "outputs": [
    {
     "data": {
      "text/plain": [
       "339"
      ]
     },
     "execution_count": 35,
     "metadata": {},
     "output_type": "execute_result"
    }
   ],
   "source": [
    "rank(result3)"
   ]
  },
  {
   "cell_type": "code",
   "execution_count": null,
   "id": "8d15d566-4440-4d79-8ee5-d010d9f67a0d",
   "metadata": {},
   "outputs": [],
   "source": []
  },
  {
   "cell_type": "markdown",
   "id": "915dd2ed-a248-45ba-b3c0-5d06679c2c22",
   "metadata": {},
   "source": [
    "# Online Tools"
   ]
  },
  {
   "cell_type": "code",
   "execution_count": null,
   "id": "aae46c02-e043-4c96-b6f6-790eacbc5c27",
   "metadata": {
    "jupyter": {
     "source_hidden": true
    }
   },
   "outputs": [],
   "source": [
    "using NearestCorrelationMatrix\n",
    "online1 = nearest_cor(A, AlternatingProjections())"
   ]
  },
  {
   "cell_type": "code",
   "execution_count": null,
   "id": "572af7de-d441-4aee-be9d-be4d3703e82a",
   "metadata": {},
   "outputs": [],
   "source": [
    "eigvals(online1)"
   ]
  },
  {
   "cell_type": "code",
   "execution_count": null,
   "id": "4f4debdf-0861-43a3-b361-003ec98e1827",
   "metadata": {},
   "outputs": [],
   "source": [
    "online2 = nearest_cor(A, Newton())"
   ]
  },
  {
   "cell_type": "code",
   "execution_count": null,
   "id": "c2fe2865-9485-45c7-b355-1aefffbfca85",
   "metadata": {},
   "outputs": [],
   "source": [
    "eigvals(online2)"
   ]
  },
  {
   "cell_type": "code",
   "execution_count": null,
   "id": "416006e1-d28e-479f-b2cb-9ff9e177e27a",
   "metadata": {},
   "outputs": [],
   "source": [
    "online3 = nearest_cor(A, DirectProjection())"
   ]
  },
  {
   "cell_type": "code",
   "execution_count": null,
   "id": "a2a1a93e-d096-47ab-96dc-b99de642cb3f",
   "metadata": {},
   "outputs": [],
   "source": [
    "eigvals(online3)"
   ]
  },
  {
   "cell_type": "code",
   "execution_count": null,
   "id": "5ebc4156-5dbc-4348-abc5-7a28dee0bb6c",
   "metadata": {},
   "outputs": [],
   "source": []
  },
  {
   "cell_type": "code",
   "execution_count": null,
   "id": "5be9eb8f-a694-46bd-8a84-5c98d6b77e77",
   "metadata": {},
   "outputs": [],
   "source": []
  },
  {
   "cell_type": "code",
   "execution_count": null,
   "id": "60099ff0-175f-4bc4-9e08-a204e1c8f27b",
   "metadata": {},
   "outputs": [],
   "source": []
  },
  {
   "cell_type": "markdown",
   "id": "b804714a-eaf8-4f1e-a0e2-4496522ce13a",
   "metadata": {},
   "source": [
    "## In conclusion, if performance (speed) is the primary concern, the Anderson-accelerated Higham method is superior, despite its higher memory footprint. If memory usage is a critical constraint, Dykstra's might be preferred, but it comes at the cost of longer execution time. Further optimization efforts for either method should clearly focus on improving the Project to PSD implementation."
   ]
  },
  {
   "cell_type": "code",
   "execution_count": null,
   "id": "61947abe-18cb-4919-8381-c8f05eb0a45e",
   "metadata": {},
   "outputs": [],
   "source": []
  },
  {
   "cell_type": "code",
   "execution_count": null,
   "id": "ef4e36b4-eec8-4dc0-a7d7-cca6b671bc53",
   "metadata": {},
   "outputs": [],
   "source": []
  },
  {
   "cell_type": "code",
   "execution_count": null,
   "id": "2dd7ee0e-afba-4fa9-b556-49eab8752de6",
   "metadata": {},
   "outputs": [],
   "source": []
  },
  {
   "cell_type": "code",
   "execution_count": 36,
   "id": "8d2417bc-2b31-4609-9f6e-8f14d163eaa1",
   "metadata": {},
   "outputs": [
    {
     "data": {
      "text/plain": [
       "test_nearest_correlation"
      ]
     },
     "execution_count": 36,
     "metadata": {},
     "output_type": "execute_result"
    }
   ],
   "source": [
    "# Projection onto the set of symmetric positive semidefinite matrices (S_n)\n",
    "# This function takes a symmetric matrix X and projects it onto the cone\n",
    "# of positive semidefinite matrices. It does this by computing the eigenvalue\n",
    "# decomposition, setting any negative eigenvalues to zero, and then reconstructing\n",
    "# the matrix.\n",
    "# The `timer` argument is passed through to enable profiling.\n",
    "function project_Sn(X::Matrix{Float64}; timer::TimerOutput=to)::Matrix{Float64}\n",
    "    @timeit timer \"Project to PSD (project_Sn)\" begin\n",
    "        F = Symmetric(X)                    # Ensure symmetry (cheap wrapper)\n",
    "        eig = eigen(F)                      # Eigen decomposition\n",
    "\n",
    "        λ = eig.values                      # Reuse existing array\n",
    "        # No change needed here, @inbounds is already good for performance\n",
    "        @inbounds for i in eachindex(λ)     # In-place zeroing of negatives\n",
    "            if λ[i] < 0.0\n",
    "                λ[i] = 0.0\n",
    "            end\n",
    "        end\n",
    "\n",
    "        # Reconstruct PSD matrix. Julia's multiplication handles this efficiently.\n",
    "        return eig.vectors * Diagonal(λ) * eig.vectors'\n",
    "    end\n",
    "end\n",
    "\n",
    "\n",
    "# Projection onto the set of matrices with unit diagonal (U_n)\n",
    "# This function takes a matrix X and projects it onto the set of matrices\n",
    "# where all diagonal elements are 1.0.\n",
    "# The `timer` argument is passed through to enable profiling.\n",
    "function project_Un(X::Matrix{Float64}; timer::TimerOutput=to)\n",
    "    @timeit timer \"Project to Unit Diagonal (project_Un)\" begin\n",
    "        Y = copy(X) # Create a mutable copy to modify. This copy is necessary as X might be part of historical data.\n",
    "        n = size(X, 1)\n",
    "        # Iterate through the diagonal elements and set them to 1.0\n",
    "        # Direct assignment to diagonal elements is efficient.\n",
    "        for i in 1:n\n",
    "            Y[i, i] = 1.0\n",
    "        end\n",
    "        return Y\n",
    "    end\n",
    "end\n",
    "\n",
    "# Fixed-point mapping g(X) for the alternating projections method\n",
    "# This function defines the core iteration for the Nearest Correlation Matrix problem\n",
    "# when solved by alternating projections. It first projects onto the PSD cone,\n",
    "# then onto the unit diagonal constraint.\n",
    "# The `timer` argument is passed through to enable profiling.\n",
    "function g(X::Matrix{Float64}; timer::TimerOutput=to)\n",
    "    @timeit timer \"Fixed-point mapping g(X)\" begin\n",
    "        # Pass the timer to the sub-functions for detailed profiling\n",
    "        return project_Un(project_Sn(X; timer=timer); timer=timer)\n",
    "    end\n",
    "end\n",
    "\n",
    "# Anderson acceleration for fixed-point iteration\n",
    "# This function implements the Anderson acceleration algorithm to speed up\n",
    "# the convergence of a fixed-point iteration `g(x) = x`.\n",
    "#\n",
    "# Arguments:\n",
    "# - g: The fixed-point mapping function (e.g., our `g` function above).\n",
    "# - x0: The initial guess for the fixed point (a matrix in this case).\n",
    "# - m: The memory parameter for Anderson acceleration (how many past iterates to use).\n",
    "# - tol: The convergence tolerance. The algorithm stops when `||xk_new - xk|| < tol * ||xk||`.\n",
    "# - max_iter: Maximum number of iterations to prevent infinite loops.\n",
    "# - timer: The TimerOutput object to record profiling data.\n",
    "#\n",
    "# Returns:\n",
    "# - xk: The converged (or last) iterate.\n",
    "# - iter: The number of iterations taken.\n",
    "# - converged: A boolean indicating whether the algorithm converged within `max_iter`.\n",
    "function anderson_acceleration(g_func, x0::Matrix{Float64}, m::Int, tol::Float64=1e-11, max_iter::Int=1000; timer::TimerOutput=to)\n",
    "    n = size(x0, 1) # Get the dimension of the matrix\n",
    "    xk = copy(x0) # Current iterate\n",
    "\n",
    "    # Record initial g(x0) calculation\n",
    "    local initial_g_x0\n",
    "    @timeit timer \"Anderson: Initial g(x0)\" begin\n",
    "        initial_g_x0 = g_func(x0; timer=timer)\n",
    "    end\n",
    "\n",
    "    x_history = [copy(x0)] # History of iterates\n",
    "    g_history = [initial_g_x0] # History of g(x) values\n",
    "    iter = 0 # Iteration counter\n",
    "    converged = false # Convergence flag\n",
    "\n",
    "    # Pre-allocate X_diff and G_diff outside the loop to avoid repeated allocations.\n",
    "    # These will be resized if mk changes, but typically mk is constant after a few iterations.\n",
    "    # For a fixed 'm', we can allocate once to the maximum possible size.\n",
    "    # We will then use views or copy data into them.\n",
    "    X_diff_store = Vector{Matrix{Float64}}(undef, m) # Stores x_j - x_k\n",
    "    G_diff_store = Vector{Matrix{Float64}}(undef, m) # Stores g(x_j) - g(x_k)\n",
    "\n",
    "    # Main iteration loop\n",
    "    @timeit timer \"Anderson: Iteration Loop\" begin\n",
    "        while iter < max_iter\n",
    "            iter += 1\n",
    "            # Determine the effective memory length for the current iteration\n",
    "            mk = min(m, length(x_history))\n",
    "\n",
    "            # If mk is 0 (no history or m=0), perform a simple fixed-point iteration\n",
    "            if mk == 0\n",
    "                xk_new = g_func(xk; timer=timer)\n",
    "            else\n",
    "                # Get g(xk) for current iterate, used in difference calculations\n",
    "                local g_xk_current\n",
    "                @timeit timer \"Anderson: g(xk) (mk>0)\" begin\n",
    "                    g_xk_current = g_func(xk; timer=timer)\n",
    "                end\n",
    "\n",
    "                # Populate the difference arrays with historical data\n",
    "                # Using views or direct assignment to pre-allocated arrays\n",
    "                for j in 1:mk\n",
    "                    # Calculate differences directly into temporary matrices or create them\n",
    "                    # and then reshape for the flattened operation\n",
    "                    X_diff_store[j] = x_history[end-j+1] - xk\n",
    "                    G_diff_store[j] = g_history[end-j+1] - g_xk_current\n",
    "                end\n",
    "\n",
    "                # Flatten the 3D arrays into 2D matrices for linear algebra operations.\n",
    "                # Each column in X_diff_flat and G_diff_flat corresponds to a vectorized difference.\n",
    "                # Use `hcat` and `vec` to efficiently create the flattened matrices\n",
    "                # only for the `mk` relevant elements.\n",
    "                X_diff_flat = hcat(vec.(X_diff_store[1:mk])...)\n",
    "                G_diff_flat = hcat(vec.(G_diff_store[1:mk])...)\n",
    "\n",
    "                # Calculate the coefficients θ using a least-squares solution.\n",
    "                local theta_calc_result\n",
    "                @timeit timer \"Anderson: pinv calculation\" begin\n",
    "                    # Reshape the current residual once\n",
    "                    current_residual_vec = reshape(g_xk_current - xk, n*n)\n",
    "                    theta_calc_result = pinv(G_diff_flat' * G_diff_flat) * G_diff_flat' * current_residual_vec\n",
    "                end\n",
    "                θ = theta_calc_result\n",
    "\n",
    "                # Compute the new accelerated iterate (xk_new)\n",
    "                uk = xk\n",
    "                vk = g_xk_current\n",
    "                # Perform the linear combination. This can be optimized to avoid recomputing terms.\n",
    "                # It's already fairly efficient due to Julia's broadcasting.\n",
    "                for j in 1:mk\n",
    "                    uk += θ[j] * X_diff_store[j] # Use pre-computed differences\n",
    "                    vk += θ[j] * G_diff_store[j] # Use pre-computed differences\n",
    "                end\n",
    "\n",
    "                # The new iterate is typically `vk` in this formulation.\n",
    "                xk_new = vk\n",
    "            end\n",
    "\n",
    "            # Check for convergence using the relative Frobenius norm of the difference\n",
    "            if norm(xk_new - xk) < tol * norm(xk)\n",
    "                converged = true\n",
    "                break\n",
    "            end\n",
    "\n",
    "            # Update the current iterate\n",
    "            xk = xk_new\n",
    "\n",
    "            # Store the current iterate and its g-value in history\n",
    "            push!(x_history, copy(xk))\n",
    "            # Re-evaluate g(xk) for the new xk to add to history.\n",
    "            push!(g_history, g_func(xk; timer=timer))\n",
    "\n",
    "            # Maintain the history length by removing the oldest entries if `m` is exceeded\n",
    "            if length(x_history) > m + 1\n",
    "                popfirst!(x_history)\n",
    "                popfirst!(g_history)\n",
    "            end\n",
    "        end # end while\n",
    "    end # end @timeit \"Anderson: Iteration Loop\"\n",
    "\n",
    "    return xk, iter, converged\n",
    "end\n",
    "\n",
    "# Nearest correlation matrix function\n",
    "# This function takes an input matrix A and uses Anderson acceleration\n",
    "# to find its nearest correlation matrix.\n",
    "#\n",
    "# Arguments:\n",
    "# - A: The input symmetric matrix.\n",
    "# - m: Memory parameter for Anderson acceleration.\n",
    "# - tol: Convergence tolerance.\n",
    "# - max_iter: Maximum number of iterations.\n",
    "# - timer: The TimerOutput object to record profiling data.\n",
    "#\n",
    "# Returns:\n",
    "# - X: The computed nearest correlation matrix.\n",
    "# - iter: Number of iterations taken.\n",
    "# - converged: Boolean indicating convergence.\n",
    "function nearest_correlation_matrix(A::Matrix{Float64}, m::Int=4, tol::Float64=1e-11, max_iter::Int=1000; timer::TimerOutput=to)\n",
    "    local X, iter, converged # Declare local variables for the result\n",
    "    @timeit timer \"Nearest Correlation Matrix (Total)\" begin # Overall timing for this function\n",
    "        A_sym = (A + A') / 2 # Ensure symmetry\n",
    "        @timeit timer \"Anderson Acceleration Call\" begin # Timing the call to Anderson acceleration\n",
    "            # Pass the timer to the Anderson acceleration function\n",
    "            X, iter, converged = anderson_acceleration(g, A_sym, m, tol, max_iter; timer=timer)\n",
    "        end\n",
    "    end # End of overall timing\n",
    "\n",
    "    return X, iter, converged\n",
    "end\n",
    "\n",
    "\"\"\"\n",
    "    test_nearest_correlation(A550; filename)\n",
    "\n",
    "Computes the nearest correlation matrix, prints key diagnostics including\n",
    "a condensed view of the matrix and its eigenvalues, and saves the result to a CSV file.\n",
    "\"\"\"\n",
    "function test_nearest_correlation(A_input::Matrix{Float64}; filename::String=\"nearest_correlation_matrix.csv\")\n",
    "    n = size(A_input, 1)\n",
    "\n",
    "    # Ensure symmetry for the initial matrix A.\n",
    "    A_initial = (A_input + A_input') / 2\n",
    "\n",
    "    println(\"Input matrix size: $n x $n\")\n",
    "    println(\"Starting computation...\")\n",
    "\n",
    "    # Reset the global timer before running the computation to get a clean report\n",
    "    reset_timer!(to)\n",
    "\n",
    "    # --- Compute the nearest correlation matrix ---\n",
    "    X, iter, converged = nearest_correlation_matrix(A_initial, 4, 1e-11, 1000; timer=to)\n",
    "\n",
    "    println(\"\\n--- Results ---\")\n",
    "    println(\"Resulting correlation matrix (condensed view):\")\n",
    "    display(X)\n",
    "\n",
    "    println(\"\\nIterations: \", iter)\n",
    "    println(\"Converged: \", converged)\n",
    "    println(\"Diagonal is unit: \", all(abs.(diag(X) .- 1.0) .< 1e-11))\n",
    "\n",
    "    # --- Eigenvalue Calculation and Display ---\n",
    "    # Ensure to pass a Symmetric view for more efficient eigenvalue computation if X is large\n",
    "    eigenvals = eigen(Symmetric(X)).values\n",
    "\n",
    "    println(\"Minimum eigenvalue: \", minimum(eigenvals))\n",
    "\n",
    "    println(\"\\nAll eigenvalues of the result matrix (condensed view):\")\n",
    "    display(eigenvals)\n",
    "\n",
    "    # --- Detailed Eigenvalue Analysis ---\n",
    "    eigen_tolerance = 1e-8\n",
    "\n",
    "    count_positive = sum(eigenvals .> eigen_tolerance)\n",
    "    count_negative = sum(eigenvals .< -eigen_tolerance)\n",
    "    count_zero = sum(abs.(eigenvals) .<= eigen_tolerance)\n",
    "\n",
    "    println(\"\\n--- Eigenvalue Counts ---\")\n",
    "    println(\"Number of positive eigenvalues: \", count_positive)\n",
    "    println(\"Number of negative eigenvalues: \", count_negative)\n",
    "    println(\"Number of zero eigenvalues (within tolerance $eigen_tolerance): \", count_zero)\n",
    "\n",
    "    is_psd = all(eigenvals .>= -eigen_tolerance)\n",
    "\n",
    "    println(\"Is positive semi-definite (within tolerance $eigen_tolerance): \", is_psd)\n",
    "\n",
    "\n",
    "    # --- Calculate and print the Frobenius norm of the difference between A_input and X ---\n",
    "    # Using `norm(A_input - X)` defaults to Frobenius norm for matrices.\n",
    "    frob_norm_diff = norm(A_input - X)\n",
    "    println(\"|| A_input - X ||_F (Frobenius norm of difference): \", frob_norm_diff)\n",
    "\n",
    "    # --- Save the full matrix to a file ---\n",
    "    try\n",
    "        CSV.write(filename, DataFrame(X, :auto))\n",
    "        println(\"\\nCorrelation matrix saved to file: $filename\")\n",
    "    catch e\n",
    "        println(\"\\nError saving file: $e\")\n",
    "    end\n",
    "\n",
    "    println(\"\\n--- Timer Output ---\")\n",
    "    show(to) # Display the timing results\n",
    "end\n",
    "\n",
    "# --- Example Usage ---\n",
    "# Define an example matrix A.\n",
    "# This matrix is symmetric but not necessarily positive semidefinite or with unit diagonal.\n",
    "# For demonstration, let's use a small 3x3 example.\n",
    "\n",
    "# You can replace A_example with your actual A550 matrix if you have it.\n",
    "# For example, if A550 is loaded from a file:\n",
    "# using DelimitedFiles\n",
    "# A550 = readdlm(\"your_A550_matrix.txt\", ' ', Float64) # Adjust delimiter as needed"
   ]
  },
  {
   "cell_type": "code",
   "execution_count": 37,
   "id": "92ba655f-2e08-4e71-9be9-78658e91458b",
   "metadata": {},
   "outputs": [
    {
     "name": "stdout",
     "output_type": "stream",
     "text": [
      "Input matrix size: 550 x 550\n",
      "Starting computation...\n",
      "\n",
      "--- Results ---\n",
      "Resulting correlation matrix (condensed view):\n"
     ]
    },
    {
     "data": {
      "text/plain": [
       "550×550 Matrix{Float64}:\n",
       " 1.0       0.348434    0.335672   …  0.390958   0.245139   0.552489\n",
       " 0.348434  1.0         0.494776      0.334141   0.0215879  0.321325\n",
       " 0.335672  0.494776    1.0           0.260155  -0.0403294  0.224917\n",
       " 0.294723  0.319682    0.27292       0.295401   0.0540567  0.304636\n",
       " 0.496025  0.339544    0.319576      0.483519   0.310426   0.559431\n",
       " 0.351954  0.160558    0.154476   …  0.17982   -0.0289197  0.386818\n",
       " 0.526511  0.175926    0.1858        0.311229   0.167778   0.57491\n",
       " 0.535789  0.418845    0.36373       0.373147   0.201152   0.527285\n",
       " 0.482583  0.251914    0.240439      0.47792    0.381324   0.493954\n",
       " 0.354801  0.27913     0.349082      0.315069   0.0372338  0.348344\n",
       " 0.528507  0.47808     0.425725   …  0.440886   0.210689   0.469844\n",
       " 0.321179  0.407466    0.299061      0.186324  -0.0312104  0.345085\n",
       " 0.497417  0.357395    0.342454      0.37841    0.13869    0.549893\n",
       " ⋮                                ⋱                        \n",
       " 0.51704   0.5137      0.486519      0.543618   0.0735433  0.562891\n",
       " 0.319912  0.467827    0.511188      0.409052   0.0616598  0.350377\n",
       " 0.340417  0.166234    0.0855257  …  0.239449   0.108365   0.419168\n",
       " 0.273798  0.547074    0.400175      0.193882  -0.119068   0.302853\n",
       " 0.374869  0.416095    0.331743      0.243114   0.0479662  0.451599\n",
       " 0.568176  0.474728    0.473611      0.434275   0.129375   0.556935\n",
       " 0.371042  0.228633    0.218447      0.223563   0.0220278  0.313686\n",
       " 0.406829  0.383882    0.328076   …  0.386948   0.104311   0.533516\n",
       " 0.576184  0.419629    0.404187      0.451837   0.212303   0.454529\n",
       " 0.390958  0.334141    0.260155      1.0        0.373985   0.461093\n",
       " 0.245139  0.0215879  -0.0403294     0.373985   1.0        0.170404\n",
       " 0.552489  0.321325    0.224917      0.461093   0.170404   1.0"
      ]
     },
     "metadata": {},
     "output_type": "display_data"
    },
    {
     "name": "stdout",
     "output_type": "stream",
     "text": [
      "\n",
      "Iterations: 10\n",
      "Converged: true\n",
      "Diagonal is unit: true\n",
      "1.4322264286446897e-7\n",
      "\n",
      "All eigenvalues of the result matrix (condensed view):\n"
     ]
    },
    {
     "data": {
      "text/plain": [
       "550-element Vector{Float64}:\n",
       "   1.4322264286446897e-7\n",
       "   2.5672371883608847e-6\n",
       "   1.1679568177522104e-5\n",
       "   2.2775957427585812e-5\n",
       "   3.506879331404799e-5\n",
       "   3.965289799342748e-5\n",
       "   3.9879474031942147e-5\n",
       "   4.898268449688848e-5\n",
       "   5.1808069909574877e-5\n",
       "   5.58175040637365e-5\n",
       "   5.760680083710833e-5\n",
       "   6.0241819309304504e-5\n",
       "   6.651636199240029e-5\n",
       "   ⋮\n",
       "   4.4819414160585005\n",
       "   4.772399523232327\n",
       "   4.93360609433619\n",
       "   5.678950470317475\n",
       "   5.892830164915588\n",
       "   6.7817746014924145\n",
       "   7.928903426856586\n",
       "   9.950854231905932\n",
       "  12.350437741737936\n",
       "  24.388692004110002\n",
       "  32.801873202343515\n",
       " 211.8259788244237"
      ]
     },
     "metadata": {},
     "output_type": "display_data"
    },
    {
     "name": "stdout",
     "output_type": "stream",
     "text": [
      "\n",
      "--- Eigenvalue Counts ---\n",
      "Number of positive eigenvalues: 550\n",
      "Number of negative eigenvalues: 0\n",
      "Number of zero eigenvalues (within tolerance 1.0e-8): 0\n",
      "Is positive semi-definite (within tolerance 1.0e-8): true\n",
      "|| A_input - X ||_F (Frobenius norm of difference): 5.0715140218029\n",
      "\n",
      "Correlation matrix saved to file: nearest_correlation_matrix.csv\n",
      "\n",
      "--- Timer Output ---\n",
      "\u001b[0m\u001b[1m────────────────────────────────────────────────────────────────────────────────────────────────────────────\u001b[22m\n",
      "\u001b[0m\u001b[1m                                                          \u001b[22m         Time                    Allocations      \n",
      "                                                          ───────────────────────   ────────────────────────\n",
      "                    Tot / % measured:                          6.26s /  55.5%           1.16GiB /  89.3%    \n",
      "\n",
      "Section                                           ncalls     time    %tot     avg     alloc    %tot      avg\n",
      "────────────────────────────────────────────────────────────────────────────────────────────────────────────\n",
      "Nearest Correlation Matrix (Total)                     1    3.47s  100.0%   3.47s   1.03GiB  100.0%  1.03GiB\n",
      "  Anderson Acceleration Call                           1    3.47s  100.0%   3.47s   1.03GiB   99.6%  1.03GiB\n",
      "    Anderson: Iteration Loop                           1    3.42s   98.3%   3.42s   1.01GiB   97.8%  1.01GiB\n",
      "      Fixed-point mapping g(X)                         9    790ms   22.7%  87.8ms    126MiB   11.9%  14.0MiB\n",
      "        Project to PSD (project_Sn)                    9    783ms   22.5%  87.0ms    105MiB   10.0%  11.7MiB\n",
      "        Project to Unit Diagonal (project_Un)          9   6.96ms    0.2%   773μs   20.8MiB    2.0%  2.31MiB\n",
      "      Anderson: pinv calculation                      10    647ms   18.6%  64.7ms   67.6MiB    6.4%  6.76MiB\n",
      "      Anderson: g(xk) (mk>0)                          10    480ms   13.8%  48.0ms    140MiB   13.3%  14.0MiB\n",
      "        Fixed-point mapping g(X)                      10    480ms   13.8%  48.0ms    140MiB   13.3%  14.0MiB\n",
      "          Project to PSD (project_Sn)                 10    471ms   13.6%  47.1ms    117MiB   11.1%  11.7MiB\n",
      "          Project to Unit Diagonal (project_Un)       10   8.60ms    0.2%   860μs   23.1MiB    2.2%  2.31MiB\n",
      "    Anderson: Initial g(x0)                            1   54.5ms    1.6%  54.5ms   14.0MiB    1.3%  14.0MiB\n",
      "      Fixed-point mapping g(X)                         1   54.5ms    1.6%  54.5ms   14.0MiB    1.3%  14.0MiB\n",
      "        Project to PSD (project_Sn)                    1   53.4ms    1.5%  53.4ms   11.7MiB    1.1%  11.7MiB\n",
      "        Project to Unit Diagonal (project_Un)          1   1.09ms    0.0%  1.09ms   2.31MiB    0.2%  2.31MiB\n",
      "\u001b[0m\u001b[1m────────────────────────────────────────────────────────────────────────────────────────────────────────────\u001b[22m"
     ]
    }
   ],
   "source": [
    "# Run the test function with the example matrix\n",
    "test_nearest_correlation(A)"
   ]
  },
  {
   "cell_type": "code",
   "execution_count": null,
   "id": "487f2a16-9750-4af0-a5fd-da90e92d6cfd",
   "metadata": {},
   "outputs": [],
   "source": []
  },
  {
   "cell_type": "code",
   "execution_count": null,
   "id": "aa37d0b6-fa0a-4e7b-b6ec-481002b5d31e",
   "metadata": {},
   "outputs": [],
   "source": []
  },
  {
   "cell_type": "code",
   "execution_count": null,
   "id": "5e9eeca4-41a6-4911-924d-0a4ded32a48e",
   "metadata": {},
   "outputs": [],
   "source": []
  },
  {
   "cell_type": "code",
   "execution_count": null,
   "id": "305f530b-dfe3-4d22-8c12-d37dbd902e85",
   "metadata": {},
   "outputs": [],
   "source": []
  },
  {
   "cell_type": "code",
   "execution_count": null,
   "id": "b0be79ba-d352-4dff-8b95-67e1e2e31e44",
   "metadata": {},
   "outputs": [],
   "source": []
  }
 ],
 "metadata": {
  "kernelspec": {
   "display_name": "Julia 1.11.6",
   "language": "julia",
   "name": "julia-1.11"
  },
  "language_info": {
   "file_extension": ".jl",
   "mimetype": "application/julia",
   "name": "julia",
   "version": "1.11.6"
  }
 },
 "nbformat": 4,
 "nbformat_minor": 5
}
